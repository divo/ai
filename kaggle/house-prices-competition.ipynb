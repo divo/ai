{
 "cells": [
  {
   "cell_type": "markdown",
   "metadata": {},
   "source": [
    "# House price analysis"
   ]
  },
  {
   "cell_type": "markdown",
   "metadata": {},
   "source": [
    "## Setup"
   ]
  },
  {
   "cell_type": "code",
   "execution_count": 7,
   "metadata": {
    "execution": {
     "iopub.execute_input": "2023-05-11T16:38:00.035019Z",
     "iopub.status.busy": "2023-05-11T16:38:00.034594Z",
     "iopub.status.idle": "2023-05-11T16:38:28.991030Z",
     "shell.execute_reply": "2023-05-11T16:38:28.989583Z",
     "shell.execute_reply.started": "2023-05-11T16:38:00.034985Z"
    }
   },
   "outputs": [],
   "source": [
    "# This takes a long time / hangs, so don't do it unless we need to.\n",
    "!pip install -Uq pandas kaggle fastai scikit-learn waterfallcharts treeinterpreter dtreeviz"
   ]
  },
  {
   "cell_type": "code",
   "execution_count": 8,
   "metadata": {
    "execution": {
     "iopub.execute_input": "2023-05-11T16:38:28.994409Z",
     "iopub.status.busy": "2023-05-11T16:38:28.993918Z",
     "iopub.status.idle": "2023-05-11T16:38:35.206746Z",
     "shell.execute_reply": "2023-05-11T16:38:35.205730Z",
     "shell.execute_reply.started": "2023-05-11T16:38:28.994359Z"
    }
   },
   "outputs": [],
   "source": [
    "import pandas as pd\n",
    "import numpy as np\n",
    "import os, zipfile\n",
    "from fastai import * \n",
    "from fastai.tabular.all import *\n",
    "from pathlib import Path\n",
    "from sklearn.ensemble import RandomForestRegressor\n",
    "from sklearn.tree import *\n",
    "from dtreeviz.trees import *\n",
    "import graphviz\n",
    "from IPython.display import Image, display_svg, SVG\n",
    "\n",
    "pd.options.display.max_rows = 20\n",
    "pd.options.display.max_columns = 8"
   ]
  },
  {
   "cell_type": "code",
   "execution_count": 9,
   "metadata": {
    "execution": {
     "iopub.execute_input": "2023-05-11T16:38:35.208793Z",
     "iopub.status.busy": "2023-05-11T16:38:35.208162Z",
     "iopub.status.idle": "2023-05-11T16:38:35.216066Z",
     "shell.execute_reply": "2023-05-11T16:38:35.214793Z",
     "shell.execute_reply.started": "2023-05-11T16:38:35.208759Z"
    }
   },
   "outputs": [],
   "source": [
    "creds = '{\"username\":\"divodivenson\",\"key\":\"f0f9e3f8378e39e818097a5df978aa64\"}'\n",
    "cred_path = Path('~/.kaggle/kaggle.json').expanduser()\n",
    "if not cred_path.exists():\n",
    "    cred_path.parent.mkdir(exist_ok=True)\n",
    "    cred_path.write_text(creds)\n",
    "    cred_path.chmod(0o600)"
   ]
  },
  {
   "cell_type": "code",
   "execution_count": 10,
   "metadata": {
    "execution": {
     "iopub.execute_input": "2023-05-11T16:38:35.219382Z",
     "iopub.status.busy": "2023-05-11T16:38:35.218938Z",
     "iopub.status.idle": "2023-05-11T16:38:35.294212Z",
     "shell.execute_reply": "2023-05-11T16:38:35.293196Z",
     "shell.execute_reply.started": "2023-05-11T16:38:35.219346Z"
    }
   },
   "outputs": [
    {
     "data": {
      "text/plain": [
       "(#4) [Path('../input/house-prices-advanced-regression-techniques/test.csv'),Path('../input/house-prices-advanced-regression-techniques/data_description.txt'),Path('../input/house-prices-advanced-regression-techniques/train.csv'),Path('../input/house-prices-advanced-regression-techniques/sample_submission.csv')]"
      ]
     },
     "execution_count": 10,
     "metadata": {},
     "output_type": "execute_result"
    }
   ],
   "source": [
    "from kaggle import api\n",
    "comp = 'house-prices-advanced-regression-techniques'\n",
    "path = Path(f'../input/{comp}')\n",
    "if not path.exists():\n",
    "    path.mkdir(parents=true)\n",
    "    api.competition_download_cli(comp, path=path)\n",
    "    shutil.unpack_archive(str(path/f'{comp}.zip'), str(path))\n",
    "\n",
    "path.ls(file_type='text')"
   ]
  },
  {
   "cell_type": "markdown",
   "metadata": {},
   "source": [
    "## First look at data\n"
   ]
  },
  {
   "cell_type": "code",
   "execution_count": 11,
   "metadata": {
    "execution": {
     "iopub.execute_input": "2023-05-11T16:38:35.297651Z",
     "iopub.status.busy": "2023-05-11T16:38:35.296909Z",
     "iopub.status.idle": "2023-05-11T16:38:35.412168Z",
     "shell.execute_reply": "2023-05-11T16:38:35.410904Z",
     "shell.execute_reply.started": "2023-05-11T16:38:35.297608Z"
    }
   },
   "outputs": [
    {
     "data": {
      "text/html": [
       "<div>\n",
       "<style scoped>\n",
       "    .dataframe tbody tr th:only-of-type {\n",
       "        vertical-align: middle;\n",
       "    }\n",
       "\n",
       "    .dataframe tbody tr th {\n",
       "        vertical-align: top;\n",
       "    }\n",
       "\n",
       "    .dataframe thead th {\n",
       "        text-align: right;\n",
       "    }\n",
       "</style>\n",
       "<table border=\"1\" class=\"dataframe\">\n",
       "  <thead>\n",
       "    <tr style=\"text-align: right;\">\n",
       "      <th></th>\n",
       "      <th>Id</th>\n",
       "      <th>MSSubClass</th>\n",
       "      <th>MSZoning</th>\n",
       "      <th>LotFrontage</th>\n",
       "      <th>...</th>\n",
       "      <th>MoSold</th>\n",
       "      <th>YrSold</th>\n",
       "      <th>SaleType</th>\n",
       "      <th>SaleCondition</th>\n",
       "    </tr>\n",
       "  </thead>\n",
       "  <tbody>\n",
       "    <tr>\n",
       "      <th>0</th>\n",
       "      <td>1461</td>\n",
       "      <td>20</td>\n",
       "      <td>RH</td>\n",
       "      <td>80.0</td>\n",
       "      <td>...</td>\n",
       "      <td>6</td>\n",
       "      <td>2010</td>\n",
       "      <td>WD</td>\n",
       "      <td>Normal</td>\n",
       "    </tr>\n",
       "    <tr>\n",
       "      <th>1</th>\n",
       "      <td>1462</td>\n",
       "      <td>20</td>\n",
       "      <td>RL</td>\n",
       "      <td>81.0</td>\n",
       "      <td>...</td>\n",
       "      <td>6</td>\n",
       "      <td>2010</td>\n",
       "      <td>WD</td>\n",
       "      <td>Normal</td>\n",
       "    </tr>\n",
       "    <tr>\n",
       "      <th>2</th>\n",
       "      <td>1463</td>\n",
       "      <td>60</td>\n",
       "      <td>RL</td>\n",
       "      <td>74.0</td>\n",
       "      <td>...</td>\n",
       "      <td>3</td>\n",
       "      <td>2010</td>\n",
       "      <td>WD</td>\n",
       "      <td>Normal</td>\n",
       "    </tr>\n",
       "    <tr>\n",
       "      <th>3</th>\n",
       "      <td>1464</td>\n",
       "      <td>60</td>\n",
       "      <td>RL</td>\n",
       "      <td>78.0</td>\n",
       "      <td>...</td>\n",
       "      <td>6</td>\n",
       "      <td>2010</td>\n",
       "      <td>WD</td>\n",
       "      <td>Normal</td>\n",
       "    </tr>\n",
       "    <tr>\n",
       "      <th>4</th>\n",
       "      <td>1465</td>\n",
       "      <td>120</td>\n",
       "      <td>RL</td>\n",
       "      <td>43.0</td>\n",
       "      <td>...</td>\n",
       "      <td>1</td>\n",
       "      <td>2010</td>\n",
       "      <td>WD</td>\n",
       "      <td>Normal</td>\n",
       "    </tr>\n",
       "    <tr>\n",
       "      <th>...</th>\n",
       "      <td>...</td>\n",
       "      <td>...</td>\n",
       "      <td>...</td>\n",
       "      <td>...</td>\n",
       "      <td>...</td>\n",
       "      <td>...</td>\n",
       "      <td>...</td>\n",
       "      <td>...</td>\n",
       "      <td>...</td>\n",
       "    </tr>\n",
       "    <tr>\n",
       "      <th>1454</th>\n",
       "      <td>2915</td>\n",
       "      <td>160</td>\n",
       "      <td>RM</td>\n",
       "      <td>21.0</td>\n",
       "      <td>...</td>\n",
       "      <td>6</td>\n",
       "      <td>2006</td>\n",
       "      <td>WD</td>\n",
       "      <td>Normal</td>\n",
       "    </tr>\n",
       "    <tr>\n",
       "      <th>1455</th>\n",
       "      <td>2916</td>\n",
       "      <td>160</td>\n",
       "      <td>RM</td>\n",
       "      <td>21.0</td>\n",
       "      <td>...</td>\n",
       "      <td>4</td>\n",
       "      <td>2006</td>\n",
       "      <td>WD</td>\n",
       "      <td>Abnorml</td>\n",
       "    </tr>\n",
       "    <tr>\n",
       "      <th>1456</th>\n",
       "      <td>2917</td>\n",
       "      <td>20</td>\n",
       "      <td>RL</td>\n",
       "      <td>160.0</td>\n",
       "      <td>...</td>\n",
       "      <td>9</td>\n",
       "      <td>2006</td>\n",
       "      <td>WD</td>\n",
       "      <td>Abnorml</td>\n",
       "    </tr>\n",
       "    <tr>\n",
       "      <th>1457</th>\n",
       "      <td>2918</td>\n",
       "      <td>85</td>\n",
       "      <td>RL</td>\n",
       "      <td>62.0</td>\n",
       "      <td>...</td>\n",
       "      <td>7</td>\n",
       "      <td>2006</td>\n",
       "      <td>WD</td>\n",
       "      <td>Normal</td>\n",
       "    </tr>\n",
       "    <tr>\n",
       "      <th>1458</th>\n",
       "      <td>2919</td>\n",
       "      <td>60</td>\n",
       "      <td>RL</td>\n",
       "      <td>74.0</td>\n",
       "      <td>...</td>\n",
       "      <td>11</td>\n",
       "      <td>2006</td>\n",
       "      <td>WD</td>\n",
       "      <td>Normal</td>\n",
       "    </tr>\n",
       "  </tbody>\n",
       "</table>\n",
       "<p>1459 rows × 80 columns</p>\n",
       "</div>"
      ],
      "text/plain": [
       "        Id  MSSubClass MSZoning  LotFrontage  ...  MoSold YrSold SaleType   \n",
       "0     1461          20       RH         80.0  ...       6   2010       WD  \\\n",
       "1     1462          20       RL         81.0  ...       6   2010       WD   \n",
       "2     1463          60       RL         74.0  ...       3   2010       WD   \n",
       "3     1464          60       RL         78.0  ...       6   2010       WD   \n",
       "4     1465         120       RL         43.0  ...       1   2010       WD   \n",
       "...    ...         ...      ...          ...  ...     ...    ...      ...   \n",
       "1454  2915         160       RM         21.0  ...       6   2006       WD   \n",
       "1455  2916         160       RM         21.0  ...       4   2006       WD   \n",
       "1456  2917          20       RL        160.0  ...       9   2006       WD   \n",
       "1457  2918          85       RL         62.0  ...       7   2006       WD   \n",
       "1458  2919          60       RL         74.0  ...      11   2006       WD   \n",
       "\n",
       "     SaleCondition  \n",
       "0           Normal  \n",
       "1           Normal  \n",
       "2           Normal  \n",
       "3           Normal  \n",
       "4           Normal  \n",
       "...            ...  \n",
       "1454        Normal  \n",
       "1455       Abnorml  \n",
       "1456       Abnorml  \n",
       "1457        Normal  \n",
       "1458        Normal  \n",
       "\n",
       "[1459 rows x 80 columns]"
      ]
     },
     "execution_count": 11,
     "metadata": {},
     "output_type": "execute_result"
    }
   ],
   "source": [
    "trn_path = path/'train.csv'\n",
    "df = pd.read_csv(trn_path, low_memory=False)\n",
    "\n",
    "df_test = pd.read_csv(path/'test.csv', low_memory=False)\n",
    "\n",
    "df_test"
   ]
  },
  {
   "cell_type": "code",
   "execution_count": 12,
   "metadata": {
    "execution": {
     "iopub.execute_input": "2023-05-11T16:38:35.414138Z",
     "iopub.status.busy": "2023-05-11T16:38:35.413660Z",
     "iopub.status.idle": "2023-05-11T16:38:35.439002Z",
     "shell.execute_reply": "2023-05-11T16:38:35.437968Z",
     "shell.execute_reply.started": "2023-05-11T16:38:35.414095Z"
    }
   },
   "outputs": [
    {
     "data": {
      "text/plain": [
       "Index([1460,   15,    5,  111, 1073,    2,    3,    4,    4,    2,    5,    3,\n",
       "         25,    9,    8,    5,    8,   10,    9,  112,   61,    6,    8,   15,\n",
       "         16,    4,  328,    4,    5,    6,    5,    5,    5,    7,  637,    7,\n",
       "        144,  780,  721,    6,    5,    2,    6,  753,  417,   24,  861,    4,\n",
       "          3,    4,    3,    8,    4,    4,   12,    7,    4,    6,    7,   98,\n",
       "          4,    5,  441,    6,    6,    3,  274,  202,  120,   20,   76,    8,\n",
       "          4,    5,    5,   21,   12,    5,    9,    6,  663],\n",
       "      dtype='int64')"
      ]
     },
     "execution_count": 12,
     "metadata": {},
     "output_type": "execute_result"
    }
   ],
   "source": [
    "# Lets get an idea of where the ordianls are\n",
    "df.columns.map(lambda col: df[col].unique().size )"
   ]
  },
  {
   "cell_type": "code",
   "execution_count": 13,
   "metadata": {
    "execution": {
     "iopub.execute_input": "2023-05-11T16:38:35.440763Z",
     "iopub.status.busy": "2023-05-11T16:38:35.440404Z",
     "iopub.status.idle": "2023-05-11T16:38:35.474357Z",
     "shell.execute_reply": "2023-05-11T16:38:35.473122Z",
     "shell.execute_reply.started": "2023-05-11T16:38:35.440734Z"
    }
   },
   "outputs": [
    {
     "data": {
      "text/plain": [
       "Index(['Id - Continuous\\n',\n",
       "       'MSSubClass [ 60  20  70  50 190  45  90 120  30  85  80 160  75 180  40]\\n',\n",
       "       'MSZoning ['RL' 'RM' 'C (all)' 'FV' 'RH']\\n',\n",
       "       'LotFrontage - Continuous\\n', 'LotArea - Continuous\\n',\n",
       "       'Street ['Pave' 'Grvl']\\n', 'Alley [nan 'Grvl' 'Pave']\\n',\n",
       "       'LotShape ['Reg' 'IR1' 'IR2' 'IR3']\\n',\n",
       "       'LandContour ['Lvl' 'Bnk' 'Low' 'HLS']\\n',\n",
       "       'Utilities ['AllPub' 'NoSeWa']\\n',\n",
       "       'LotConfig ['Inside' 'FR2' 'Corner' 'CulDSac' 'FR3']\\n',\n",
       "       'LandSlope ['Gtl' 'Mod' 'Sev']\\n',\n",
       "       'Neighborhood ['CollgCr' 'Veenker' 'Crawfor' 'NoRidge' 'Mitchel' 'Somerst' 'NWAmes'\\n 'OldTown' 'BrkSide' 'Sawyer' 'NridgHt' 'NAmes' 'SawyerW' 'IDOTRR'\\n 'MeadowV' 'Edwards' 'Timber' 'Gilbert' 'StoneBr' 'ClearCr' 'NPkVill'\\n 'Blmngtn' 'BrDale' 'SWISU' 'Blueste']\\n',\n",
       "       'Condition1 ['Norm' 'Feedr' 'PosN' 'Artery' 'RRAe' 'RRNn' 'RRAn' 'PosA' 'RRNe']\\n',\n",
       "       'Condition2 ['Norm' 'Artery' 'RRNn' 'Feedr' 'PosN' 'PosA' 'RRAn' 'RRAe']\\n',\n",
       "       'BldgType ['1Fam' '2fmCon' 'Duplex' 'TwnhsE' 'Twnhs']\\n',\n",
       "       'HouseStyle ['2Story' '1Story' '1.5Fin' '1.5Unf' 'SFoyer' 'SLvl' '2.5Unf' '2.5Fin']\\n',\n",
       "       'OverallQual [ 7  6  8  5  9  4 10  3  1  2]\\n',\n",
       "       'OverallCond [5 8 6 7 4 2 3 9 1]\\n', 'YearBuilt - Continuous\\n',\n",
       "       'YearRemodAdd - Continuous\\n',\n",
       "       'RoofStyle ['Gable' 'Hip' 'Gambrel' 'Mansard' 'Flat' 'Shed']\\n',\n",
       "       'RoofMatl ['CompShg' 'WdShngl' 'Metal' 'WdShake' 'Membran' 'Tar&Grv' 'Roll'\\n 'ClyTile']\\n',\n",
       "       'Exterior1st ['VinylSd' 'MetalSd' 'Wd Sdng' 'HdBoard' 'BrkFace' 'WdShing' 'CemntBd'\\n 'Plywood' 'AsbShng' 'Stucco' 'BrkComm' 'AsphShn' 'Stone' 'ImStucc'\\n 'CBlock']\\n',\n",
       "       'Exterior2nd ['VinylSd' 'MetalSd' 'Wd Shng' 'HdBoard' 'Plywood' 'Wd Sdng' 'CmentBd'\\n 'BrkFace' 'Stucco' 'AsbShng' 'Brk Cmn' 'ImStucc' 'AsphShn' 'Stone'\\n 'Other' 'CBlock']\\n',\n",
       "       'MasVnrType ['BrkFace' nan 'Stone' 'BrkCmn']\\n',\n",
       "       'MasVnrArea - Continuous\\n', 'ExterQual ['Gd' 'TA' 'Ex' 'Fa']\\n',\n",
       "       'ExterCond ['TA' 'Gd' 'Fa' 'Po' 'Ex']\\n',\n",
       "       'Foundation ['PConc' 'CBlock' 'BrkTil' 'Wood' 'Slab' 'Stone']\\n',\n",
       "       'BsmtQual ['Gd' 'TA' 'Ex' nan 'Fa']\\n',\n",
       "       'BsmtCond ['TA' 'Gd' nan 'Fa' 'Po']\\n',\n",
       "       'BsmtExposure ['No' 'Gd' 'Mn' 'Av' nan]\\n',\n",
       "       'BsmtFinType1 ['GLQ' 'ALQ' 'Unf' 'Rec' 'BLQ' nan 'LwQ']\\n',\n",
       "       'BsmtFinSF1 - Continuous\\n',\n",
       "       'BsmtFinType2 ['Unf' 'BLQ' nan 'ALQ' 'Rec' 'LwQ' 'GLQ']\\n',\n",
       "       'BsmtFinSF2 - Continuous\\n', 'BsmtUnfSF - Continuous\\n',\n",
       "       'TotalBsmtSF - Continuous\\n',\n",
       "       'Heating ['GasA' 'GasW' 'Grav' 'Wall' 'OthW' 'Floor']\\n',\n",
       "       'HeatingQC ['Ex' 'Gd' 'TA' 'Fa' 'Po']\\n', 'CentralAir ['Y' 'N']\\n',\n",
       "       'Electrical ['SBrkr' 'FuseF' 'FuseA' 'FuseP' 'Mix' nan]\\n',\n",
       "       '1stFlrSF - Continuous\\n', '2ndFlrSF - Continuous\\n',\n",
       "       'LowQualFinSF [  0 360 513 234 528 572 144 392 371 390 420 473 156 515  80  53 232 481\\n 120 514 397 479 205 384]\\n',\n",
       "       'GrLivArea - Continuous\\n', 'BsmtFullBath [1 0 2 3]\\n',\n",
       "       'BsmtHalfBath [0 1 2]\\n', 'FullBath [2 1 3 0]\\n', 'HalfBath [1 0 2]\\n',\n",
       "       'BedroomAbvGr [3 4 1 2 0 5 6 8]\\n', 'KitchenAbvGr [1 2 3 0]\\n',\n",
       "       'KitchenQual ['Gd' 'TA' 'Ex' 'Fa']\\n',\n",
       "       'TotRmsAbvGrd [ 8  6  7  9  5 11  4 10 12  3  2 14]\\n',\n",
       "       'Functional ['Typ' 'Min1' 'Maj1' 'Min2' 'Mod' 'Maj2' 'Sev']\\n',\n",
       "       'Fireplaces [0 1 2 3]\\n',\n",
       "       'FireplaceQu [nan 'TA' 'Gd' 'Fa' 'Ex' 'Po']\\n',\n",
       "       'GarageType ['Attchd' 'Detchd' 'BuiltIn' 'CarPort' nan 'Basment' '2Types']\\n',\n",
       "       'GarageYrBlt - Continuous\\n', 'GarageFinish ['RFn' 'Unf' 'Fin' nan]\\n',\n",
       "       'GarageCars [2 3 1 0 4]\\n', 'GarageArea - Continuous\\n',\n",
       "       'GarageQual ['TA' 'Fa' 'Gd' nan 'Ex' 'Po']\\n',\n",
       "       'GarageCond ['TA' 'Fa' nan 'Gd' 'Po' 'Ex']\\n',\n",
       "       'PavedDrive ['Y' 'N' 'P']\\n', 'WoodDeckSF - Continuous\\n',\n",
       "       'OpenPorchSF - Continuous\\n', 'EnclosedPorch - Continuous\\n',\n",
       "       '3SsnPorch [  0 320 407 130 180 168 140 508 238 245 196 144 182 162  23 216  96 153\\n 290 304]\\n',\n",
       "       'ScreenPorch - Continuous\\n',\n",
       "       'PoolArea [  0 512 648 576 555 480 519 738]\\n',\n",
       "       'PoolQC [nan 'Ex' 'Fa' 'Gd']\\n',\n",
       "       'Fence [nan 'MnPrv' 'GdWo' 'GdPrv' 'MnWw']\\n',\n",
       "       'MiscFeature [nan 'Shed' 'Gar2' 'Othr' 'TenC']\\n',\n",
       "       'MiscVal [    0   700   350   500   400   480   450 15500  1200   800  2000   600\\n  3500  1300    54   620   560  1400  8300  1150  2500]\\n',\n",
       "       'MoSold [ 2  5  9 12 10  8 11  4  1  7  3  6]\\n',\n",
       "       'YrSold [2008 2007 2006 2009 2010]\\n',\n",
       "       'SaleType ['WD' 'New' 'COD' 'ConLD' 'ConLI' 'CWD' 'ConLw' 'Con' 'Oth']\\n',\n",
       "       'SaleCondition ['Normal' 'Abnorml' 'Partial' 'AdjLand' 'Alloca' 'Family']\\n',\n",
       "       'SalePrice - Continuous\\n'],\n",
       "      dtype='object')"
      ]
     },
     "execution_count": 13,
     "metadata": {},
     "output_type": "execute_result"
    }
   ],
   "source": [
    "def print_levels(level):\n",
    "    if df[level].unique().size < 50:\n",
    "        return f\"{level} {df[level].unique()}\\n\"\n",
    "    else:\n",
    "        return f\"{level} - Continuous\\n\"\n",
    "    \n",
    "df.columns.map(print_levels)"
   ]
  },
  {
   "cell_type": "code",
   "execution_count": 14,
   "metadata": {
    "execution": {
     "iopub.execute_input": "2023-05-11T16:38:35.476088Z",
     "iopub.status.busy": "2023-05-11T16:38:35.475738Z",
     "iopub.status.idle": "2023-05-11T16:38:35.499208Z",
     "shell.execute_reply": "2023-05-11T16:38:35.498186Z",
     "shell.execute_reply.started": "2023-05-11T16:38:35.476058Z"
    }
   },
   "outputs": [
    {
     "data": {
      "text/plain": [
       "0       NaN\n",
       "1       NaN\n",
       "2       NaN\n",
       "3       NaN\n",
       "4       NaN\n",
       "       ... \n",
       "1454    NaN\n",
       "1455    NaN\n",
       "1456    NaN\n",
       "1457    NaN\n",
       "1458    NaN\n",
       "Name: Functional, Length: 1459, dtype: category\n",
       "Categories (1, object): ['TypMin1Maj1Min2ModMaj2Sev']"
      ]
     },
     "execution_count": 14,
     "metadata": {},
     "output_type": "execute_result"
    }
   ],
   "source": [
    "# Make note of anything that appears to follow an order, just for reference. Not exhaustive\n",
    "# Not intending to input this anywhere\n",
    "# Also derived from data description https://www.kaggle.com/competitions/house-prices-advanced-regression-techniques/data\n",
    "ordinals = ['BldgType', 'HouseStyle', 'Utilities', 'ExterCond', 'ExterQual', 'Functional', 'PavedDrive']\n",
    "\n",
    "# There are even more, lets just go with the overall Home functionality\n",
    "functional = ['Typ' 'Min1' 'Maj1' 'Min2' 'Mod' 'Maj2' 'Sev']\n",
    "df['Functional'] = df['Functional'].astype('category')\n",
    "df['Functional'].cat.set_categories(functional, ordered=True)\n",
    "\n",
    "df_test['Functional'] = df_test['Functional'].astype('category')\n",
    "df_test['Functional'].cat.set_categories(functional, ordered=True)"
   ]
  },
  {
   "cell_type": "markdown",
   "metadata": {},
   "source": [
    "### Dates"
   ]
  },
  {
   "cell_type": "code",
   "execution_count": 15,
   "metadata": {
    "execution": {
     "iopub.execute_input": "2023-05-11T16:38:35.501447Z",
     "iopub.status.busy": "2023-05-11T16:38:35.500984Z",
     "iopub.status.idle": "2023-05-11T16:38:35.560182Z",
     "shell.execute_reply": "2023-05-11T16:38:35.558519Z",
     "shell.execute_reply.started": "2023-05-11T16:38:35.501406Z"
    }
   },
   "outputs": [
    {
     "name": "stderr",
     "output_type": "stream",
     "text": [
      "/opt/homebrew/Caskroom/miniforge/base/envs/torch-gpu/lib/python3.10/site-packages/fastai/tabular/core.py:23: UserWarning: The argument 'infer_datetime_format' is deprecated and will be removed in a future version. A strict version of it is now the default, see https://pandas.pydata.org/pdeps/0004-consistent-to-datetime-parsing.html. You can safely remove this argument.\n",
      "/opt/homebrew/Caskroom/miniforge/base/envs/torch-gpu/lib/python3.10/site-packages/fastai/tabular/core.py:23: UserWarning: Could not infer format, so each element will be parsed individually, falling back to `dateutil`. To ensure parsing is consistent and as-expected, please specify a format.\n"
     ]
    },
    {
     "data": {
      "text/html": [
       "<div>\n",
       "<style scoped>\n",
       "    .dataframe tbody tr th:only-of-type {\n",
       "        vertical-align: middle;\n",
       "    }\n",
       "\n",
       "    .dataframe tbody tr th {\n",
       "        vertical-align: top;\n",
       "    }\n",
       "\n",
       "    .dataframe thead th {\n",
       "        text-align: right;\n",
       "    }\n",
       "</style>\n",
       "<table border=\"1\" class=\"dataframe\">\n",
       "  <thead>\n",
       "    <tr style=\"text-align: right;\">\n",
       "      <th></th>\n",
       "      <th>Id</th>\n",
       "      <th>MSSubClass</th>\n",
       "      <th>MSZoning</th>\n",
       "      <th>LotFrontage</th>\n",
       "      <th>...</th>\n",
       "      <th>saleIs_quarter_start</th>\n",
       "      <th>saleIs_year_end</th>\n",
       "      <th>saleIs_year_start</th>\n",
       "      <th>saleElapsed</th>\n",
       "    </tr>\n",
       "  </thead>\n",
       "  <tbody>\n",
       "    <tr>\n",
       "      <th>0</th>\n",
       "      <td>1</td>\n",
       "      <td>60</td>\n",
       "      <td>RL</td>\n",
       "      <td>65.0</td>\n",
       "      <td>...</td>\n",
       "      <td>False</td>\n",
       "      <td>False</td>\n",
       "      <td>False</td>\n",
       "      <td>1.201824e+09</td>\n",
       "    </tr>\n",
       "    <tr>\n",
       "      <th>1</th>\n",
       "      <td>2</td>\n",
       "      <td>20</td>\n",
       "      <td>RL</td>\n",
       "      <td>80.0</td>\n",
       "      <td>...</td>\n",
       "      <td>False</td>\n",
       "      <td>False</td>\n",
       "      <td>False</td>\n",
       "      <td>1.177978e+09</td>\n",
       "    </tr>\n",
       "    <tr>\n",
       "      <th>2</th>\n",
       "      <td>3</td>\n",
       "      <td>60</td>\n",
       "      <td>RL</td>\n",
       "      <td>68.0</td>\n",
       "      <td>...</td>\n",
       "      <td>False</td>\n",
       "      <td>False</td>\n",
       "      <td>False</td>\n",
       "      <td>1.220227e+09</td>\n",
       "    </tr>\n",
       "    <tr>\n",
       "      <th>3</th>\n",
       "      <td>4</td>\n",
       "      <td>70</td>\n",
       "      <td>RL</td>\n",
       "      <td>60.0</td>\n",
       "      <td>...</td>\n",
       "      <td>False</td>\n",
       "      <td>False</td>\n",
       "      <td>False</td>\n",
       "      <td>1.138752e+09</td>\n",
       "    </tr>\n",
       "    <tr>\n",
       "      <th>4</th>\n",
       "      <td>5</td>\n",
       "      <td>60</td>\n",
       "      <td>RL</td>\n",
       "      <td>84.0</td>\n",
       "      <td>...</td>\n",
       "      <td>False</td>\n",
       "      <td>False</td>\n",
       "      <td>False</td>\n",
       "      <td>1.228090e+09</td>\n",
       "    </tr>\n",
       "    <tr>\n",
       "      <th>...</th>\n",
       "      <td>...</td>\n",
       "      <td>...</td>\n",
       "      <td>...</td>\n",
       "      <td>...</td>\n",
       "      <td>...</td>\n",
       "      <td>...</td>\n",
       "      <td>...</td>\n",
       "      <td>...</td>\n",
       "      <td>...</td>\n",
       "    </tr>\n",
       "    <tr>\n",
       "      <th>1455</th>\n",
       "      <td>1456</td>\n",
       "      <td>60</td>\n",
       "      <td>RL</td>\n",
       "      <td>62.0</td>\n",
       "      <td>...</td>\n",
       "      <td>False</td>\n",
       "      <td>False</td>\n",
       "      <td>False</td>\n",
       "      <td>1.185926e+09</td>\n",
       "    </tr>\n",
       "    <tr>\n",
       "      <th>1456</th>\n",
       "      <td>1457</td>\n",
       "      <td>20</td>\n",
       "      <td>RL</td>\n",
       "      <td>85.0</td>\n",
       "      <td>...</td>\n",
       "      <td>False</td>\n",
       "      <td>False</td>\n",
       "      <td>False</td>\n",
       "      <td>1.264982e+09</td>\n",
       "    </tr>\n",
       "    <tr>\n",
       "      <th>1457</th>\n",
       "      <td>1458</td>\n",
       "      <td>70</td>\n",
       "      <td>RL</td>\n",
       "      <td>66.0</td>\n",
       "      <td>...</td>\n",
       "      <td>False</td>\n",
       "      <td>False</td>\n",
       "      <td>False</td>\n",
       "      <td>1.272672e+09</td>\n",
       "    </tr>\n",
       "    <tr>\n",
       "      <th>1458</th>\n",
       "      <td>1459</td>\n",
       "      <td>20</td>\n",
       "      <td>RL</td>\n",
       "      <td>68.0</td>\n",
       "      <td>...</td>\n",
       "      <td>True</td>\n",
       "      <td>False</td>\n",
       "      <td>False</td>\n",
       "      <td>1.270080e+09</td>\n",
       "    </tr>\n",
       "    <tr>\n",
       "      <th>1459</th>\n",
       "      <td>1460</td>\n",
       "      <td>20</td>\n",
       "      <td>RL</td>\n",
       "      <td>75.0</td>\n",
       "      <td>...</td>\n",
       "      <td>False</td>\n",
       "      <td>False</td>\n",
       "      <td>False</td>\n",
       "      <td>1.212278e+09</td>\n",
       "    </tr>\n",
       "  </tbody>\n",
       "</table>\n",
       "<p>1460 rows × 94 columns</p>\n",
       "</div>"
      ],
      "text/plain": [
       "        Id  MSSubClass MSZoning  LotFrontage  ...  saleIs_quarter_start   \n",
       "0        1          60       RL         65.0  ...                 False  \\\n",
       "1        2          20       RL         80.0  ...                 False   \n",
       "2        3          60       RL         68.0  ...                 False   \n",
       "3        4          70       RL         60.0  ...                 False   \n",
       "4        5          60       RL         84.0  ...                 False   \n",
       "...    ...         ...      ...          ...  ...                   ...   \n",
       "1455  1456          60       RL         62.0  ...                 False   \n",
       "1456  1457          20       RL         85.0  ...                 False   \n",
       "1457  1458          70       RL         66.0  ...                 False   \n",
       "1458  1459          20       RL         68.0  ...                  True   \n",
       "1459  1460          20       RL         75.0  ...                 False   \n",
       "\n",
       "     saleIs_year_end saleIs_year_start   saleElapsed  \n",
       "0              False             False  1.201824e+09  \n",
       "1              False             False  1.177978e+09  \n",
       "2              False             False  1.220227e+09  \n",
       "3              False             False  1.138752e+09  \n",
       "4              False             False  1.228090e+09  \n",
       "...              ...               ...           ...  \n",
       "1455           False             False  1.185926e+09  \n",
       "1456           False             False  1.264982e+09  \n",
       "1457           False             False  1.272672e+09  \n",
       "1458           False             False  1.270080e+09  \n",
       "1459           False             False  1.212278e+09  \n",
       "\n",
       "[1460 rows x 94 columns]"
      ]
     },
     "execution_count": 15,
     "metadata": {},
     "output_type": "execute_result"
    }
   ],
   "source": [
    "df['saledate'] = df['MoSold'].astype(str) + '/' + df['YrSold'].astype(str)\n",
    "df = add_datepart(df, 'saledate')\n",
    "df"
   ]
  },
  {
   "cell_type": "code",
   "execution_count": 16,
   "metadata": {
    "execution": {
     "iopub.execute_input": "2023-05-11T16:38:35.564935Z",
     "iopub.status.busy": "2023-05-11T16:38:35.564509Z",
     "iopub.status.idle": "2023-05-11T16:38:35.618143Z",
     "shell.execute_reply": "2023-05-11T16:38:35.616901Z",
     "shell.execute_reply.started": "2023-05-11T16:38:35.564900Z"
    }
   },
   "outputs": [
    {
     "name": "stderr",
     "output_type": "stream",
     "text": [
      "/opt/homebrew/Caskroom/miniforge/base/envs/torch-gpu/lib/python3.10/site-packages/fastai/tabular/core.py:23: UserWarning: The argument 'infer_datetime_format' is deprecated and will be removed in a future version. A strict version of it is now the default, see https://pandas.pydata.org/pdeps/0004-consistent-to-datetime-parsing.html. You can safely remove this argument.\n",
      "/opt/homebrew/Caskroom/miniforge/base/envs/torch-gpu/lib/python3.10/site-packages/fastai/tabular/core.py:23: UserWarning: Could not infer format, so each element will be parsed individually, falling back to `dateutil`. To ensure parsing is consistent and as-expected, please specify a format.\n"
     ]
    },
    {
     "data": {
      "text/html": [
       "<div>\n",
       "<style scoped>\n",
       "    .dataframe tbody tr th:only-of-type {\n",
       "        vertical-align: middle;\n",
       "    }\n",
       "\n",
       "    .dataframe tbody tr th {\n",
       "        vertical-align: top;\n",
       "    }\n",
       "\n",
       "    .dataframe thead th {\n",
       "        text-align: right;\n",
       "    }\n",
       "</style>\n",
       "<table border=\"1\" class=\"dataframe\">\n",
       "  <thead>\n",
       "    <tr style=\"text-align: right;\">\n",
       "      <th></th>\n",
       "      <th>Id</th>\n",
       "      <th>MSSubClass</th>\n",
       "      <th>MSZoning</th>\n",
       "      <th>LotFrontage</th>\n",
       "      <th>...</th>\n",
       "      <th>saleIs_quarter_start</th>\n",
       "      <th>saleIs_year_end</th>\n",
       "      <th>saleIs_year_start</th>\n",
       "      <th>saleElapsed</th>\n",
       "    </tr>\n",
       "  </thead>\n",
       "  <tbody>\n",
       "    <tr>\n",
       "      <th>0</th>\n",
       "      <td>1461</td>\n",
       "      <td>20</td>\n",
       "      <td>RH</td>\n",
       "      <td>80.0</td>\n",
       "      <td>...</td>\n",
       "      <td>False</td>\n",
       "      <td>False</td>\n",
       "      <td>False</td>\n",
       "      <td>1.275350e+09</td>\n",
       "    </tr>\n",
       "    <tr>\n",
       "      <th>1</th>\n",
       "      <td>1462</td>\n",
       "      <td>20</td>\n",
       "      <td>RL</td>\n",
       "      <td>81.0</td>\n",
       "      <td>...</td>\n",
       "      <td>False</td>\n",
       "      <td>False</td>\n",
       "      <td>False</td>\n",
       "      <td>1.275350e+09</td>\n",
       "    </tr>\n",
       "    <tr>\n",
       "      <th>2</th>\n",
       "      <td>1463</td>\n",
       "      <td>60</td>\n",
       "      <td>RL</td>\n",
       "      <td>74.0</td>\n",
       "      <td>...</td>\n",
       "      <td>False</td>\n",
       "      <td>False</td>\n",
       "      <td>False</td>\n",
       "      <td>1.267402e+09</td>\n",
       "    </tr>\n",
       "    <tr>\n",
       "      <th>3</th>\n",
       "      <td>1464</td>\n",
       "      <td>60</td>\n",
       "      <td>RL</td>\n",
       "      <td>78.0</td>\n",
       "      <td>...</td>\n",
       "      <td>False</td>\n",
       "      <td>False</td>\n",
       "      <td>False</td>\n",
       "      <td>1.275350e+09</td>\n",
       "    </tr>\n",
       "    <tr>\n",
       "      <th>4</th>\n",
       "      <td>1465</td>\n",
       "      <td>120</td>\n",
       "      <td>RL</td>\n",
       "      <td>43.0</td>\n",
       "      <td>...</td>\n",
       "      <td>True</td>\n",
       "      <td>False</td>\n",
       "      <td>True</td>\n",
       "      <td>1.262304e+09</td>\n",
       "    </tr>\n",
       "    <tr>\n",
       "      <th>...</th>\n",
       "      <td>...</td>\n",
       "      <td>...</td>\n",
       "      <td>...</td>\n",
       "      <td>...</td>\n",
       "      <td>...</td>\n",
       "      <td>...</td>\n",
       "      <td>...</td>\n",
       "      <td>...</td>\n",
       "      <td>...</td>\n",
       "    </tr>\n",
       "    <tr>\n",
       "      <th>1454</th>\n",
       "      <td>2915</td>\n",
       "      <td>160</td>\n",
       "      <td>RM</td>\n",
       "      <td>21.0</td>\n",
       "      <td>...</td>\n",
       "      <td>False</td>\n",
       "      <td>False</td>\n",
       "      <td>False</td>\n",
       "      <td>1.149120e+09</td>\n",
       "    </tr>\n",
       "    <tr>\n",
       "      <th>1455</th>\n",
       "      <td>2916</td>\n",
       "      <td>160</td>\n",
       "      <td>RM</td>\n",
       "      <td>21.0</td>\n",
       "      <td>...</td>\n",
       "      <td>True</td>\n",
       "      <td>False</td>\n",
       "      <td>False</td>\n",
       "      <td>1.143850e+09</td>\n",
       "    </tr>\n",
       "    <tr>\n",
       "      <th>1456</th>\n",
       "      <td>2917</td>\n",
       "      <td>20</td>\n",
       "      <td>RL</td>\n",
       "      <td>160.0</td>\n",
       "      <td>...</td>\n",
       "      <td>False</td>\n",
       "      <td>False</td>\n",
       "      <td>False</td>\n",
       "      <td>1.157069e+09</td>\n",
       "    </tr>\n",
       "    <tr>\n",
       "      <th>1457</th>\n",
       "      <td>2918</td>\n",
       "      <td>85</td>\n",
       "      <td>RL</td>\n",
       "      <td>62.0</td>\n",
       "      <td>...</td>\n",
       "      <td>True</td>\n",
       "      <td>False</td>\n",
       "      <td>False</td>\n",
       "      <td>1.151712e+09</td>\n",
       "    </tr>\n",
       "    <tr>\n",
       "      <th>1458</th>\n",
       "      <td>2919</td>\n",
       "      <td>60</td>\n",
       "      <td>RL</td>\n",
       "      <td>74.0</td>\n",
       "      <td>...</td>\n",
       "      <td>False</td>\n",
       "      <td>False</td>\n",
       "      <td>False</td>\n",
       "      <td>1.162339e+09</td>\n",
       "    </tr>\n",
       "  </tbody>\n",
       "</table>\n",
       "<p>1459 rows × 93 columns</p>\n",
       "</div>"
      ],
      "text/plain": [
       "        Id  MSSubClass MSZoning  LotFrontage  ...  saleIs_quarter_start   \n",
       "0     1461          20       RH         80.0  ...                 False  \\\n",
       "1     1462          20       RL         81.0  ...                 False   \n",
       "2     1463          60       RL         74.0  ...                 False   \n",
       "3     1464          60       RL         78.0  ...                 False   \n",
       "4     1465         120       RL         43.0  ...                  True   \n",
       "...    ...         ...      ...          ...  ...                   ...   \n",
       "1454  2915         160       RM         21.0  ...                 False   \n",
       "1455  2916         160       RM         21.0  ...                  True   \n",
       "1456  2917          20       RL        160.0  ...                 False   \n",
       "1457  2918          85       RL         62.0  ...                  True   \n",
       "1458  2919          60       RL         74.0  ...                 False   \n",
       "\n",
       "     saleIs_year_end saleIs_year_start   saleElapsed  \n",
       "0              False             False  1.275350e+09  \n",
       "1              False             False  1.275350e+09  \n",
       "2              False             False  1.267402e+09  \n",
       "3              False             False  1.275350e+09  \n",
       "4              False              True  1.262304e+09  \n",
       "...              ...               ...           ...  \n",
       "1454           False             False  1.149120e+09  \n",
       "1455           False             False  1.143850e+09  \n",
       "1456           False             False  1.157069e+09  \n",
       "1457           False             False  1.151712e+09  \n",
       "1458           False             False  1.162339e+09  \n",
       "\n",
       "[1459 rows x 93 columns]"
      ]
     },
     "execution_count": 16,
     "metadata": {},
     "output_type": "execute_result"
    }
   ],
   "source": [
    "# Do the same for the test dataset\n",
    "df_test['saledate'] = df_test['MoSold'].astype(str) + '/' + df_test['YrSold'].astype(str)\n",
    "df_test = add_datepart(df_test, 'saledate')\n",
    "df_test"
   ]
  },
  {
   "cell_type": "markdown",
   "metadata": {},
   "source": [
    "### Depedent variable"
   ]
  },
  {
   "cell_type": "markdown",
   "metadata": {},
   "source": [
    "`SalePrice` is the dependent variable. We are told the evaluation is on the RMSE between the log of the predicted and actual sale price (Taking logs means that errors in predicting expensive houses and cheap houses will affect the result equally.)\n",
    "\n",
    "Update - I'm not sure if this should be done in the submission or not"
   ]
  },
  {
   "cell_type": "code",
   "execution_count": 17,
   "metadata": {
    "execution": {
     "iopub.execute_input": "2023-05-11T16:38:35.620127Z",
     "iopub.status.busy": "2023-05-11T16:38:35.619737Z",
     "iopub.status.idle": "2023-05-11T16:38:35.625040Z",
     "shell.execute_reply": "2023-05-11T16:38:35.624043Z",
     "shell.execute_reply.started": "2023-05-11T16:38:35.620088Z"
    }
   },
   "outputs": [],
   "source": [
    "dep_var = 'SalePrice'\n",
    "#df[dep_var] = np.log(df[dep_var])"
   ]
  },
  {
   "cell_type": "markdown",
   "metadata": {},
   "source": [
    "## Decision Tree\n",
    "First lets have a go at building a plain old decision tree and submit that to Kaggle"
   ]
  },
  {
   "cell_type": "markdown",
   "metadata": {},
   "source": [
    "### Test and validation set\n",
    "In this case I don't see the test set contain future dates compared to the training set, so my first attempt at a validation set will just take a random sample of the training set."
   ]
  },
  {
   "cell_type": "code",
   "execution_count": 18,
   "metadata": {
    "execution": {
     "iopub.execute_input": "2023-05-11T16:38:35.626896Z",
     "iopub.status.busy": "2023-05-11T16:38:35.626522Z",
     "iopub.status.idle": "2023-05-11T16:38:35.644520Z",
     "shell.execute_reply": "2023-05-11T16:38:35.643184Z",
     "shell.execute_reply.started": "2023-05-11T16:38:35.626862Z"
    }
   },
   "outputs": [
    {
     "data": {
      "text/plain": [
       "(array([2008, 2007, 2006, 2009, 2010]), array([2010, 2009, 2008, 2007, 2006]))"
      ]
     },
     "execution_count": 18,
     "metadata": {},
     "output_type": "execute_result"
    }
   ],
   "source": [
    "df['YrSold'].unique(), df_test['YrSold'].unique()"
   ]
  },
  {
   "cell_type": "code",
   "execution_count": 20,
   "metadata": {
    "execution": {
     "iopub.execute_input": "2023-05-11T16:38:35.647210Z",
     "iopub.status.busy": "2023-05-11T16:38:35.646218Z",
     "iopub.status.idle": "2023-05-11T16:38:35.886181Z",
     "shell.execute_reply": "2023-05-11T16:38:35.885063Z",
     "shell.execute_reply.started": "2023-05-11T16:38:35.647173Z"
    }
   },
   "outputs": [],
   "source": [
    "from sklearn.model_selection import train_test_split\n",
    "df_train, df_valid = train_test_split(df, test_size=0.2)\n",
    "df_train.size, df_valid.size\n",
    "# Need to get the index from the row in df of all the fields in df_valid\n",
    "train_idx = df_train.Id.map(lambda id: df.index[df.Id == id][0])\n",
    "valid_idx = df_valid.Id.map(lambda id: df.index[df.Id == id][0])\n",
    "splits = (list(train_idx), list(valid_idx))"
   ]
  },
  {
   "cell_type": "markdown",
   "metadata": {},
   "source": [
    "### Handle missing data and strings\n",
    "Sklearn cannot handle missing data or strings.\n",
    "\n",
    "`Categorify` is a TabularProc that replaces a column with a numeric categorical column. \n",
    "\n",
    "`FillMissing` is a TabularProc that replaces missing values with the median of the column"
   ]
  },
  {
   "cell_type": "code",
   "execution_count": 21,
   "metadata": {
    "execution": {
     "iopub.execute_input": "2023-05-11T16:38:35.888353Z",
     "iopub.status.busy": "2023-05-11T16:38:35.888010Z",
     "iopub.status.idle": "2023-05-11T16:38:36.028607Z",
     "shell.execute_reply": "2023-05-11T16:38:36.027471Z",
     "shell.execute_reply.started": "2023-05-11T16:38:35.888322Z"
    }
   },
   "outputs": [],
   "source": [
    "cont, cat = cont_cat_split(df, 1, dep_var=dep_var)\n",
    "procs = [Categorify, FillMissing]\n",
    "tabular_data = TabularPandas(df, procs, cat, cont, y_names=dep_var, splits=splits)"
   ]
  },
  {
   "cell_type": "markdown",
   "metadata": {},
   "source": [
    "The underlying data is now all numeric"
   ]
  },
  {
   "cell_type": "code",
   "execution_count": 22,
   "metadata": {
    "execution": {
     "iopub.execute_input": "2023-05-11T16:38:36.030348Z",
     "iopub.status.busy": "2023-05-11T16:38:36.030025Z",
     "iopub.status.idle": "2023-05-11T16:38:36.046127Z",
     "shell.execute_reply": "2023-05-11T16:38:36.044819Z",
     "shell.execute_reply.started": "2023-05-11T16:38:36.030321Z"
    }
   },
   "outputs": [
    {
     "data": {
      "text/html": [
       "<div>\n",
       "<style scoped>\n",
       "    .dataframe tbody tr th:only-of-type {\n",
       "        vertical-align: middle;\n",
       "    }\n",
       "\n",
       "    .dataframe tbody tr th {\n",
       "        vertical-align: top;\n",
       "    }\n",
       "\n",
       "    .dataframe thead th {\n",
       "        text-align: right;\n",
       "    }\n",
       "</style>\n",
       "<table border=\"1\" class=\"dataframe\">\n",
       "  <thead>\n",
       "    <tr style=\"text-align: right;\">\n",
       "      <th></th>\n",
       "      <th>Id</th>\n",
       "      <th>MSSubClass</th>\n",
       "      <th>MSZoning</th>\n",
       "      <th>LotFrontage</th>\n",
       "      <th>...</th>\n",
       "      <th>saleElapsed</th>\n",
       "      <th>LotFrontage_na</th>\n",
       "      <th>MasVnrArea_na</th>\n",
       "      <th>GarageYrBlt_na</th>\n",
       "    </tr>\n",
       "  </thead>\n",
       "  <tbody>\n",
       "    <tr>\n",
       "      <th>786</th>\n",
       "      <td>787</td>\n",
       "      <td>50</td>\n",
       "      <td>5</td>\n",
       "      <td>60.0</td>\n",
       "      <td>...</td>\n",
       "      <td>1.275350e+09</td>\n",
       "      <td>1</td>\n",
       "      <td>1</td>\n",
       "      <td>1</td>\n",
       "    </tr>\n",
       "  </tbody>\n",
       "</table>\n",
       "<p>1 rows × 97 columns</p>\n",
       "</div>"
      ],
      "text/plain": [
       "      Id  MSSubClass  MSZoning  LotFrontage  ...   saleElapsed   \n",
       "786  787          50         5         60.0  ...  1.275350e+09  \\\n",
       "\n",
       "     LotFrontage_na  MasVnrArea_na  GarageYrBlt_na  \n",
       "786               1              1               1  \n",
       "\n",
       "[1 rows x 97 columns]"
      ]
     },
     "execution_count": 22,
     "metadata": {},
     "output_type": "execute_result"
    }
   ],
   "source": [
    "tabular_data.items.head(1)"
   ]
  },
  {
   "cell_type": "markdown",
   "metadata": {},
   "source": [
    "Need to apply the same transform to the test dataset"
   ]
  },
  {
   "cell_type": "code",
   "execution_count": 23,
   "metadata": {
    "execution": {
     "iopub.execute_input": "2023-05-11T16:38:36.048387Z",
     "iopub.status.busy": "2023-05-11T16:38:36.047971Z",
     "iopub.status.idle": "2023-05-11T16:38:36.194911Z",
     "shell.execute_reply": "2023-05-11T16:38:36.193799Z",
     "shell.execute_reply.started": "2023-05-11T16:38:36.048354Z"
    }
   },
   "outputs": [
    {
     "data": {
      "text/plain": [
       "104"
      ]
     },
     "execution_count": 23,
     "metadata": {},
     "output_type": "execute_result"
    }
   ],
   "source": [
    "test_data = TabularPandas(df_test, procs, cat, cont)\n",
    "# test = TabularPandas(df, procs, cat, cont, y_names=dep_var, splits=splits)\n",
    "len(cont) + len(cat) # 96, now 104\n",
    "df # 94 cols\n",
    "tabular_data # 97 cols\n",
    "test_data # 104 cols\n",
    "tabular_data.all_col_names # 105\n",
    "#dir(tabular_data)\n",
    "len(tabular_data.cat_names) + len(tabular_data.cont_names) # 104\n"
   ]
  },
  {
   "cell_type": "markdown",
   "metadata": {},
   "source": [
    "## Creating the decision tree"
   ]
  },
  {
   "cell_type": "code",
   "execution_count": 17,
   "metadata": {
    "execution": {
     "iopub.execute_input": "2023-05-11T16:38:36.196858Z",
     "iopub.status.busy": "2023-05-11T16:38:36.196414Z",
     "iopub.status.idle": "2023-05-11T16:38:36.204280Z",
     "shell.execute_reply": "2023-05-11T16:38:36.203093Z",
     "shell.execute_reply.started": "2023-05-11T16:38:36.196821Z"
    }
   },
   "outputs": [],
   "source": [
    "def draw_tree(t, df, size=10, ratio=0.6, precision=0, **kwargs):\n",
    "    s=export_graphviz(t, out_file=None, feature_names=df.columns, filled=True, rounded=True,\n",
    "                      special_characters=True, rotate=False, precision=precision, **kwargs)\n",
    "    return graphviz.Source(re.sub('Tree {', f'Tree {{ size={size}; ratio={ratio}', s))"
   ]
  },
  {
   "cell_type": "code",
   "execution_count": 24,
   "metadata": {
    "execution": {
     "iopub.execute_input": "2023-05-11T16:38:36.206537Z",
     "iopub.status.busy": "2023-05-11T16:38:36.206063Z",
     "iopub.status.idle": "2023-05-11T16:38:39.180611Z",
     "shell.execute_reply": "2023-05-11T16:38:39.179033Z",
     "shell.execute_reply.started": "2023-05-11T16:38:36.206503Z"
    }
   },
   "outputs": [
    {
     "ename": "KeyError",
     "evalue": "\"['BsmtFinSF1_na', 'BsmtFinSF2_na', 'BsmtUnfSF_na', 'TotalBsmtSF_na', 'BsmtFullBath_na', 'BsmtHalfBath_na', 'GarageCars_na', 'GarageArea_na'] not in index\"",
     "output_type": "error",
     "traceback": [
      "\u001b[0;31m---------------------------------------------------------------------------\u001b[0m",
      "\u001b[0;31mKeyError\u001b[0m                                  Traceback (most recent call last)",
      "Cell \u001b[0;32mIn[24], line 1\u001b[0m\n\u001b[0;32m----> 1\u001b[0m \u001b[43mtabular_data\u001b[49m\u001b[38;5;241;43m.\u001b[39;49m\u001b[43mtrain\u001b[49m\u001b[38;5;241;43m.\u001b[39;49m\u001b[43mxs\u001b[49m\n",
      "File \u001b[0;32m/opt/homebrew/Caskroom/miniforge/base/envs/torch-gpu/lib/python3.10/site-packages/fastai/tabular/core.py:208\u001b[0m, in \u001b[0;36m_add_prop.<locals>.f\u001b[0;34m(o)\u001b[0m\n\u001b[1;32m    207\u001b[0m \u001b[38;5;28mproperty\u001b[39m\n\u001b[0;32m--> 208\u001b[0m \u001b[38;5;28;01mdef\u001b[39;00m \u001b[38;5;21mf\u001b[39m(o): \u001b[38;5;28;01mreturn\u001b[39;00m \u001b[43mo\u001b[49m\u001b[43m[\u001b[49m\u001b[38;5;28;43mlist\u001b[39;49m\u001b[43m(\u001b[49m\u001b[38;5;28;43mgetattr\u001b[39;49m\u001b[43m(\u001b[49m\u001b[43mo\u001b[49m\u001b[43m,\u001b[49m\u001b[43mnm\u001b[49m\u001b[38;5;241;43m+\u001b[39;49m\u001b[38;5;124;43m'\u001b[39;49m\u001b[38;5;124;43m_names\u001b[39;49m\u001b[38;5;124;43m'\u001b[39;49m\u001b[43m)\u001b[49m\u001b[43m)\u001b[49m\u001b[43m]\u001b[49m\n",
      "File \u001b[0;32m/opt/homebrew/Caskroom/miniforge/base/envs/torch-gpu/lib/python3.10/site-packages/fastcore/foundation.py:88\u001b[0m, in \u001b[0;36mCollBase.__getitem__\u001b[0;34m(self, k)\u001b[0m\n\u001b[0;32m---> 88\u001b[0m \u001b[38;5;28;01mdef\u001b[39;00m \u001b[38;5;21m__getitem__\u001b[39m(\u001b[38;5;28mself\u001b[39m, k): \u001b[38;5;28;01mreturn\u001b[39;00m \u001b[38;5;28;43mself\u001b[39;49m\u001b[38;5;241;43m.\u001b[39;49m\u001b[43mitems\u001b[49m\u001b[43m[\u001b[49m\u001b[38;5;28;43mlist\u001b[39;49m\u001b[43m(\u001b[49m\u001b[43mk\u001b[49m\u001b[43m)\u001b[49m\u001b[43m \u001b[49m\u001b[38;5;28;43;01mif\u001b[39;49;00m\u001b[43m \u001b[49m\u001b[38;5;28;43misinstance\u001b[39;49m\u001b[43m(\u001b[49m\u001b[43mk\u001b[49m\u001b[43m,\u001b[49m\u001b[43mCollBase\u001b[49m\u001b[43m)\u001b[49m\u001b[43m \u001b[49m\u001b[38;5;28;43;01melse\u001b[39;49;00m\u001b[43m \u001b[49m\u001b[43mk\u001b[49m\u001b[43m]\u001b[49m\n",
      "File \u001b[0;32m/opt/homebrew/Caskroom/miniforge/base/envs/torch-gpu/lib/python3.10/site-packages/pandas/core/frame.py:3767\u001b[0m, in \u001b[0;36mDataFrame.__getitem__\u001b[0;34m(self, key)\u001b[0m\n\u001b[1;32m   3765\u001b[0m     \u001b[38;5;28;01mif\u001b[39;00m is_iterator(key):\n\u001b[1;32m   3766\u001b[0m         key \u001b[38;5;241m=\u001b[39m \u001b[38;5;28mlist\u001b[39m(key)\n\u001b[0;32m-> 3767\u001b[0m     indexer \u001b[38;5;241m=\u001b[39m \u001b[38;5;28;43mself\u001b[39;49m\u001b[38;5;241;43m.\u001b[39;49m\u001b[43mcolumns\u001b[49m\u001b[38;5;241;43m.\u001b[39;49m\u001b[43m_get_indexer_strict\u001b[49m\u001b[43m(\u001b[49m\u001b[43mkey\u001b[49m\u001b[43m,\u001b[49m\u001b[43m \u001b[49m\u001b[38;5;124;43m\"\u001b[39;49m\u001b[38;5;124;43mcolumns\u001b[39;49m\u001b[38;5;124;43m\"\u001b[39;49m\u001b[43m)\u001b[49m[\u001b[38;5;241m1\u001b[39m]\n\u001b[1;32m   3769\u001b[0m \u001b[38;5;66;03m# take() does not accept boolean indexers\u001b[39;00m\n\u001b[1;32m   3770\u001b[0m \u001b[38;5;28;01mif\u001b[39;00m \u001b[38;5;28mgetattr\u001b[39m(indexer, \u001b[38;5;124m\"\u001b[39m\u001b[38;5;124mdtype\u001b[39m\u001b[38;5;124m\"\u001b[39m, \u001b[38;5;28;01mNone\u001b[39;00m) \u001b[38;5;241m==\u001b[39m \u001b[38;5;28mbool\u001b[39m:\n",
      "File \u001b[0;32m/opt/homebrew/Caskroom/miniforge/base/envs/torch-gpu/lib/python3.10/site-packages/pandas/core/indexes/base.py:5876\u001b[0m, in \u001b[0;36mIndex._get_indexer_strict\u001b[0;34m(self, key, axis_name)\u001b[0m\n\u001b[1;32m   5873\u001b[0m \u001b[38;5;28;01melse\u001b[39;00m:\n\u001b[1;32m   5874\u001b[0m     keyarr, indexer, new_indexer \u001b[38;5;241m=\u001b[39m \u001b[38;5;28mself\u001b[39m\u001b[38;5;241m.\u001b[39m_reindex_non_unique(keyarr)\n\u001b[0;32m-> 5876\u001b[0m \u001b[38;5;28;43mself\u001b[39;49m\u001b[38;5;241;43m.\u001b[39;49m\u001b[43m_raise_if_missing\u001b[49m\u001b[43m(\u001b[49m\u001b[43mkeyarr\u001b[49m\u001b[43m,\u001b[49m\u001b[43m \u001b[49m\u001b[43mindexer\u001b[49m\u001b[43m,\u001b[49m\u001b[43m \u001b[49m\u001b[43maxis_name\u001b[49m\u001b[43m)\u001b[49m\n\u001b[1;32m   5878\u001b[0m keyarr \u001b[38;5;241m=\u001b[39m \u001b[38;5;28mself\u001b[39m\u001b[38;5;241m.\u001b[39mtake(indexer)\n\u001b[1;32m   5879\u001b[0m \u001b[38;5;28;01mif\u001b[39;00m \u001b[38;5;28misinstance\u001b[39m(key, Index):\n\u001b[1;32m   5880\u001b[0m     \u001b[38;5;66;03m# GH 42790 - Preserve name from an Index\u001b[39;00m\n",
      "File \u001b[0;32m/opt/homebrew/Caskroom/miniforge/base/envs/torch-gpu/lib/python3.10/site-packages/pandas/core/indexes/base.py:5938\u001b[0m, in \u001b[0;36mIndex._raise_if_missing\u001b[0;34m(self, key, indexer, axis_name)\u001b[0m\n\u001b[1;32m   5935\u001b[0m     \u001b[38;5;28;01mraise\u001b[39;00m \u001b[38;5;167;01mKeyError\u001b[39;00m(\u001b[38;5;124mf\u001b[39m\u001b[38;5;124m\"\u001b[39m\u001b[38;5;124mNone of [\u001b[39m\u001b[38;5;132;01m{\u001b[39;00mkey\u001b[38;5;132;01m}\u001b[39;00m\u001b[38;5;124m] are in the [\u001b[39m\u001b[38;5;132;01m{\u001b[39;00maxis_name\u001b[38;5;132;01m}\u001b[39;00m\u001b[38;5;124m]\u001b[39m\u001b[38;5;124m\"\u001b[39m)\n\u001b[1;32m   5937\u001b[0m not_found \u001b[38;5;241m=\u001b[39m \u001b[38;5;28mlist\u001b[39m(ensure_index(key)[missing_mask\u001b[38;5;241m.\u001b[39mnonzero()[\u001b[38;5;241m0\u001b[39m]]\u001b[38;5;241m.\u001b[39munique())\n\u001b[0;32m-> 5938\u001b[0m \u001b[38;5;28;01mraise\u001b[39;00m \u001b[38;5;167;01mKeyError\u001b[39;00m(\u001b[38;5;124mf\u001b[39m\u001b[38;5;124m\"\u001b[39m\u001b[38;5;132;01m{\u001b[39;00mnot_found\u001b[38;5;132;01m}\u001b[39;00m\u001b[38;5;124m not in index\u001b[39m\u001b[38;5;124m\"\u001b[39m)\n",
      "\u001b[0;31mKeyError\u001b[0m: \"['BsmtFinSF1_na', 'BsmtFinSF2_na', 'BsmtUnfSF_na', 'TotalBsmtSF_na', 'BsmtFullBath_na', 'BsmtHalfBath_na', 'GarageCars_na', 'GarageArea_na'] not in index\""
     ]
    }
   ],
   "source": [
    "tabular_data.train.xs"
   ]
  },
  {
   "cell_type": "code",
   "execution_count": null,
   "metadata": {
    "execution": {
     "iopub.status.busy": "2023-05-11T16:38:39.181379Z",
     "iopub.status.idle": "2023-05-11T16:38:39.181771Z",
     "shell.execute_reply": "2023-05-11T16:38:39.181591Z",
     "shell.execute_reply.started": "2023-05-11T16:38:39.181573Z"
    }
   },
   "outputs": [],
   "source": [
    "xs, y = tabular_data.train.xs, tabular_data.train.y # The independent and dependent params\n",
    "valid_xs, valid_y = tabular_data.valid.xs, tabular_data.valid.y\n",
    "\n",
    "m = DecisionTreeRegressor(max_leaf_nodes=5)\n",
    "m.fit(xs, y)\n",
    "\n",
    "draw_tree(m, xs, size=10, leaves_parallel=True, precision=2)"
   ]
  },
  {
   "cell_type": "code",
   "execution_count": null,
   "metadata": {
    "execution": {
     "iopub.status.busy": "2023-05-11T16:38:39.183301Z",
     "iopub.status.idle": "2023-05-11T16:38:39.183991Z",
     "shell.execute_reply": "2023-05-11T16:38:39.183593Z",
     "shell.execute_reply.started": "2023-05-11T16:38:39.183567Z"
    }
   },
   "outputs": [],
   "source": [
    "dtreeviz.model(m,\n",
    "               X_train=xs, y_train=y,\n",
    "               feature_names=list(xs.columns),\n",
    "               target_name='Sale Price').view()"
   ]
  },
  {
   "cell_type": "markdown",
   "metadata": {},
   "source": [
    "Create a decision tree with more nodes. We shouldn't have as many nodes as we can as this will overfit the data."
   ]
  },
  {
   "cell_type": "code",
   "execution_count": null,
   "metadata": {
    "execution": {
     "iopub.status.busy": "2023-05-11T16:38:39.186005Z",
     "iopub.status.idle": "2023-05-11T16:38:39.186509Z",
     "shell.execute_reply": "2023-05-11T16:38:39.186271Z",
     "shell.execute_reply.started": "2023-05-11T16:38:39.186247Z"
    }
   },
   "outputs": [],
   "source": [
    "m = DecisionTreeRegressor(min_samples_leaf=25)\n",
    "m.fit(xs, y)"
   ]
  },
  {
   "cell_type": "markdown",
   "metadata": {},
   "source": [
    "I'm adding the log here in the `r_mse` function instead of in the data itself. I'm unsure if this is correct but the submission sample suggests the result should just be the predicted price, not the log of it."
   ]
  },
  {
   "cell_type": "code",
   "execution_count": null,
   "metadata": {
    "execution": {
     "iopub.status.busy": "2023-05-11T16:38:39.189099Z",
     "iopub.status.idle": "2023-05-11T16:38:39.189621Z",
     "shell.execute_reply": "2023-05-11T16:38:39.189380Z",
     "shell.execute_reply.started": "2023-05-11T16:38:39.189356Z"
    }
   },
   "outputs": [],
   "source": [
    "def r_mse(prediction, y): return round(math.sqrt(((np.log(prediction) - np.log(y) ) ** 2).mean()), 6)\n",
    "def m_rmse(model, xs, y): return r_mse(model.predict(xs), y)    "
   ]
  },
  {
   "cell_type": "code",
   "execution_count": null,
   "metadata": {
    "execution": {
     "iopub.status.busy": "2023-05-11T16:38:39.190945Z",
     "iopub.status.idle": "2023-05-11T16:38:39.191463Z",
     "shell.execute_reply": "2023-05-11T16:38:39.191221Z",
     "shell.execute_reply.started": "2023-05-11T16:38:39.191196Z"
    }
   },
   "outputs": [],
   "source": [
    "m_rmse(m, xs, y), m_rmse(m, valid_xs, valid_y)\n",
    "# What are these numbers, what is the kind of scale I should be thinking about\n",
    "# What is a good rmse? The part that's confusing me is the book say 0.331466 is bad but \n",
    "# 0.323396 is good.\n",
    "# In any case (0.165274, 0.197932) looks pretty good."
   ]
  },
  {
   "cell_type": "markdown",
   "metadata": {},
   "source": [
    "## Submit first attempt\n",
    "Take a look at the submission sample to see what we need. A CSV of ID and sale price"
   ]
  },
  {
   "cell_type": "code",
   "execution_count": null,
   "metadata": {
    "execution": {
     "iopub.status.busy": "2023-05-11T16:38:39.192829Z",
     "iopub.status.idle": "2023-05-11T16:38:39.193346Z",
     "shell.execute_reply": "2023-05-11T16:38:39.193108Z",
     "shell.execute_reply.started": "2023-05-11T16:38:39.193084Z"
    }
   },
   "outputs": [],
   "source": [
    "sub_sample = pd.read_csv(path/'sample_submission.csv')\n",
    "sub_sample"
   ]
  },
  {
   "cell_type": "code",
   "execution_count": null,
   "metadata": {
    "execution": {
     "iopub.status.busy": "2023-05-11T16:38:39.195012Z",
     "iopub.status.idle": "2023-05-11T16:38:39.195522Z",
     "shell.execute_reply": "2023-05-11T16:38:39.195284Z",
     "shell.execute_reply.started": "2023-05-11T16:38:39.195259Z"
    }
   },
   "outputs": [],
   "source": [
    "preds = m.predict(test_data.xs)\n",
    "# Zip up the ids and predictions, then transform to 2D array from Array of tuples\n",
    "submission = [list(t) for t in list(zip(test_data['Id'], preds))]\n",
    "\n",
    "# Convert to Pandas dataframe to output CSV for submission.\n",
    "sub_df = pd.DataFrame(submission, columns=['Id', 'SalePrice'])\n",
    "sub_df.to_csv('subm.csv', index=False)\n",
    "sub_sample.Id, test_data.columns"
   ]
  },
  {
   "cell_type": "code",
   "execution_count": null,
   "metadata": {
    "execution": {
     "iopub.status.busy": "2023-05-11T16:38:39.197237Z",
     "iopub.status.idle": "2023-05-11T16:38:39.197608Z",
     "shell.execute_reply": "2023-05-11T16:38:39.197444Z",
     "shell.execute_reply.started": "2023-05-11T16:38:39.197427Z"
    }
   },
   "outputs": [],
   "source": [
    "from kaggle import api\n",
    "#api.competition_submit_cli('subm.csv', 'Initial decision tree', comp)"
   ]
  }
 ],
 "metadata": {
  "kernelspec": {
   "display_name": "Python 3 (ipykernel)",
   "language": "python",
   "name": "python3"
  },
  "language_info": {
   "codemirror_mode": {
    "name": "ipython",
    "version": 3
   },
   "file_extension": ".py",
   "mimetype": "text/x-python",
   "name": "python",
   "nbconvert_exporter": "python",
   "pygments_lexer": "ipython3",
   "version": "3.10.10"
  }
 },
 "nbformat": 4,
 "nbformat_minor": 4
}
