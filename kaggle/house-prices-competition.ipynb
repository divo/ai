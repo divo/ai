{
 "cells": [
  {
   "cell_type": "markdown",
   "metadata": {},
   "source": [
    "# House price analysis"
   ]
  },
  {
   "cell_type": "markdown",
   "metadata": {},
   "source": [
    "## Setup"
   ]
  },
  {
   "cell_type": "code",
   "execution_count": 243,
   "metadata": {
    "execution": {
     "iopub.execute_input": "2023-05-11T16:38:00.035019Z",
     "iopub.status.busy": "2023-05-11T16:38:00.034594Z",
     "iopub.status.idle": "2023-05-11T16:38:28.991030Z",
     "shell.execute_reply": "2023-05-11T16:38:28.989583Z",
     "shell.execute_reply.started": "2023-05-11T16:38:00.034985Z"
    }
   },
   "outputs": [],
   "source": [
    "# This takes a long time / hangs, so don't do it unless we need to.\n",
    "!pip install -Uq pandas kaggle fastai scikit-learn waterfallcharts treeinterpreter dtreeviz"
   ]
  },
  {
   "cell_type": "code",
   "execution_count": 244,
   "metadata": {
    "execution": {
     "iopub.execute_input": "2023-05-11T16:38:28.994409Z",
     "iopub.status.busy": "2023-05-11T16:38:28.993918Z",
     "iopub.status.idle": "2023-05-11T16:38:35.206746Z",
     "shell.execute_reply": "2023-05-11T16:38:35.205730Z",
     "shell.execute_reply.started": "2023-05-11T16:38:28.994359Z"
    }
   },
   "outputs": [],
   "source": [
    "import pandas as pd\n",
    "import numpy as np\n",
    "import os, zipfile\n",
    "from fastai import * \n",
    "from fastai.tabular.all import *\n",
    "from pathlib import Path\n",
    "from sklearn.ensemble import RandomForestRegressor\n",
    "from sklearn.tree import *\n",
    "from dtreeviz.trees import *\n",
    "import graphviz\n",
    "from IPython.display import Image, display_svg, SVG\n",
    "\n",
    "pd.options.display.max_rows = 20\n",
    "pd.options.display.max_columns = 8"
   ]
  },
  {
   "cell_type": "code",
   "execution_count": 245,
   "metadata": {
    "execution": {
     "iopub.execute_input": "2023-05-11T16:38:35.208793Z",
     "iopub.status.busy": "2023-05-11T16:38:35.208162Z",
     "iopub.status.idle": "2023-05-11T16:38:35.216066Z",
     "shell.execute_reply": "2023-05-11T16:38:35.214793Z",
     "shell.execute_reply.started": "2023-05-11T16:38:35.208759Z"
    }
   },
   "outputs": [],
   "source": [
    "creds = '{\"username\":\"divodivenson\",\"key\":\"f0f9e3f8378e39e818097a5df978aa64\"}'\n",
    "cred_path = Path('~/.kaggle/kaggle.json').expanduser()\n",
    "if not cred_path.exists():\n",
    "    cred_path.parent.mkdir(exist_ok=True)\n",
    "    cred_path.write_text(creds)\n",
    "    cred_path.chmod(0o600)"
   ]
  },
  {
   "cell_type": "code",
   "execution_count": 246,
   "metadata": {
    "execution": {
     "iopub.execute_input": "2023-05-11T16:38:35.219382Z",
     "iopub.status.busy": "2023-05-11T16:38:35.218938Z",
     "iopub.status.idle": "2023-05-11T16:38:35.294212Z",
     "shell.execute_reply": "2023-05-11T16:38:35.293196Z",
     "shell.execute_reply.started": "2023-05-11T16:38:35.219346Z"
    }
   },
   "outputs": [
    {
     "data": {
      "text/plain": [
       "(#4) [Path('../input/house-prices-advanced-regression-techniques/test.csv'),Path('../input/house-prices-advanced-regression-techniques/data_description.txt'),Path('../input/house-prices-advanced-regression-techniques/train.csv'),Path('../input/house-prices-advanced-regression-techniques/sample_submission.csv')]"
      ]
     },
     "execution_count": 246,
     "metadata": {},
     "output_type": "execute_result"
    }
   ],
   "source": [
    "from kaggle import api\n",
    "comp = 'house-prices-advanced-regression-techniques'\n",
    "path = Path(f'../input/{comp}')\n",
    "if not path.exists():\n",
    "    path.mkdir(parents=true)\n",
    "    api.competition_download_cli(comp, path=path)\n",
    "    shutil.unpack_archive(str(path/f'{comp}.zip'), str(path))\n",
    "\n",
    "path.ls(file_type='text')"
   ]
  },
  {
   "cell_type": "markdown",
   "metadata": {},
   "source": [
    "## First look at data\n"
   ]
  },
  {
   "cell_type": "code",
   "execution_count": 247,
   "metadata": {
    "execution": {
     "iopub.execute_input": "2023-05-11T16:38:35.297651Z",
     "iopub.status.busy": "2023-05-11T16:38:35.296909Z",
     "iopub.status.idle": "2023-05-11T16:38:35.412168Z",
     "shell.execute_reply": "2023-05-11T16:38:35.410904Z",
     "shell.execute_reply.started": "2023-05-11T16:38:35.297608Z"
    }
   },
   "outputs": [
    {
     "data": {
      "text/plain": [
       "(81, 80)"
      ]
     },
     "execution_count": 247,
     "metadata": {},
     "output_type": "execute_result"
    }
   ],
   "source": [
    "trn_path = path/'train.csv'\n",
    "df = pd.read_csv(trn_path, low_memory=False)\n",
    "\n",
    "df_test = pd.read_csv(path/'test.csv', low_memory=False)\n",
    "\n",
    "len(df.columns), len(df_test.columns)"
   ]
  },
  {
   "cell_type": "code",
   "execution_count": 248,
   "metadata": {
    "execution": {
     "iopub.execute_input": "2023-05-11T16:38:35.414138Z",
     "iopub.status.busy": "2023-05-11T16:38:35.413660Z",
     "iopub.status.idle": "2023-05-11T16:38:35.439002Z",
     "shell.execute_reply": "2023-05-11T16:38:35.437968Z",
     "shell.execute_reply.started": "2023-05-11T16:38:35.414095Z"
    }
   },
   "outputs": [
    {
     "data": {
      "text/plain": [
       "Index([1460,   15,    5,  111, 1073,    2,    3,    4,    4,    2,    5,    3,\n",
       "         25,    9,    8,    5,    8,   10,    9,  112,   61,    6,    8,   15,\n",
       "         16,    4,  328,    4,    5,    6,    5,    5,    5,    7,  637,    7,\n",
       "        144,  780,  721,    6,    5,    2,    6,  753,  417,   24,  861,    4,\n",
       "          3,    4,    3,    8,    4,    4,   12,    7,    4,    6,    7,   98,\n",
       "          4,    5,  441,    6,    6,    3,  274,  202,  120,   20,   76,    8,\n",
       "          4,    5,    5,   21,   12,    5,    9,    6,  663],\n",
       "      dtype='int64')"
      ]
     },
     "execution_count": 248,
     "metadata": {},
     "output_type": "execute_result"
    }
   ],
   "source": [
    "# Lets get an idea of where the ordianls are\n",
    "df.columns.map(lambda col: df[col].unique().size )"
   ]
  },
  {
   "cell_type": "code",
   "execution_count": 249,
   "metadata": {
    "execution": {
     "iopub.execute_input": "2023-05-11T16:38:35.440763Z",
     "iopub.status.busy": "2023-05-11T16:38:35.440404Z",
     "iopub.status.idle": "2023-05-11T16:38:35.474357Z",
     "shell.execute_reply": "2023-05-11T16:38:35.473122Z",
     "shell.execute_reply.started": "2023-05-11T16:38:35.440734Z"
    }
   },
   "outputs": [
    {
     "data": {
      "text/plain": [
       "Index(['Id - Continuous\\n',\n",
       "       'MSSubClass [ 60  20  70  50 190  45  90 120  30  85  80 160  75 180  40]\\n',\n",
       "       'MSZoning ['RL' 'RM' 'C (all)' 'FV' 'RH']\\n',\n",
       "       'LotFrontage - Continuous\\n', 'LotArea - Continuous\\n',\n",
       "       'Street ['Pave' 'Grvl']\\n', 'Alley [nan 'Grvl' 'Pave']\\n',\n",
       "       'LotShape ['Reg' 'IR1' 'IR2' 'IR3']\\n',\n",
       "       'LandContour ['Lvl' 'Bnk' 'Low' 'HLS']\\n',\n",
       "       'Utilities ['AllPub' 'NoSeWa']\\n',\n",
       "       'LotConfig ['Inside' 'FR2' 'Corner' 'CulDSac' 'FR3']\\n',\n",
       "       'LandSlope ['Gtl' 'Mod' 'Sev']\\n',\n",
       "       'Neighborhood ['CollgCr' 'Veenker' 'Crawfor' 'NoRidge' 'Mitchel' 'Somerst' 'NWAmes'\\n 'OldTown' 'BrkSide' 'Sawyer' 'NridgHt' 'NAmes' 'SawyerW' 'IDOTRR'\\n 'MeadowV' 'Edwards' 'Timber' 'Gilbert' 'StoneBr' 'ClearCr' 'NPkVill'\\n 'Blmngtn' 'BrDale' 'SWISU' 'Blueste']\\n',\n",
       "       'Condition1 ['Norm' 'Feedr' 'PosN' 'Artery' 'RRAe' 'RRNn' 'RRAn' 'PosA' 'RRNe']\\n',\n",
       "       'Condition2 ['Norm' 'Artery' 'RRNn' 'Feedr' 'PosN' 'PosA' 'RRAn' 'RRAe']\\n',\n",
       "       'BldgType ['1Fam' '2fmCon' 'Duplex' 'TwnhsE' 'Twnhs']\\n',\n",
       "       'HouseStyle ['2Story' '1Story' '1.5Fin' '1.5Unf' 'SFoyer' 'SLvl' '2.5Unf' '2.5Fin']\\n',\n",
       "       'OverallQual [ 7  6  8  5  9  4 10  3  1  2]\\n',\n",
       "       'OverallCond [5 8 6 7 4 2 3 9 1]\\n', 'YearBuilt - Continuous\\n',\n",
       "       'YearRemodAdd - Continuous\\n',\n",
       "       'RoofStyle ['Gable' 'Hip' 'Gambrel' 'Mansard' 'Flat' 'Shed']\\n',\n",
       "       'RoofMatl ['CompShg' 'WdShngl' 'Metal' 'WdShake' 'Membran' 'Tar&Grv' 'Roll'\\n 'ClyTile']\\n',\n",
       "       'Exterior1st ['VinylSd' 'MetalSd' 'Wd Sdng' 'HdBoard' 'BrkFace' 'WdShing' 'CemntBd'\\n 'Plywood' 'AsbShng' 'Stucco' 'BrkComm' 'AsphShn' 'Stone' 'ImStucc'\\n 'CBlock']\\n',\n",
       "       'Exterior2nd ['VinylSd' 'MetalSd' 'Wd Shng' 'HdBoard' 'Plywood' 'Wd Sdng' 'CmentBd'\\n 'BrkFace' 'Stucco' 'AsbShng' 'Brk Cmn' 'ImStucc' 'AsphShn' 'Stone'\\n 'Other' 'CBlock']\\n',\n",
       "       'MasVnrType ['BrkFace' nan 'Stone' 'BrkCmn']\\n',\n",
       "       'MasVnrArea - Continuous\\n', 'ExterQual ['Gd' 'TA' 'Ex' 'Fa']\\n',\n",
       "       'ExterCond ['TA' 'Gd' 'Fa' 'Po' 'Ex']\\n',\n",
       "       'Foundation ['PConc' 'CBlock' 'BrkTil' 'Wood' 'Slab' 'Stone']\\n',\n",
       "       'BsmtQual ['Gd' 'TA' 'Ex' nan 'Fa']\\n',\n",
       "       'BsmtCond ['TA' 'Gd' nan 'Fa' 'Po']\\n',\n",
       "       'BsmtExposure ['No' 'Gd' 'Mn' 'Av' nan]\\n',\n",
       "       'BsmtFinType1 ['GLQ' 'ALQ' 'Unf' 'Rec' 'BLQ' nan 'LwQ']\\n',\n",
       "       'BsmtFinSF1 - Continuous\\n',\n",
       "       'BsmtFinType2 ['Unf' 'BLQ' nan 'ALQ' 'Rec' 'LwQ' 'GLQ']\\n',\n",
       "       'BsmtFinSF2 - Continuous\\n', 'BsmtUnfSF - Continuous\\n',\n",
       "       'TotalBsmtSF - Continuous\\n',\n",
       "       'Heating ['GasA' 'GasW' 'Grav' 'Wall' 'OthW' 'Floor']\\n',\n",
       "       'HeatingQC ['Ex' 'Gd' 'TA' 'Fa' 'Po']\\n', 'CentralAir ['Y' 'N']\\n',\n",
       "       'Electrical ['SBrkr' 'FuseF' 'FuseA' 'FuseP' 'Mix' nan]\\n',\n",
       "       '1stFlrSF - Continuous\\n', '2ndFlrSF - Continuous\\n',\n",
       "       'LowQualFinSF [  0 360 513 234 528 572 144 392 371 390 420 473 156 515  80  53 232 481\\n 120 514 397 479 205 384]\\n',\n",
       "       'GrLivArea - Continuous\\n', 'BsmtFullBath [1 0 2 3]\\n',\n",
       "       'BsmtHalfBath [0 1 2]\\n', 'FullBath [2 1 3 0]\\n', 'HalfBath [1 0 2]\\n',\n",
       "       'BedroomAbvGr [3 4 1 2 0 5 6 8]\\n', 'KitchenAbvGr [1 2 3 0]\\n',\n",
       "       'KitchenQual ['Gd' 'TA' 'Ex' 'Fa']\\n',\n",
       "       'TotRmsAbvGrd [ 8  6  7  9  5 11  4 10 12  3  2 14]\\n',\n",
       "       'Functional ['Typ' 'Min1' 'Maj1' 'Min2' 'Mod' 'Maj2' 'Sev']\\n',\n",
       "       'Fireplaces [0 1 2 3]\\n',\n",
       "       'FireplaceQu [nan 'TA' 'Gd' 'Fa' 'Ex' 'Po']\\n',\n",
       "       'GarageType ['Attchd' 'Detchd' 'BuiltIn' 'CarPort' nan 'Basment' '2Types']\\n',\n",
       "       'GarageYrBlt - Continuous\\n', 'GarageFinish ['RFn' 'Unf' 'Fin' nan]\\n',\n",
       "       'GarageCars [2 3 1 0 4]\\n', 'GarageArea - Continuous\\n',\n",
       "       'GarageQual ['TA' 'Fa' 'Gd' nan 'Ex' 'Po']\\n',\n",
       "       'GarageCond ['TA' 'Fa' nan 'Gd' 'Po' 'Ex']\\n',\n",
       "       'PavedDrive ['Y' 'N' 'P']\\n', 'WoodDeckSF - Continuous\\n',\n",
       "       'OpenPorchSF - Continuous\\n', 'EnclosedPorch - Continuous\\n',\n",
       "       '3SsnPorch [  0 320 407 130 180 168 140 508 238 245 196 144 182 162  23 216  96 153\\n 290 304]\\n',\n",
       "       'ScreenPorch - Continuous\\n',\n",
       "       'PoolArea [  0 512 648 576 555 480 519 738]\\n',\n",
       "       'PoolQC [nan 'Ex' 'Fa' 'Gd']\\n',\n",
       "       'Fence [nan 'MnPrv' 'GdWo' 'GdPrv' 'MnWw']\\n',\n",
       "       'MiscFeature [nan 'Shed' 'Gar2' 'Othr' 'TenC']\\n',\n",
       "       'MiscVal [    0   700   350   500   400   480   450 15500  1200   800  2000   600\\n  3500  1300    54   620   560  1400  8300  1150  2500]\\n',\n",
       "       'MoSold [ 2  5  9 12 10  8 11  4  1  7  3  6]\\n',\n",
       "       'YrSold [2008 2007 2006 2009 2010]\\n',\n",
       "       'SaleType ['WD' 'New' 'COD' 'ConLD' 'ConLI' 'CWD' 'ConLw' 'Con' 'Oth']\\n',\n",
       "       'SaleCondition ['Normal' 'Abnorml' 'Partial' 'AdjLand' 'Alloca' 'Family']\\n',\n",
       "       'SalePrice - Continuous\\n'],\n",
       "      dtype='object')"
      ]
     },
     "execution_count": 249,
     "metadata": {},
     "output_type": "execute_result"
    }
   ],
   "source": [
    "def print_levels(level):\n",
    "    if df[level].unique().size < 50:\n",
    "        return f\"{level} {df[level].unique()}\\n\"\n",
    "    else:\n",
    "        return f\"{level} - Continuous\\n\"\n",
    "    \n",
    "df.columns.map(print_levels)"
   ]
  },
  {
   "cell_type": "code",
   "execution_count": 250,
   "metadata": {
    "execution": {
     "iopub.execute_input": "2023-05-11T16:38:35.476088Z",
     "iopub.status.busy": "2023-05-11T16:38:35.475738Z",
     "iopub.status.idle": "2023-05-11T16:38:35.499208Z",
     "shell.execute_reply": "2023-05-11T16:38:35.498186Z",
     "shell.execute_reply.started": "2023-05-11T16:38:35.476058Z"
    }
   },
   "outputs": [
    {
     "data": {
      "text/plain": [
       "(81, 80)"
      ]
     },
     "execution_count": 250,
     "metadata": {},
     "output_type": "execute_result"
    }
   ],
   "source": [
    "# Make note of anything that appears to follow an order, just for reference. Not exhaustive\n",
    "# Not intending to input this anywhere\n",
    "# Also derived from data description https://www.kaggle.com/competitions/house-prices-advanced-regression-techniques/data\n",
    "ordinals = ['BldgType', 'HouseStyle', 'Utilities', 'ExterCond', 'ExterQual', 'Functional', 'PavedDrive']\n",
    "\n",
    "# There are even more, lets just go with the overall Home functionality\n",
    "functional = ['Typ' 'Min1' 'Maj1' 'Min2' 'Mod' 'Maj2' 'Sev']\n",
    "df['Functional'] = df['Functional'].astype('category')\n",
    "df['Functional'].cat.set_categories(functional, ordered=True)\n",
    "\n",
    "df_test['Functional'] = df_test['Functional'].astype('category')\n",
    "df_test['Functional'].cat.set_categories(functional, ordered=True)\n",
    "len(df.columns), len(df_test.columns)"
   ]
  },
  {
   "cell_type": "markdown",
   "metadata": {},
   "source": [
    "### Dates"
   ]
  },
  {
   "cell_type": "code",
   "execution_count": 251,
   "metadata": {
    "execution": {
     "iopub.execute_input": "2023-05-11T16:38:35.501447Z",
     "iopub.status.busy": "2023-05-11T16:38:35.500984Z",
     "iopub.status.idle": "2023-05-11T16:38:35.560182Z",
     "shell.execute_reply": "2023-05-11T16:38:35.558519Z",
     "shell.execute_reply.started": "2023-05-11T16:38:35.501406Z"
    }
   },
   "outputs": [
    {
     "name": "stderr",
     "output_type": "stream",
     "text": [
      "/opt/homebrew/Caskroom/miniforge/base/envs/torch-gpu/lib/python3.10/site-packages/fastai/tabular/core.py:23: UserWarning: The argument 'infer_datetime_format' is deprecated and will be removed in a future version. A strict version of it is now the default, see https://pandas.pydata.org/pdeps/0004-consistent-to-datetime-parsing.html. You can safely remove this argument.\n",
      "/opt/homebrew/Caskroom/miniforge/base/envs/torch-gpu/lib/python3.10/site-packages/fastai/tabular/core.py:23: UserWarning: Could not infer format, so each element will be parsed individually, falling back to `dateutil`. To ensure parsing is consistent and as-expected, please specify a format.\n"
     ]
    },
    {
     "data": {
      "text/html": [
       "<div>\n",
       "<style scoped>\n",
       "    .dataframe tbody tr th:only-of-type {\n",
       "        vertical-align: middle;\n",
       "    }\n",
       "\n",
       "    .dataframe tbody tr th {\n",
       "        vertical-align: top;\n",
       "    }\n",
       "\n",
       "    .dataframe thead th {\n",
       "        text-align: right;\n",
       "    }\n",
       "</style>\n",
       "<table border=\"1\" class=\"dataframe\">\n",
       "  <thead>\n",
       "    <tr style=\"text-align: right;\">\n",
       "      <th></th>\n",
       "      <th>Id</th>\n",
       "      <th>MSSubClass</th>\n",
       "      <th>MSZoning</th>\n",
       "      <th>LotFrontage</th>\n",
       "      <th>...</th>\n",
       "      <th>saleIs_quarter_start</th>\n",
       "      <th>saleIs_year_end</th>\n",
       "      <th>saleIs_year_start</th>\n",
       "      <th>saleElapsed</th>\n",
       "    </tr>\n",
       "  </thead>\n",
       "  <tbody>\n",
       "    <tr>\n",
       "      <th>0</th>\n",
       "      <td>1</td>\n",
       "      <td>60</td>\n",
       "      <td>RL</td>\n",
       "      <td>65.0</td>\n",
       "      <td>...</td>\n",
       "      <td>False</td>\n",
       "      <td>False</td>\n",
       "      <td>False</td>\n",
       "      <td>1.201824e+09</td>\n",
       "    </tr>\n",
       "    <tr>\n",
       "      <th>1</th>\n",
       "      <td>2</td>\n",
       "      <td>20</td>\n",
       "      <td>RL</td>\n",
       "      <td>80.0</td>\n",
       "      <td>...</td>\n",
       "      <td>False</td>\n",
       "      <td>False</td>\n",
       "      <td>False</td>\n",
       "      <td>1.177978e+09</td>\n",
       "    </tr>\n",
       "    <tr>\n",
       "      <th>2</th>\n",
       "      <td>3</td>\n",
       "      <td>60</td>\n",
       "      <td>RL</td>\n",
       "      <td>68.0</td>\n",
       "      <td>...</td>\n",
       "      <td>False</td>\n",
       "      <td>False</td>\n",
       "      <td>False</td>\n",
       "      <td>1.220227e+09</td>\n",
       "    </tr>\n",
       "    <tr>\n",
       "      <th>3</th>\n",
       "      <td>4</td>\n",
       "      <td>70</td>\n",
       "      <td>RL</td>\n",
       "      <td>60.0</td>\n",
       "      <td>...</td>\n",
       "      <td>False</td>\n",
       "      <td>False</td>\n",
       "      <td>False</td>\n",
       "      <td>1.138752e+09</td>\n",
       "    </tr>\n",
       "    <tr>\n",
       "      <th>4</th>\n",
       "      <td>5</td>\n",
       "      <td>60</td>\n",
       "      <td>RL</td>\n",
       "      <td>84.0</td>\n",
       "      <td>...</td>\n",
       "      <td>False</td>\n",
       "      <td>False</td>\n",
       "      <td>False</td>\n",
       "      <td>1.228090e+09</td>\n",
       "    </tr>\n",
       "    <tr>\n",
       "      <th>...</th>\n",
       "      <td>...</td>\n",
       "      <td>...</td>\n",
       "      <td>...</td>\n",
       "      <td>...</td>\n",
       "      <td>...</td>\n",
       "      <td>...</td>\n",
       "      <td>...</td>\n",
       "      <td>...</td>\n",
       "      <td>...</td>\n",
       "    </tr>\n",
       "    <tr>\n",
       "      <th>1455</th>\n",
       "      <td>1456</td>\n",
       "      <td>60</td>\n",
       "      <td>RL</td>\n",
       "      <td>62.0</td>\n",
       "      <td>...</td>\n",
       "      <td>False</td>\n",
       "      <td>False</td>\n",
       "      <td>False</td>\n",
       "      <td>1.185926e+09</td>\n",
       "    </tr>\n",
       "    <tr>\n",
       "      <th>1456</th>\n",
       "      <td>1457</td>\n",
       "      <td>20</td>\n",
       "      <td>RL</td>\n",
       "      <td>85.0</td>\n",
       "      <td>...</td>\n",
       "      <td>False</td>\n",
       "      <td>False</td>\n",
       "      <td>False</td>\n",
       "      <td>1.264982e+09</td>\n",
       "    </tr>\n",
       "    <tr>\n",
       "      <th>1457</th>\n",
       "      <td>1458</td>\n",
       "      <td>70</td>\n",
       "      <td>RL</td>\n",
       "      <td>66.0</td>\n",
       "      <td>...</td>\n",
       "      <td>False</td>\n",
       "      <td>False</td>\n",
       "      <td>False</td>\n",
       "      <td>1.272672e+09</td>\n",
       "    </tr>\n",
       "    <tr>\n",
       "      <th>1458</th>\n",
       "      <td>1459</td>\n",
       "      <td>20</td>\n",
       "      <td>RL</td>\n",
       "      <td>68.0</td>\n",
       "      <td>...</td>\n",
       "      <td>True</td>\n",
       "      <td>False</td>\n",
       "      <td>False</td>\n",
       "      <td>1.270080e+09</td>\n",
       "    </tr>\n",
       "    <tr>\n",
       "      <th>1459</th>\n",
       "      <td>1460</td>\n",
       "      <td>20</td>\n",
       "      <td>RL</td>\n",
       "      <td>75.0</td>\n",
       "      <td>...</td>\n",
       "      <td>False</td>\n",
       "      <td>False</td>\n",
       "      <td>False</td>\n",
       "      <td>1.212278e+09</td>\n",
       "    </tr>\n",
       "  </tbody>\n",
       "</table>\n",
       "<p>1460 rows × 94 columns</p>\n",
       "</div>"
      ],
      "text/plain": [
       "        Id  MSSubClass MSZoning  LotFrontage  ...  saleIs_quarter_start   \n",
       "0        1          60       RL         65.0  ...                 False  \\\n",
       "1        2          20       RL         80.0  ...                 False   \n",
       "2        3          60       RL         68.0  ...                 False   \n",
       "3        4          70       RL         60.0  ...                 False   \n",
       "4        5          60       RL         84.0  ...                 False   \n",
       "...    ...         ...      ...          ...  ...                   ...   \n",
       "1455  1456          60       RL         62.0  ...                 False   \n",
       "1456  1457          20       RL         85.0  ...                 False   \n",
       "1457  1458          70       RL         66.0  ...                 False   \n",
       "1458  1459          20       RL         68.0  ...                  True   \n",
       "1459  1460          20       RL         75.0  ...                 False   \n",
       "\n",
       "     saleIs_year_end saleIs_year_start   saleElapsed  \n",
       "0              False             False  1.201824e+09  \n",
       "1              False             False  1.177978e+09  \n",
       "2              False             False  1.220227e+09  \n",
       "3              False             False  1.138752e+09  \n",
       "4              False             False  1.228090e+09  \n",
       "...              ...               ...           ...  \n",
       "1455           False             False  1.185926e+09  \n",
       "1456           False             False  1.264982e+09  \n",
       "1457           False             False  1.272672e+09  \n",
       "1458           False             False  1.270080e+09  \n",
       "1459           False             False  1.212278e+09  \n",
       "\n",
       "[1460 rows x 94 columns]"
      ]
     },
     "execution_count": 251,
     "metadata": {},
     "output_type": "execute_result"
    }
   ],
   "source": [
    "df['saledate'] = df['MoSold'].astype(str) + '/' + df['YrSold'].astype(str)\n",
    "df = add_datepart(df, 'saledate')\n",
    "df"
   ]
  },
  {
   "cell_type": "code",
   "execution_count": 252,
   "metadata": {
    "execution": {
     "iopub.execute_input": "2023-05-11T16:38:35.564935Z",
     "iopub.status.busy": "2023-05-11T16:38:35.564509Z",
     "iopub.status.idle": "2023-05-11T16:38:35.618143Z",
     "shell.execute_reply": "2023-05-11T16:38:35.616901Z",
     "shell.execute_reply.started": "2023-05-11T16:38:35.564900Z"
    }
   },
   "outputs": [
    {
     "name": "stderr",
     "output_type": "stream",
     "text": [
      "/opt/homebrew/Caskroom/miniforge/base/envs/torch-gpu/lib/python3.10/site-packages/fastai/tabular/core.py:23: UserWarning: The argument 'infer_datetime_format' is deprecated and will be removed in a future version. A strict version of it is now the default, see https://pandas.pydata.org/pdeps/0004-consistent-to-datetime-parsing.html. You can safely remove this argument.\n",
      "/opt/homebrew/Caskroom/miniforge/base/envs/torch-gpu/lib/python3.10/site-packages/fastai/tabular/core.py:23: UserWarning: Could not infer format, so each element will be parsed individually, falling back to `dateutil`. To ensure parsing is consistent and as-expected, please specify a format.\n"
     ]
    },
    {
     "data": {
      "text/plain": [
       "(94, 93)"
      ]
     },
     "execution_count": 252,
     "metadata": {},
     "output_type": "execute_result"
    }
   ],
   "source": [
    "# Do the same for the test dataset\n",
    "df_test['saledate'] = df_test['MoSold'].astype(str) + '/' + df_test['YrSold'].astype(str)\n",
    "df_test = add_datepart(df_test, 'saledate')\n",
    "df_test\n",
    "len(df.columns), len(df_test.columns)"
   ]
  },
  {
   "cell_type": "markdown",
   "metadata": {},
   "source": [
    "### Depedent variable"
   ]
  },
  {
   "cell_type": "markdown",
   "metadata": {},
   "source": [
    "`SalePrice` is the dependent variable. We are told the evaluation is on the RMSE between the log of the predicted and actual sale price (Taking logs means that errors in predicting expensive houses and cheap houses will affect the result equally.)\n",
    "\n",
    "Update - I'm not sure if this should be done in the submission or not"
   ]
  },
  {
   "cell_type": "code",
   "execution_count": 253,
   "metadata": {
    "execution": {
     "iopub.execute_input": "2023-05-11T16:38:35.620127Z",
     "iopub.status.busy": "2023-05-11T16:38:35.619737Z",
     "iopub.status.idle": "2023-05-11T16:38:35.625040Z",
     "shell.execute_reply": "2023-05-11T16:38:35.624043Z",
     "shell.execute_reply.started": "2023-05-11T16:38:35.620088Z"
    }
   },
   "outputs": [],
   "source": [
    "dep_var = 'SalePrice'\n",
    "#df[dep_var] = np.log(df[dep_var])"
   ]
  },
  {
   "cell_type": "markdown",
   "metadata": {},
   "source": [
    "## Decision Tree\n",
    "First lets have a go at building a plain old decision tree and submit that to Kaggle"
   ]
  },
  {
   "cell_type": "markdown",
   "metadata": {},
   "source": [
    "### Test and validation set\n",
    "In this case I don't see the test set contain future dates compared to the training set, so my first attempt at a validation set will just take a random sample of the training set."
   ]
  },
  {
   "cell_type": "code",
   "execution_count": 254,
   "metadata": {
    "execution": {
     "iopub.execute_input": "2023-05-11T16:38:35.626896Z",
     "iopub.status.busy": "2023-05-11T16:38:35.626522Z",
     "iopub.status.idle": "2023-05-11T16:38:35.644520Z",
     "shell.execute_reply": "2023-05-11T16:38:35.643184Z",
     "shell.execute_reply.started": "2023-05-11T16:38:35.626862Z"
    }
   },
   "outputs": [
    {
     "data": {
      "text/plain": [
       "(array([2008, 2007, 2006, 2009, 2010]), array([2010, 2009, 2008, 2007, 2006]))"
      ]
     },
     "execution_count": 254,
     "metadata": {},
     "output_type": "execute_result"
    }
   ],
   "source": [
    "df['YrSold'].unique(), df_test['YrSold'].unique()"
   ]
  },
  {
   "cell_type": "code",
   "execution_count": 255,
   "metadata": {},
   "outputs": [
    {
     "data": {
      "text/plain": [
       "((1168, 94), (292, 94))"
      ]
     },
     "execution_count": 255,
     "metadata": {},
     "output_type": "execute_result"
    }
   ],
   "source": [
    "from sklearn.model_selection import train_test_split\n",
    "df_train, df_valid = train_test_split(df, test_size=0.2)\n",
    "df_train.size, df_valid.size\n",
    "df_train.shape, df_valid.shape"
   ]
  },
  {
   "cell_type": "code",
   "execution_count": 256,
   "metadata": {
    "execution": {
     "iopub.execute_input": "2023-05-11T16:38:35.647210Z",
     "iopub.status.busy": "2023-05-11T16:38:35.646218Z",
     "iopub.status.idle": "2023-05-11T16:38:35.886181Z",
     "shell.execute_reply": "2023-05-11T16:38:35.885063Z",
     "shell.execute_reply.started": "2023-05-11T16:38:35.647173Z"
    }
   },
   "outputs": [],
   "source": [
    "# Need to get the index from the row in df of all the fields in df_valid\n",
    "train_idx = df_train.Id.map(lambda id: df.index[df.Id == id][0])\n",
    "valid_idx = df_valid.Id.map(lambda id: df.index[df.Id == id][0])\n",
    "splits = (list(train_idx), list(valid_idx))"
   ]
  },
  {
   "cell_type": "markdown",
   "metadata": {},
   "source": [
    "### Handle missing data and strings\n",
    "Sklearn cannot handle missing data or strings.\n",
    "\n",
    "`Categorify` is a TabularProc that replaces a column with a numeric categorical column. \n",
    "\n",
    "`FillMissing` is a TabularProc that replaces missing values with the median of the column"
   ]
  },
  {
   "cell_type": "code",
   "execution_count": 257,
   "metadata": {},
   "outputs": [
    {
     "data": {
      "text/plain": [
       "(43, 50)"
      ]
     },
     "execution_count": 257,
     "metadata": {},
     "output_type": "execute_result"
    }
   ],
   "source": [
    "cont, cat = cont_cat_split(df, 1, dep_var=dep_var)\n",
    "len(cont), len(cat)"
   ]
  },
  {
   "cell_type": "code",
   "execution_count": 288,
   "metadata": {
    "execution": {
     "iopub.execute_input": "2023-05-11T16:38:35.888353Z",
     "iopub.status.busy": "2023-05-11T16:38:35.888010Z",
     "iopub.status.idle": "2023-05-11T16:38:36.028607Z",
     "shell.execute_reply": "2023-05-11T16:38:36.027471Z",
     "shell.execute_reply.started": "2023-05-11T16:38:35.888322Z"
    }
   },
   "outputs": [
    {
     "data": {
      "text/html": [
       "<div>\n",
       "<style scoped>\n",
       "    .dataframe tbody tr th:only-of-type {\n",
       "        vertical-align: middle;\n",
       "    }\n",
       "\n",
       "    .dataframe tbody tr th {\n",
       "        vertical-align: top;\n",
       "    }\n",
       "\n",
       "    .dataframe thead th {\n",
       "        text-align: right;\n",
       "    }\n",
       "</style>\n",
       "<table border=\"1\" class=\"dataframe\">\n",
       "  <thead>\n",
       "    <tr style=\"text-align: right;\">\n",
       "      <th></th>\n",
       "      <th>MSZoning</th>\n",
       "      <th>Street</th>\n",
       "      <th>Alley</th>\n",
       "      <th>LotShape</th>\n",
       "      <th>...</th>\n",
       "      <th>saleWeek</th>\n",
       "      <th>saleDayofweek</th>\n",
       "      <th>saleDayofyear</th>\n",
       "      <th>saleElapsed</th>\n",
       "    </tr>\n",
       "  </thead>\n",
       "  <tbody>\n",
       "    <tr>\n",
       "      <th>1202</th>\n",
       "      <td>5</td>\n",
       "      <td>2</td>\n",
       "      <td>0</td>\n",
       "      <td>4</td>\n",
       "      <td>...</td>\n",
       "      <td>18</td>\n",
       "      <td>4</td>\n",
       "      <td>121</td>\n",
       "      <td>1.241136e+09</td>\n",
       "    </tr>\n",
       "    <tr>\n",
       "      <th>1271</th>\n",
       "      <td>4</td>\n",
       "      <td>2</td>\n",
       "      <td>0</td>\n",
       "      <td>1</td>\n",
       "      <td>...</td>\n",
       "      <td>31</td>\n",
       "      <td>5</td>\n",
       "      <td>213</td>\n",
       "      <td>1.249085e+09</td>\n",
       "    </tr>\n",
       "    <tr>\n",
       "      <th>857</th>\n",
       "      <td>4</td>\n",
       "      <td>2</td>\n",
       "      <td>0</td>\n",
       "      <td>4</td>\n",
       "      <td>...</td>\n",
       "      <td>9</td>\n",
       "      <td>6</td>\n",
       "      <td>60</td>\n",
       "      <td>1.235866e+09</td>\n",
       "    </tr>\n",
       "    <tr>\n",
       "      <th>73</th>\n",
       "      <td>4</td>\n",
       "      <td>2</td>\n",
       "      <td>0</td>\n",
       "      <td>4</td>\n",
       "      <td>...</td>\n",
       "      <td>17</td>\n",
       "      <td>5</td>\n",
       "      <td>121</td>\n",
       "      <td>1.272672e+09</td>\n",
       "    </tr>\n",
       "    <tr>\n",
       "      <th>100</th>\n",
       "      <td>4</td>\n",
       "      <td>2</td>\n",
       "      <td>0</td>\n",
       "      <td>1</td>\n",
       "      <td>...</td>\n",
       "      <td>5</td>\n",
       "      <td>0</td>\n",
       "      <td>32</td>\n",
       "      <td>1.264982e+09</td>\n",
       "    </tr>\n",
       "    <tr>\n",
       "      <th>...</th>\n",
       "      <td>...</td>\n",
       "      <td>...</td>\n",
       "      <td>...</td>\n",
       "      <td>...</td>\n",
       "      <td>...</td>\n",
       "      <td>...</td>\n",
       "      <td>...</td>\n",
       "      <td>...</td>\n",
       "      <td>...</td>\n",
       "    </tr>\n",
       "    <tr>\n",
       "      <th>238</th>\n",
       "      <td>4</td>\n",
       "      <td>2</td>\n",
       "      <td>0</td>\n",
       "      <td>4</td>\n",
       "      <td>...</td>\n",
       "      <td>48</td>\n",
       "      <td>5</td>\n",
       "      <td>335</td>\n",
       "      <td>1.196467e+09</td>\n",
       "    </tr>\n",
       "    <tr>\n",
       "      <th>1295</th>\n",
       "      <td>4</td>\n",
       "      <td>2</td>\n",
       "      <td>0</td>\n",
       "      <td>4</td>\n",
       "      <td>...</td>\n",
       "      <td>44</td>\n",
       "      <td>2</td>\n",
       "      <td>305</td>\n",
       "      <td>1.162339e+09</td>\n",
       "    </tr>\n",
       "    <tr>\n",
       "      <th>850</th>\n",
       "      <td>5</td>\n",
       "      <td>2</td>\n",
       "      <td>0</td>\n",
       "      <td>4</td>\n",
       "      <td>...</td>\n",
       "      <td>44</td>\n",
       "      <td>3</td>\n",
       "      <td>305</td>\n",
       "      <td>1.193875e+09</td>\n",
       "    </tr>\n",
       "    <tr>\n",
       "      <th>427</th>\n",
       "      <td>4</td>\n",
       "      <td>2</td>\n",
       "      <td>0</td>\n",
       "      <td>1</td>\n",
       "      <td>...</td>\n",
       "      <td>27</td>\n",
       "      <td>1</td>\n",
       "      <td>183</td>\n",
       "      <td>1.214870e+09</td>\n",
       "    </tr>\n",
       "    <tr>\n",
       "      <th>1040</th>\n",
       "      <td>4</td>\n",
       "      <td>2</td>\n",
       "      <td>0</td>\n",
       "      <td>4</td>\n",
       "      <td>...</td>\n",
       "      <td>52</td>\n",
       "      <td>6</td>\n",
       "      <td>1</td>\n",
       "      <td>1.136074e+09</td>\n",
       "    </tr>\n",
       "  </tbody>\n",
       "</table>\n",
       "<p>1460 rows × 93 columns</p>\n",
       "</div>"
      ],
      "text/plain": [
       "      MSZoning  Street  Alley  LotShape  ...  saleWeek  saleDayofweek   \n",
       "1202         5       2      0         4  ...        18              4  \\\n",
       "1271         4       2      0         1  ...        31              5   \n",
       "857          4       2      0         4  ...         9              6   \n",
       "73           4       2      0         4  ...        17              5   \n",
       "100          4       2      0         1  ...         5              0   \n",
       "...        ...     ...    ...       ...  ...       ...            ...   \n",
       "238          4       2      0         4  ...        48              5   \n",
       "1295         4       2      0         4  ...        44              2   \n",
       "850          5       2      0         4  ...        44              3   \n",
       "427          4       2      0         1  ...        27              1   \n",
       "1040         4       2      0         4  ...        52              6   \n",
       "\n",
       "      saleDayofyear   saleElapsed  \n",
       "1202            121  1.241136e+09  \n",
       "1271            213  1.249085e+09  \n",
       "857              60  1.235866e+09  \n",
       "73              121  1.272672e+09  \n",
       "100              32  1.264982e+09  \n",
       "...             ...           ...  \n",
       "238             335  1.196467e+09  \n",
       "1295            305  1.162339e+09  \n",
       "850             305  1.193875e+09  \n",
       "427             183  1.214870e+09  \n",
       "1040              1  1.136074e+09  \n",
       "\n",
       "[1460 rows x 93 columns]"
      ]
     },
     "execution_count": 288,
     "metadata": {},
     "output_type": "execute_result"
    }
   ],
   "source": [
    "procs = [Categorify, FillMissing(add_col=False)]\n",
    "\n",
    "tabular_data = TabularPandas(df, procs, cat, cont, y_names=dep_var, splits=splits)\n",
    "tabular_data.xs\n",
    "len(cont), len(cat)\n",
    "tabular_data.xs"
   ]
  },
  {
   "cell_type": "markdown",
   "metadata": {},
   "source": [
    "Need to apply the same transform to the test dataset"
   ]
  },
  {
   "cell_type": "code",
   "execution_count": 286,
   "metadata": {
    "execution": {
     "iopub.execute_input": "2023-05-11T16:38:36.048387Z",
     "iopub.status.busy": "2023-05-11T16:38:36.047971Z",
     "iopub.status.idle": "2023-05-11T16:38:36.194911Z",
     "shell.execute_reply": "2023-05-11T16:38:36.193799Z",
     "shell.execute_reply.started": "2023-05-11T16:38:36.048354Z"
    }
   },
   "outputs": [
    {
     "data": {
      "text/html": [
       "<div>\n",
       "<style scoped>\n",
       "    .dataframe tbody tr th:only-of-type {\n",
       "        vertical-align: middle;\n",
       "    }\n",
       "\n",
       "    .dataframe tbody tr th {\n",
       "        vertical-align: top;\n",
       "    }\n",
       "\n",
       "    .dataframe thead th {\n",
       "        text-align: right;\n",
       "    }\n",
       "</style>\n",
       "<table border=\"1\" class=\"dataframe\">\n",
       "  <thead>\n",
       "    <tr style=\"text-align: right;\">\n",
       "      <th></th>\n",
       "      <th>MSZoning</th>\n",
       "      <th>Street</th>\n",
       "      <th>Alley</th>\n",
       "      <th>LotShape</th>\n",
       "      <th>...</th>\n",
       "      <th>saleWeek</th>\n",
       "      <th>saleDayofweek</th>\n",
       "      <th>saleDayofyear</th>\n",
       "      <th>saleElapsed</th>\n",
       "    </tr>\n",
       "  </thead>\n",
       "  <tbody>\n",
       "    <tr>\n",
       "      <th>0</th>\n",
       "      <td>3</td>\n",
       "      <td>2</td>\n",
       "      <td>0</td>\n",
       "      <td>4</td>\n",
       "      <td>...</td>\n",
       "      <td>22</td>\n",
       "      <td>1</td>\n",
       "      <td>152</td>\n",
       "      <td>1.275350e+09</td>\n",
       "    </tr>\n",
       "    <tr>\n",
       "      <th>1</th>\n",
       "      <td>4</td>\n",
       "      <td>2</td>\n",
       "      <td>0</td>\n",
       "      <td>1</td>\n",
       "      <td>...</td>\n",
       "      <td>22</td>\n",
       "      <td>1</td>\n",
       "      <td>152</td>\n",
       "      <td>1.275350e+09</td>\n",
       "    </tr>\n",
       "    <tr>\n",
       "      <th>2</th>\n",
       "      <td>4</td>\n",
       "      <td>2</td>\n",
       "      <td>0</td>\n",
       "      <td>1</td>\n",
       "      <td>...</td>\n",
       "      <td>9</td>\n",
       "      <td>0</td>\n",
       "      <td>60</td>\n",
       "      <td>1.267402e+09</td>\n",
       "    </tr>\n",
       "    <tr>\n",
       "      <th>3</th>\n",
       "      <td>4</td>\n",
       "      <td>2</td>\n",
       "      <td>0</td>\n",
       "      <td>1</td>\n",
       "      <td>...</td>\n",
       "      <td>22</td>\n",
       "      <td>1</td>\n",
       "      <td>152</td>\n",
       "      <td>1.275350e+09</td>\n",
       "    </tr>\n",
       "    <tr>\n",
       "      <th>4</th>\n",
       "      <td>4</td>\n",
       "      <td>2</td>\n",
       "      <td>0</td>\n",
       "      <td>1</td>\n",
       "      <td>...</td>\n",
       "      <td>53</td>\n",
       "      <td>4</td>\n",
       "      <td>1</td>\n",
       "      <td>1.262304e+09</td>\n",
       "    </tr>\n",
       "    <tr>\n",
       "      <th>...</th>\n",
       "      <td>...</td>\n",
       "      <td>...</td>\n",
       "      <td>...</td>\n",
       "      <td>...</td>\n",
       "      <td>...</td>\n",
       "      <td>...</td>\n",
       "      <td>...</td>\n",
       "      <td>...</td>\n",
       "      <td>...</td>\n",
       "    </tr>\n",
       "    <tr>\n",
       "      <th>1454</th>\n",
       "      <td>5</td>\n",
       "      <td>2</td>\n",
       "      <td>0</td>\n",
       "      <td>4</td>\n",
       "      <td>...</td>\n",
       "      <td>22</td>\n",
       "      <td>3</td>\n",
       "      <td>152</td>\n",
       "      <td>1.149120e+09</td>\n",
       "    </tr>\n",
       "    <tr>\n",
       "      <th>1455</th>\n",
       "      <td>5</td>\n",
       "      <td>2</td>\n",
       "      <td>0</td>\n",
       "      <td>4</td>\n",
       "      <td>...</td>\n",
       "      <td>13</td>\n",
       "      <td>5</td>\n",
       "      <td>91</td>\n",
       "      <td>1.143850e+09</td>\n",
       "    </tr>\n",
       "    <tr>\n",
       "      <th>1456</th>\n",
       "      <td>4</td>\n",
       "      <td>2</td>\n",
       "      <td>0</td>\n",
       "      <td>4</td>\n",
       "      <td>...</td>\n",
       "      <td>35</td>\n",
       "      <td>4</td>\n",
       "      <td>244</td>\n",
       "      <td>1.157069e+09</td>\n",
       "    </tr>\n",
       "    <tr>\n",
       "      <th>1457</th>\n",
       "      <td>4</td>\n",
       "      <td>2</td>\n",
       "      <td>0</td>\n",
       "      <td>4</td>\n",
       "      <td>...</td>\n",
       "      <td>26</td>\n",
       "      <td>5</td>\n",
       "      <td>182</td>\n",
       "      <td>1.151712e+09</td>\n",
       "    </tr>\n",
       "    <tr>\n",
       "      <th>1458</th>\n",
       "      <td>4</td>\n",
       "      <td>2</td>\n",
       "      <td>0</td>\n",
       "      <td>4</td>\n",
       "      <td>...</td>\n",
       "      <td>44</td>\n",
       "      <td>2</td>\n",
       "      <td>305</td>\n",
       "      <td>1.162339e+09</td>\n",
       "    </tr>\n",
       "  </tbody>\n",
       "</table>\n",
       "<p>1459 rows × 93 columns</p>\n",
       "</div>"
      ],
      "text/plain": [
       "      MSZoning  Street  Alley  LotShape  ...  saleWeek  saleDayofweek   \n",
       "0            3       2      0         4  ...        22              1  \\\n",
       "1            4       2      0         1  ...        22              1   \n",
       "2            4       2      0         1  ...         9              0   \n",
       "3            4       2      0         1  ...        22              1   \n",
       "4            4       2      0         1  ...        53              4   \n",
       "...        ...     ...    ...       ...  ...       ...            ...   \n",
       "1454         5       2      0         4  ...        22              3   \n",
       "1455         5       2      0         4  ...        13              5   \n",
       "1456         4       2      0         4  ...        35              4   \n",
       "1457         4       2      0         4  ...        26              5   \n",
       "1458         4       2      0         4  ...        44              2   \n",
       "\n",
       "      saleDayofyear   saleElapsed  \n",
       "0               152  1.275350e+09  \n",
       "1               152  1.275350e+09  \n",
       "2                60  1.267402e+09  \n",
       "3               152  1.275350e+09  \n",
       "4                 1  1.262304e+09  \n",
       "...             ...           ...  \n",
       "1454            152  1.149120e+09  \n",
       "1455             91  1.143850e+09  \n",
       "1456            244  1.157069e+09  \n",
       "1457            182  1.151712e+09  \n",
       "1458            305  1.162339e+09  \n",
       "\n",
       "[1459 rows x 93 columns]"
      ]
     },
     "execution_count": 286,
     "metadata": {},
     "output_type": "execute_result"
    }
   ],
   "source": [
    "cont1, cat1 = cont_cat_split(df_test, 1)\n",
    "\n",
    "test_data = TabularPandas(df_test, [Categorify, FillMissing(add_col=False)], cat1, cont1)\n",
    "test_data.xs"
   ]
  },
  {
   "cell_type": "code",
   "execution_count": 287,
   "metadata": {},
   "outputs": [
    {
     "data": {
      "text/plain": [
       "array([], dtype='<U20')"
      ]
     },
     "execution_count": 287,
     "metadata": {},
     "output_type": "execute_result"
    }
   ],
   "source": [
    "len(cont1), len(cat1), len(cont), len(cat)\n",
    "drop_cols = np.setdiff1d(cat1, cat)\n",
    "drop_cols"
   ]
  },
  {
   "cell_type": "code",
   "execution_count": 291,
   "metadata": {},
   "outputs": [],
   "source": [
    "# FastAI is adding different sets of columns for the train and test sets\n",
    "# presumably because different rows have different missing values.\n",
    "# Passing `add_col=False` crashes when cleaning the test data\n",
    "# so I'm just going to drop the extra columns\n",
    "#test_data.remove(drop_cols)"
   ]
  },
  {
   "cell_type": "markdown",
   "metadata": {},
   "source": [
    "For whatever reason FillMissing decided to work so lets save the two datasets"
   ]
  },
  {
   "cell_type": "code",
   "execution_count": 293,
   "metadata": {},
   "outputs": [],
   "source": [
    "save_pickle(path/'train.pk1', tabular_data)\n",
    "save_pickle(path/'test.pk1', test_data)"
   ]
  },
  {
   "cell_type": "markdown",
   "metadata": {},
   "source": [
    "## Creating the decision tree"
   ]
  },
  {
   "cell_type": "code",
   "execution_count": 261,
   "metadata": {
    "execution": {
     "iopub.execute_input": "2023-05-11T16:38:36.196858Z",
     "iopub.status.busy": "2023-05-11T16:38:36.196414Z",
     "iopub.status.idle": "2023-05-11T16:38:36.204280Z",
     "shell.execute_reply": "2023-05-11T16:38:36.203093Z",
     "shell.execute_reply.started": "2023-05-11T16:38:36.196821Z"
    }
   },
   "outputs": [],
   "source": [
    "def draw_tree(t, df, size=10, ratio=0.6, precision=0, **kwargs):\n",
    "    s=export_graphviz(t, out_file=None, feature_names=df.columns, filled=True, rounded=True,\n",
    "                      special_characters=True, rotate=False, precision=precision, **kwargs)\n",
    "    return graphviz.Source(re.sub('Tree {', f'Tree {{ size={size}; ratio={ratio}', s))"
   ]
  },
  {
   "cell_type": "code",
   "execution_count": 289,
   "metadata": {
    "execution": {
     "iopub.status.busy": "2023-05-11T16:38:39.181379Z",
     "iopub.status.idle": "2023-05-11T16:38:39.181771Z",
     "shell.execute_reply": "2023-05-11T16:38:39.181591Z",
     "shell.execute_reply.started": "2023-05-11T16:38:39.181573Z"
    }
   },
   "outputs": [
    {
     "data": {
      "image/svg+xml": [
       "<?xml version=\"1.0\" encoding=\"UTF-8\" standalone=\"no\"?>\n",
       "<!DOCTYPE svg PUBLIC \"-//W3C//DTD SVG 1.1//EN\"\n",
       " \"http://www.w3.org/Graphics/SVG/1.1/DTD/svg11.dtd\">\n",
       "<!-- Generated by graphviz version 7.1.0 (20230121.1956)\n",
       " -->\n",
       "<!-- Title: Tree Pages: 1 -->\n",
       "<svg width=\"720pt\" height=\"435pt\"\n",
       " viewBox=\"0.00 0.00 720.00 434.64\" xmlns=\"http://www.w3.org/2000/svg\" xmlns:xlink=\"http://www.w3.org/1999/xlink\">\n",
       "<g id=\"graph0\" class=\"graph\" transform=\"scale(0.643432 0.643432) rotate(0) translate(4 671.5)\">\n",
       "<title>Tree</title>\n",
       "<polygon fill=\"white\" stroke=\"none\" points=\"-4,4 -4,-671.5 1115,-671.5 1115,4 -4,4\"/>\n",
       "<!-- 0 -->\n",
       "<g id=\"node1\" class=\"node\">\n",
       "<title>0</title>\n",
       "<path fill=\"#fdf5ef\" stroke=\"black\" d=\"M651,-641C651,-641 464,-641 464,-641 458,-641 452,-635 452,-629 452,-629 452,-585 452,-585 452,-579 458,-573 464,-573 464,-573 651,-573 651,-573 657,-573 663,-579 663,-585 663,-585 663,-629 663,-629 663,-635 657,-641 651,-641\"/>\n",
       "<text text-anchor=\"start\" x=\"504\" y=\"-625.8\" font-family=\"Helvetica,sans-Serif\" font-size=\"14.00\">OverallQual ≤ 7.5</text>\n",
       "<text text-anchor=\"start\" x=\"460\" y=\"-610.8\" font-family=\"Helvetica,sans-Serif\" font-size=\"14.00\">squared_error = 6538141992.95</text>\n",
       "<text text-anchor=\"start\" x=\"509\" y=\"-595.8\" font-family=\"Helvetica,sans-Serif\" font-size=\"14.00\">samples = 1168</text>\n",
       "<text text-anchor=\"start\" x=\"501.5\" y=\"-580.8\" font-family=\"Helvetica,sans-Serif\" font-size=\"14.00\">value = 181195.91</text>\n",
       "</g>\n",
       "<!-- 1 -->\n",
       "<g id=\"node2\" class=\"node\">\n",
       "<title>1</title>\n",
       "<path fill=\"#fefbf8\" stroke=\"black\" d=\"M424,-454C424,-454 237,-454 237,-454 231,-454 225,-448 225,-442 225,-442 225,-398 225,-398 225,-392 231,-386 237,-386 237,-386 424,-386 424,-386 430,-386 436,-392 436,-398 436,-398 436,-442 436,-442 436,-448 430,-454 424,-454\"/>\n",
       "<text text-anchor=\"start\" x=\"277\" y=\"-438.8\" font-family=\"Helvetica,sans-Serif\" font-size=\"14.00\">OverallQual ≤ 6.5</text>\n",
       "<text text-anchor=\"start\" x=\"233\" y=\"-423.8\" font-family=\"Helvetica,sans-Serif\" font-size=\"14.00\">squared_error = 2466394315.13</text>\n",
       "<text text-anchor=\"start\" x=\"285.5\" y=\"-408.8\" font-family=\"Helvetica,sans-Serif\" font-size=\"14.00\">samples = 987</text>\n",
       "<text text-anchor=\"start\" x=\"278\" y=\"-393.8\" font-family=\"Helvetica,sans-Serif\" font-size=\"14.00\">value = 157715.7</text>\n",
       "</g>\n",
       "<!-- 0&#45;&gt;1 -->\n",
       "<g id=\"edge1\" class=\"edge\">\n",
       "<title>0&#45;&gt;1</title>\n",
       "<path fill=\"none\" stroke=\"black\" d=\"M516.65,-572.71C478.36,-541.5 421.04,-494.78 380.13,-461.44\"/>\n",
       "<polygon fill=\"black\" stroke=\"black\" points=\"382.54,-458.89 372.57,-455.29 378.11,-464.32 382.54,-458.89\"/>\n",
       "<text text-anchor=\"middle\" x=\"373.93\" y=\"-475.5\" font-family=\"Helvetica,sans-Serif\" font-size=\"14.00\">True</text>\n",
       "</g>\n",
       "<!-- 2 -->\n",
       "<g id=\"node5\" class=\"node\">\n",
       "<title>2</title>\n",
       "<path fill=\"#f7d6bf\" stroke=\"black\" d=\"M766,-454C766,-454 579,-454 579,-454 573,-454 567,-448 567,-442 567,-442 567,-398 567,-398 567,-392 573,-386 579,-386 579,-386 766,-386 766,-386 772,-386 778,-392 778,-398 778,-398 778,-442 778,-442 778,-448 772,-454 766,-454\"/>\n",
       "<text text-anchor=\"start\" x=\"616.5\" y=\"-438.8\" font-family=\"Helvetica,sans-Serif\" font-size=\"14.00\">2ndFlrSF ≤ 1564.5</text>\n",
       "<text text-anchor=\"start\" x=\"575\" y=\"-423.8\" font-family=\"Helvetica,sans-Serif\" font-size=\"14.00\">squared_error = 9341308075.35</text>\n",
       "<text text-anchor=\"start\" x=\"627.5\" y=\"-408.8\" font-family=\"Helvetica,sans-Serif\" font-size=\"14.00\">samples = 181</text>\n",
       "<text text-anchor=\"start\" x=\"616.5\" y=\"-393.8\" font-family=\"Helvetica,sans-Serif\" font-size=\"14.00\">value = 309234.42</text>\n",
       "</g>\n",
       "<!-- 0&#45;&gt;2 -->\n",
       "<g id=\"edge4\" class=\"edge\">\n",
       "<title>0&#45;&gt;2</title>\n",
       "<path fill=\"none\" stroke=\"black\" d=\"M578.06,-572.93C596.99,-542.47 625.19,-497.1 645.85,-463.87\"/>\n",
       "<polygon fill=\"black\" stroke=\"black\" points=\"648.62,-466.04 650.93,-455.7 642.68,-462.34 648.62,-466.04\"/>\n",
       "<text text-anchor=\"middle\" x=\"657.41\" y=\"-475.06\" font-family=\"Helvetica,sans-Serif\" font-size=\"14.00\">False</text>\n",
       "</g>\n",
       "<!-- 3 -->\n",
       "<g id=\"node3\" class=\"node\">\n",
       "<title>3</title>\n",
       "<path fill=\"#ffffff\" stroke=\"black\" d=\"M199,-73.5C199,-73.5 12,-73.5 12,-73.5 6,-73.5 0,-67.5 0,-61.5 0,-61.5 0,-32.5 0,-32.5 0,-26.5 6,-20.5 12,-20.5 12,-20.5 199,-20.5 199,-20.5 205,-20.5 211,-26.5 211,-32.5 211,-32.5 211,-61.5 211,-61.5 211,-67.5 205,-73.5 199,-73.5\"/>\n",
       "<text text-anchor=\"start\" x=\"8\" y=\"-58.3\" font-family=\"Helvetica,sans-Serif\" font-size=\"14.00\">squared_error = 1402396876.06</text>\n",
       "<text text-anchor=\"start\" x=\"60.5\" y=\"-43.3\" font-family=\"Helvetica,sans-Serif\" font-size=\"14.00\">samples = 729</text>\n",
       "<text text-anchor=\"start\" x=\"49.5\" y=\"-28.3\" font-family=\"Helvetica,sans-Serif\" font-size=\"14.00\">value = 139727.57</text>\n",
       "</g>\n",
       "<!-- 1&#45;&gt;3 -->\n",
       "<g id=\"edge2\" class=\"edge\">\n",
       "<title>1&#45;&gt;3</title>\n",
       "<path fill=\"none\" stroke=\"black\" d=\"M310.33,-385.75C267.99,-315.93 170.18,-154.64 126.84,-83.18\"/>\n",
       "<polygon fill=\"black\" stroke=\"black\" points=\"130.06,-81.74 121.88,-75 124.07,-85.37 130.06,-81.74\"/>\n",
       "</g>\n",
       "<!-- 4 -->\n",
       "<g id=\"node4\" class=\"node\">\n",
       "<title>4</title>\n",
       "<path fill=\"#fcefe5\" stroke=\"black\" d=\"M420,-73.5C420,-73.5 241,-73.5 241,-73.5 235,-73.5 229,-67.5 229,-61.5 229,-61.5 229,-32.5 229,-32.5 229,-26.5 235,-20.5 241,-20.5 241,-20.5 420,-20.5 420,-20.5 426,-20.5 432,-26.5 432,-32.5 432,-32.5 432,-61.5 432,-61.5 432,-67.5 426,-73.5 420,-73.5\"/>\n",
       "<text text-anchor=\"start\" x=\"237\" y=\"-58.3\" font-family=\"Helvetica,sans-Serif\" font-size=\"14.00\">squared_error = 1975150448.9</text>\n",
       "<text text-anchor=\"start\" x=\"285.5\" y=\"-43.3\" font-family=\"Helvetica,sans-Serif\" font-size=\"14.00\">samples = 258</text>\n",
       "<text text-anchor=\"start\" x=\"278\" y=\"-28.3\" font-family=\"Helvetica,sans-Serif\" font-size=\"14.00\">value = 208542.6</text>\n",
       "</g>\n",
       "<!-- 1&#45;&gt;4 -->\n",
       "<g id=\"edge3\" class=\"edge\">\n",
       "<title>1&#45;&gt;4</title>\n",
       "<path fill=\"none\" stroke=\"black\" d=\"M330.5,-385.75C330.5,-316.51 330.5,-157.28 330.5,-84.95\"/>\n",
       "<polygon fill=\"black\" stroke=\"black\" points=\"334,-85.22 330.5,-75.22 327,-85.22 334,-85.22\"/>\n",
       "</g>\n",
       "<!-- 5 -->\n",
       "<g id=\"node6\" class=\"node\">\n",
       "<title>5</title>\n",
       "<path fill=\"#f7d8c2\" stroke=\"black\" d=\"M766,-268C766,-268 579,-268 579,-268 573,-268 567,-262 567,-256 567,-256 567,-212 567,-212 567,-206 573,-200 579,-200 579,-200 766,-200 766,-200 772,-200 778,-206 778,-212 778,-212 778,-256 778,-256 778,-262 772,-268 766,-268\"/>\n",
       "<text text-anchor=\"start\" x=\"619\" y=\"-252.8\" font-family=\"Helvetica,sans-Serif\" font-size=\"14.00\">OverallQual ≤ 8.5</text>\n",
       "<text text-anchor=\"start\" x=\"575\" y=\"-237.8\" font-family=\"Helvetica,sans-Serif\" font-size=\"14.00\">squared_error = 6433033938.02</text>\n",
       "<text text-anchor=\"start\" x=\"627.5\" y=\"-222.8\" font-family=\"Helvetica,sans-Serif\" font-size=\"14.00\">samples = 177</text>\n",
       "<text text-anchor=\"start\" x=\"616.5\" y=\"-207.8\" font-family=\"Helvetica,sans-Serif\" font-size=\"14.00\">value = 301177.57</text>\n",
       "</g>\n",
       "<!-- 2&#45;&gt;5 -->\n",
       "<g id=\"edge5\" class=\"edge\">\n",
       "<title>2&#45;&gt;5</title>\n",
       "<path fill=\"none\" stroke=\"black\" d=\"M672.5,-385.68C672.5,-356.07 672.5,-312.55 672.5,-279.88\"/>\n",
       "<polygon fill=\"black\" stroke=\"black\" points=\"676,-279.9 672.5,-269.9 669,-279.9 676,-279.9\"/>\n",
       "</g>\n",
       "<!-- 6 -->\n",
       "<g id=\"node9\" class=\"node\">\n",
       "<title>6</title>\n",
       "<path fill=\"#e58139\" stroke=\"black\" d=\"M1099,-73.5C1099,-73.5 920,-73.5 920,-73.5 914,-73.5 908,-67.5 908,-61.5 908,-61.5 908,-32.5 908,-32.5 908,-26.5 914,-20.5 920,-20.5 920,-20.5 1099,-20.5 1099,-20.5 1105,-20.5 1111,-26.5 1111,-32.5 1111,-32.5 1111,-61.5 1111,-61.5 1111,-67.5 1105,-73.5 1099,-73.5\"/>\n",
       "<text text-anchor=\"start\" x=\"916\" y=\"-58.3\" font-family=\"Helvetica,sans-Serif\" font-size=\"14.00\">squared_error = 8056687500.0</text>\n",
       "<text text-anchor=\"start\" x=\"972\" y=\"-43.3\" font-family=\"Helvetica,sans-Serif\" font-size=\"14.00\">samples = 4</text>\n",
       "<text text-anchor=\"start\" x=\"957\" y=\"-28.3\" font-family=\"Helvetica,sans-Serif\" font-size=\"14.00\">value = 665750.0</text>\n",
       "</g>\n",
       "<!-- 2&#45;&gt;6 -->\n",
       "<g id=\"edge8\" class=\"edge\">\n",
       "<title>2&#45;&gt;6</title>\n",
       "<path fill=\"none\" stroke=\"black\" d=\"M702.7,-385.75C766.51,-315.51 914.43,-152.66 978.73,-81.87\"/>\n",
       "<polygon fill=\"black\" stroke=\"black\" points=\"981,-84.59 985.13,-74.83 975.81,-79.88 981,-84.59\"/>\n",
       "</g>\n",
       "<!-- 7 -->\n",
       "<g id=\"node7\" class=\"node\">\n",
       "<title>7</title>\n",
       "<path fill=\"#f8dfcc\" stroke=\"black\" d=\"M649,-73.5C649,-73.5 462,-73.5 462,-73.5 456,-73.5 450,-67.5 450,-61.5 450,-61.5 450,-32.5 450,-32.5 450,-26.5 456,-20.5 462,-20.5 462,-20.5 649,-20.5 649,-20.5 655,-20.5 661,-26.5 661,-32.5 661,-32.5 661,-61.5 661,-61.5 661,-67.5 655,-73.5 649,-73.5\"/>\n",
       "<text text-anchor=\"start\" x=\"458\" y=\"-58.3\" font-family=\"Helvetica,sans-Serif\" font-size=\"14.00\">squared_error = 3554137290.76</text>\n",
       "<text text-anchor=\"start\" x=\"510.5\" y=\"-43.3\" font-family=\"Helvetica,sans-Serif\" font-size=\"14.00\">samples = 126</text>\n",
       "<text text-anchor=\"start\" x=\"499.5\" y=\"-28.3\" font-family=\"Helvetica,sans-Serif\" font-size=\"14.00\">value = 274419.63</text>\n",
       "</g>\n",
       "<!-- 5&#45;&gt;7 -->\n",
       "<g id=\"edge6\" class=\"edge\">\n",
       "<title>5&#45;&gt;7</title>\n",
       "<path fill=\"none\" stroke=\"black\" d=\"M651.58,-199.93C630.82,-167.1 599.12,-116.97 577.87,-83.36\"/>\n",
       "<polygon fill=\"black\" stroke=\"black\" points=\"581.01,-81.79 572.71,-75.21 575.09,-85.53 581.01,-81.79\"/>\n",
       "</g>\n",
       "<!-- 8 -->\n",
       "<g id=\"node8\" class=\"node\">\n",
       "<title>8</title>\n",
       "<path fill=\"#f4c8a9\" stroke=\"black\" d=\"M878,-73.5C878,-73.5 691,-73.5 691,-73.5 685,-73.5 679,-67.5 679,-61.5 679,-61.5 679,-32.5 679,-32.5 679,-26.5 685,-20.5 691,-20.5 691,-20.5 878,-20.5 878,-20.5 884,-20.5 890,-26.5 890,-32.5 890,-32.5 890,-61.5 890,-61.5 890,-67.5 884,-73.5 878,-73.5\"/>\n",
       "<text text-anchor=\"start\" x=\"687\" y=\"-58.3\" font-family=\"Helvetica,sans-Serif\" font-size=\"14.00\">squared_error = 7406442460.32</text>\n",
       "<text text-anchor=\"start\" x=\"743.5\" y=\"-43.3\" font-family=\"Helvetica,sans-Serif\" font-size=\"14.00\">samples = 51</text>\n",
       "<text text-anchor=\"start\" x=\"728.5\" y=\"-28.3\" font-family=\"Helvetica,sans-Serif\" font-size=\"14.00\">value = 367285.43</text>\n",
       "</g>\n",
       "<!-- 5&#45;&gt;8 -->\n",
       "<g id=\"edge7\" class=\"edge\">\n",
       "<title>5&#45;&gt;8</title>\n",
       "<path fill=\"none\" stroke=\"black\" d=\"M692.52,-199.93C712.4,-167.1 742.75,-116.97 763.09,-83.36\"/>\n",
       "<polygon fill=\"black\" stroke=\"black\" points=\"765.83,-85.59 768.02,-75.22 759.85,-81.97 765.83,-85.59\"/>\n",
       "</g>\n",
       "</g>\n",
       "</svg>\n"
      ],
      "text/plain": [
       "<graphviz.sources.Source at 0x2adfd4160>"
      ]
     },
     "execution_count": 289,
     "metadata": {},
     "output_type": "execute_result"
    }
   ],
   "source": [
    "xs, y = tabular_data.train.xs, tabular_data.train.y # The independent and dependent params\n",
    "valid_xs, valid_y = tabular_data.valid.xs, tabular_data.valid.y\n",
    "\n",
    "m = DecisionTreeRegressor(max_leaf_nodes=5)\n",
    "m.fit(xs, y)\n",
    "\n",
    "draw_tree(m, xs, size=10, leaves_parallel=True, precision=2)"
   ]
  },
  {
   "cell_type": "code",
   "execution_count": null,
   "metadata": {
    "execution": {
     "iopub.status.busy": "2023-05-11T16:38:39.183301Z",
     "iopub.status.idle": "2023-05-11T16:38:39.183991Z",
     "shell.execute_reply": "2023-05-11T16:38:39.183593Z",
     "shell.execute_reply.started": "2023-05-11T16:38:39.183567Z"
    }
   },
   "outputs": [],
   "source": [
    "dtreeviz.model(m,\n",
    "               X_train=xs, y_train=y,\n",
    "               feature_names=list(xs.columns),\n",
    "               target_name='Sale Price').view()"
   ]
  },
  {
   "cell_type": "markdown",
   "metadata": {},
   "source": [
    "Create a decision tree with more nodes. We shouldn't have as many nodes as we can as this will overfit the data."
   ]
  },
  {
   "cell_type": "code",
   "execution_count": 290,
   "metadata": {
    "execution": {
     "iopub.status.busy": "2023-05-11T16:38:39.186005Z",
     "iopub.status.idle": "2023-05-11T16:38:39.186509Z",
     "shell.execute_reply": "2023-05-11T16:38:39.186271Z",
     "shell.execute_reply.started": "2023-05-11T16:38:39.186247Z"
    }
   },
   "outputs": [
    {
     "data": {
      "text/html": [
       "<style>#sk-container-id-5 {color: black;background-color: white;}#sk-container-id-5 pre{padding: 0;}#sk-container-id-5 div.sk-toggleable {background-color: white;}#sk-container-id-5 label.sk-toggleable__label {cursor: pointer;display: block;width: 100%;margin-bottom: 0;padding: 0.3em;box-sizing: border-box;text-align: center;}#sk-container-id-5 label.sk-toggleable__label-arrow:before {content: \"▸\";float: left;margin-right: 0.25em;color: #696969;}#sk-container-id-5 label.sk-toggleable__label-arrow:hover:before {color: black;}#sk-container-id-5 div.sk-estimator:hover label.sk-toggleable__label-arrow:before {color: black;}#sk-container-id-5 div.sk-toggleable__content {max-height: 0;max-width: 0;overflow: hidden;text-align: left;background-color: #f0f8ff;}#sk-container-id-5 div.sk-toggleable__content pre {margin: 0.2em;color: black;border-radius: 0.25em;background-color: #f0f8ff;}#sk-container-id-5 input.sk-toggleable__control:checked~div.sk-toggleable__content {max-height: 200px;max-width: 100%;overflow: auto;}#sk-container-id-5 input.sk-toggleable__control:checked~label.sk-toggleable__label-arrow:before {content: \"▾\";}#sk-container-id-5 div.sk-estimator input.sk-toggleable__control:checked~label.sk-toggleable__label {background-color: #d4ebff;}#sk-container-id-5 div.sk-label input.sk-toggleable__control:checked~label.sk-toggleable__label {background-color: #d4ebff;}#sk-container-id-5 input.sk-hidden--visually {border: 0;clip: rect(1px 1px 1px 1px);clip: rect(1px, 1px, 1px, 1px);height: 1px;margin: -1px;overflow: hidden;padding: 0;position: absolute;width: 1px;}#sk-container-id-5 div.sk-estimator {font-family: monospace;background-color: #f0f8ff;border: 1px dotted black;border-radius: 0.25em;box-sizing: border-box;margin-bottom: 0.5em;}#sk-container-id-5 div.sk-estimator:hover {background-color: #d4ebff;}#sk-container-id-5 div.sk-parallel-item::after {content: \"\";width: 100%;border-bottom: 1px solid gray;flex-grow: 1;}#sk-container-id-5 div.sk-label:hover label.sk-toggleable__label {background-color: #d4ebff;}#sk-container-id-5 div.sk-serial::before {content: \"\";position: absolute;border-left: 1px solid gray;box-sizing: border-box;top: 0;bottom: 0;left: 50%;z-index: 0;}#sk-container-id-5 div.sk-serial {display: flex;flex-direction: column;align-items: center;background-color: white;padding-right: 0.2em;padding-left: 0.2em;position: relative;}#sk-container-id-5 div.sk-item {position: relative;z-index: 1;}#sk-container-id-5 div.sk-parallel {display: flex;align-items: stretch;justify-content: center;background-color: white;position: relative;}#sk-container-id-5 div.sk-item::before, #sk-container-id-5 div.sk-parallel-item::before {content: \"\";position: absolute;border-left: 1px solid gray;box-sizing: border-box;top: 0;bottom: 0;left: 50%;z-index: -1;}#sk-container-id-5 div.sk-parallel-item {display: flex;flex-direction: column;z-index: 1;position: relative;background-color: white;}#sk-container-id-5 div.sk-parallel-item:first-child::after {align-self: flex-end;width: 50%;}#sk-container-id-5 div.sk-parallel-item:last-child::after {align-self: flex-start;width: 50%;}#sk-container-id-5 div.sk-parallel-item:only-child::after {width: 0;}#sk-container-id-5 div.sk-dashed-wrapped {border: 1px dashed gray;margin: 0 0.4em 0.5em 0.4em;box-sizing: border-box;padding-bottom: 0.4em;background-color: white;}#sk-container-id-5 div.sk-label label {font-family: monospace;font-weight: bold;display: inline-block;line-height: 1.2em;}#sk-container-id-5 div.sk-label-container {text-align: center;}#sk-container-id-5 div.sk-container {/* jupyter's `normalize.less` sets `[hidden] { display: none; }` but bootstrap.min.css set `[hidden] { display: none !important; }` so we also need the `!important` here to be able to override the default hidden behavior on the sphinx rendered scikit-learn.org. See: https://github.com/scikit-learn/scikit-learn/issues/21755 */display: inline-block !important;position: relative;}#sk-container-id-5 div.sk-text-repr-fallback {display: none;}</style><div id=\"sk-container-id-5\" class=\"sk-top-container\"><div class=\"sk-text-repr-fallback\"><pre>DecisionTreeRegressor(min_samples_leaf=25)</pre><b>In a Jupyter environment, please rerun this cell to show the HTML representation or trust the notebook. <br />On GitHub, the HTML representation is unable to render, please try loading this page with nbviewer.org.</b></div><div class=\"sk-container\" hidden><div class=\"sk-item\"><div class=\"sk-estimator sk-toggleable\"><input class=\"sk-toggleable__control sk-hidden--visually\" id=\"sk-estimator-id-5\" type=\"checkbox\" checked><label for=\"sk-estimator-id-5\" class=\"sk-toggleable__label sk-toggleable__label-arrow\">DecisionTreeRegressor</label><div class=\"sk-toggleable__content\"><pre>DecisionTreeRegressor(min_samples_leaf=25)</pre></div></div></div></div></div>"
      ],
      "text/plain": [
       "DecisionTreeRegressor(min_samples_leaf=25)"
      ]
     },
     "execution_count": 290,
     "metadata": {},
     "output_type": "execute_result"
    }
   ],
   "source": [
    "m = DecisionTreeRegressor(min_samples_leaf=25)\n",
    "m.fit(xs, y)"
   ]
  },
  {
   "cell_type": "markdown",
   "metadata": {},
   "source": [
    "I'm adding the log here in the `r_mse` function instead of in the data itself. I'm unsure if this is correct but the submission sample suggests the result should just be the predicted price, not the log of it."
   ]
  },
  {
   "cell_type": "code",
   "execution_count": 265,
   "metadata": {
    "execution": {
     "iopub.status.busy": "2023-05-11T16:38:39.189099Z",
     "iopub.status.idle": "2023-05-11T16:38:39.189621Z",
     "shell.execute_reply": "2023-05-11T16:38:39.189380Z",
     "shell.execute_reply.started": "2023-05-11T16:38:39.189356Z"
    }
   },
   "outputs": [],
   "source": [
    "def r_mse(prediction, y): return round(math.sqrt(((np.log(prediction) - np.log(y) ) ** 2).mean()), 6)\n",
    "def m_rmse(model, xs, y): return r_mse(model.predict(xs), y)    "
   ]
  },
  {
   "cell_type": "code",
   "execution_count": 294,
   "metadata": {
    "execution": {
     "iopub.status.busy": "2023-05-11T16:38:39.190945Z",
     "iopub.status.idle": "2023-05-11T16:38:39.191463Z",
     "shell.execute_reply": "2023-05-11T16:38:39.191221Z",
     "shell.execute_reply.started": "2023-05-11T16:38:39.191196Z"
    }
   },
   "outputs": [
    {
     "data": {
      "text/plain": [
       "(0.162517, 0.176878)"
      ]
     },
     "execution_count": 294,
     "metadata": {},
     "output_type": "execute_result"
    }
   ],
   "source": [
    "m_rmse(m, xs, y), m_rmse(m, valid_xs, valid_y)\n",
    "# What are these numbers, what is the kind of scale I should be thinking about\n",
    "# What is a good rmse? The part that's confusing me is the book say 0.331466 is bad but \n",
    "# 0.323396 is good.\n",
    "# In any case (0.165274, 0.197932) looks pretty good."
   ]
  },
  {
   "cell_type": "markdown",
   "metadata": {},
   "source": [
    "## Submit first attempt\n",
    "Take a look at the submission sample to see what we need. A CSV of ID and sale price"
   ]
  },
  {
   "cell_type": "code",
   "execution_count": 304,
   "metadata": {
    "execution": {
     "iopub.status.busy": "2023-05-11T16:38:39.192829Z",
     "iopub.status.idle": "2023-05-11T16:38:39.193346Z",
     "shell.execute_reply": "2023-05-11T16:38:39.193108Z",
     "shell.execute_reply.started": "2023-05-11T16:38:39.193084Z"
    }
   },
   "outputs": [
    {
     "data": {
      "text/html": [
       "<div>\n",
       "<style scoped>\n",
       "    .dataframe tbody tr th:only-of-type {\n",
       "        vertical-align: middle;\n",
       "    }\n",
       "\n",
       "    .dataframe tbody tr th {\n",
       "        vertical-align: top;\n",
       "    }\n",
       "\n",
       "    .dataframe thead th {\n",
       "        text-align: right;\n",
       "    }\n",
       "</style>\n",
       "<table border=\"1\" class=\"dataframe\">\n",
       "  <thead>\n",
       "    <tr style=\"text-align: right;\">\n",
       "      <th></th>\n",
       "      <th>Id</th>\n",
       "      <th>SalePrice</th>\n",
       "    </tr>\n",
       "  </thead>\n",
       "  <tbody>\n",
       "    <tr>\n",
       "      <th>0</th>\n",
       "      <td>1461</td>\n",
       "      <td>169277.052498</td>\n",
       "    </tr>\n",
       "    <tr>\n",
       "      <th>1</th>\n",
       "      <td>1462</td>\n",
       "      <td>187758.393989</td>\n",
       "    </tr>\n",
       "    <tr>\n",
       "      <th>2</th>\n",
       "      <td>1463</td>\n",
       "      <td>183583.683570</td>\n",
       "    </tr>\n",
       "    <tr>\n",
       "      <th>3</th>\n",
       "      <td>1464</td>\n",
       "      <td>179317.477511</td>\n",
       "    </tr>\n",
       "    <tr>\n",
       "      <th>4</th>\n",
       "      <td>1465</td>\n",
       "      <td>150730.079977</td>\n",
       "    </tr>\n",
       "    <tr>\n",
       "      <th>...</th>\n",
       "      <td>...</td>\n",
       "      <td>...</td>\n",
       "    </tr>\n",
       "    <tr>\n",
       "      <th>1454</th>\n",
       "      <td>2915</td>\n",
       "      <td>167081.220949</td>\n",
       "    </tr>\n",
       "    <tr>\n",
       "      <th>1455</th>\n",
       "      <td>2916</td>\n",
       "      <td>164788.778231</td>\n",
       "    </tr>\n",
       "    <tr>\n",
       "      <th>1456</th>\n",
       "      <td>2917</td>\n",
       "      <td>219222.423400</td>\n",
       "    </tr>\n",
       "    <tr>\n",
       "      <th>1457</th>\n",
       "      <td>2918</td>\n",
       "      <td>184924.279659</td>\n",
       "    </tr>\n",
       "    <tr>\n",
       "      <th>1458</th>\n",
       "      <td>2919</td>\n",
       "      <td>187741.866657</td>\n",
       "    </tr>\n",
       "  </tbody>\n",
       "</table>\n",
       "<p>1459 rows × 2 columns</p>\n",
       "</div>"
      ],
      "text/plain": [
       "        Id      SalePrice\n",
       "0     1461  169277.052498\n",
       "1     1462  187758.393989\n",
       "2     1463  183583.683570\n",
       "3     1464  179317.477511\n",
       "4     1465  150730.079977\n",
       "...    ...            ...\n",
       "1454  2915  167081.220949\n",
       "1455  2916  164788.778231\n",
       "1456  2917  219222.423400\n",
       "1457  2918  184924.279659\n",
       "1458  2919  187741.866657\n",
       "\n",
       "[1459 rows x 2 columns]"
      ]
     },
     "execution_count": 304,
     "metadata": {},
     "output_type": "execute_result"
    }
   ],
   "source": [
    "sub_sample = pd.read_csv(path/'sample_submission.csv')\n",
    "sub_sample"
   ]
  },
  {
   "cell_type": "code",
   "execution_count": 295,
   "metadata": {},
   "outputs": [
    {
     "data": {
      "text/plain": [
       "        Id  MSSubClass  MSZoning  LotFrontage  ...  saleIs_quarter_start   \n",
       "0     1461          20         3         80.0  ...                     1  \\\n",
       "1     1462          20         4         81.0  ...                     1   \n",
       "2     1463          60         4         74.0  ...                     1   \n",
       "3     1464          60         4         78.0  ...                     1   \n",
       "4     1465         120         4         43.0  ...                     2   \n",
       "...    ...         ...       ...          ...  ...                   ...   \n",
       "1454  2915         160         5         21.0  ...                     1   \n",
       "1455  2916         160         5         21.0  ...                     2   \n",
       "1456  2917          20         4        160.0  ...                     1   \n",
       "1457  2918          85         4         62.0  ...                     2   \n",
       "1458  2919          60         4         74.0  ...                     1   \n",
       "\n",
       "      saleIs_year_end  saleIs_year_start   saleElapsed  \n",
       "0                   1                  1  1.275350e+09  \n",
       "1                   1                  1  1.275350e+09  \n",
       "2                   1                  1  1.267402e+09  \n",
       "3                   1                  1  1.275350e+09  \n",
       "4                   1                  2  1.262304e+09  \n",
       "...               ...                ...           ...  \n",
       "1454                1                  1  1.149120e+09  \n",
       "1455                1                  1  1.143850e+09  \n",
       "1456                1                  1  1.157069e+09  \n",
       "1457                1                  1  1.151712e+09  \n",
       "1458                1                  1  1.162339e+09  \n",
       "\n",
       "[1459 rows x 93 columns]"
      ]
     },
     "execution_count": 295,
     "metadata": {},
     "output_type": "execute_result"
    }
   ],
   "source": [
    "test_data.train"
   ]
  },
  {
   "cell_type": "code",
   "execution_count": 299,
   "metadata": {},
   "outputs": [
    {
     "data": {
      "text/plain": [
       "1459"
      ]
     },
     "execution_count": 299,
     "metadata": {},
     "output_type": "execute_result"
    }
   ],
   "source": [
    "preds = m.predict(test_data.xs)\n",
    "len(preds)"
   ]
  },
  {
   "cell_type": "code",
   "execution_count": 303,
   "metadata": {
    "execution": {
     "iopub.status.busy": "2023-05-11T16:38:39.195012Z",
     "iopub.status.idle": "2023-05-11T16:38:39.195522Z",
     "shell.execute_reply": "2023-05-11T16:38:39.195284Z",
     "shell.execute_reply.started": "2023-05-11T16:38:39.195259Z"
    }
   },
   "outputs": [
    {
     "name": "stdout",
     "output_type": "stream",
     "text": [
      "Id,SalePrice\r\n",
      "1461,135208.0\r\n",
      "1462,143792.39130434784\r\n",
      "1463,167683.6052631579\r\n",
      "1464,178300.5945945946\r\n",
      "1465,229906.02083333334\r\n",
      "1466,178300.5945945946\r\n",
      "1467,168913.975\r\n",
      "1468,178300.5945945946\r\n",
      "1469,170115.6\r\n"
     ]
    }
   ],
   "source": [
    "# Zip up the ids and predictions, then transform to 2D array from Array of tuples\n",
    "submission = [list(t) for t in list(zip(test_data['Id'], preds))]\n",
    "\n",
    "# Convert to Pandas dataframe to output CSV for submission.\n",
    "sub_df = pd.DataFrame(submission, columns=['Id', 'SalePrice'])\n",
    "sub_df.to_csv('subm.csv', index=False)\n",
    "!head subm.csv"
   ]
  },
  {
   "cell_type": "code",
   "execution_count": 305,
   "metadata": {
    "execution": {
     "iopub.status.busy": "2023-05-11T16:38:39.197237Z",
     "iopub.status.idle": "2023-05-11T16:38:39.197608Z",
     "shell.execute_reply": "2023-05-11T16:38:39.197444Z",
     "shell.execute_reply.started": "2023-05-11T16:38:39.197427Z"
    }
   },
   "outputs": [
    {
     "name": "stderr",
     "output_type": "stream",
     "text": [
      "100%|██████████████████████████████████████████████████████████████████████████| 28.6k/28.6k [00:00<00:00, 39.5kB/s]\n"
     ]
    },
    {
     "data": {
      "text/plain": [
       "Successfully submitted to House Prices - Advanced Regression Techniques"
      ]
     },
     "execution_count": 305,
     "metadata": {},
     "output_type": "execute_result"
    }
   ],
   "source": [
    "from kaggle import api\n",
    "api.competition_submit_cli('subm.csv', 'Initial decision tree', comp)"
   ]
  }
 ],
 "metadata": {
  "kernelspec": {
   "display_name": "Python 3 (ipykernel)",
   "language": "python",
   "name": "python3"
  },
  "language_info": {
   "codemirror_mode": {
    "name": "ipython",
    "version": 3
   },
   "file_extension": ".py",
   "mimetype": "text/x-python",
   "name": "python",
   "nbconvert_exporter": "python",
   "pygments_lexer": "ipython3",
   "version": "3.10.10"
  }
 },
 "nbformat": 4,
 "nbformat_minor": 4
}
