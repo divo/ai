{
 "cells": [
  {
   "cell_type": "markdown",
   "metadata": {},
   "source": [
    "# House price analysis"
   ]
  },
  {
   "cell_type": "markdown",
   "metadata": {},
   "source": [
    "## Setup"
   ]
  },
  {
   "cell_type": "code",
   "execution_count": 145,
   "metadata": {
    "execution": {
     "iopub.execute_input": "2023-05-11T16:38:00.035019Z",
     "iopub.status.busy": "2023-05-11T16:38:00.034594Z",
     "iopub.status.idle": "2023-05-11T16:38:28.991030Z",
     "shell.execute_reply": "2023-05-11T16:38:28.989583Z",
     "shell.execute_reply.started": "2023-05-11T16:38:00.034985Z"
    }
   },
   "outputs": [
    {
     "name": "stdout",
     "output_type": "stream",
     "text": [
      "\r\n",
      "\u001b[1m[\u001b[0m\u001b[34;49mnotice\u001b[0m\u001b[1;39;49m]\u001b[0m\u001b[39;49m A new release of pip is available: \u001b[0m\u001b[31;49m23.0.1\u001b[0m\u001b[39;49m -> \u001b[0m\u001b[32;49m23.1.2\u001b[0m\r\n",
      "\u001b[1m[\u001b[0m\u001b[34;49mnotice\u001b[0m\u001b[1;39;49m]\u001b[0m\u001b[39;49m To update, run: \u001b[0m\u001b[32;49mpip install --upgrade pip\u001b[0m\r\n"
     ]
    }
   ],
   "source": [
    "# This takes a long time / hangs, so don't do it unless we need to.\n",
    "!pip install -Uq pandas kaggle fastai scikit-learn waterfallcharts treeinterpreter dtreeviz"
   ]
  },
  {
   "cell_type": "code",
   "execution_count": 146,
   "metadata": {
    "execution": {
     "iopub.execute_input": "2023-05-11T16:38:28.994409Z",
     "iopub.status.busy": "2023-05-11T16:38:28.993918Z",
     "iopub.status.idle": "2023-05-11T16:38:35.206746Z",
     "shell.execute_reply": "2023-05-11T16:38:35.205730Z",
     "shell.execute_reply.started": "2023-05-11T16:38:28.994359Z"
    }
   },
   "outputs": [],
   "source": [
    "import pandas as pd\n",
    "import numpy as np\n",
    "import os, zipfile\n",
    "from fastai import * \n",
    "from fastai.tabular.all import *\n",
    "from pathlib import Path\n",
    "from sklearn.ensemble import RandomForestRegressor\n",
    "from sklearn.tree import *\n",
    "from dtreeviz.trees import *\n",
    "import graphviz\n",
    "from IPython.display import Image, display_svg, SVG\n",
    "\n",
    "pd.options.display.max_rows = 20\n",
    "pd.options.display.max_columns = 8"
   ]
  },
  {
   "cell_type": "code",
   "execution_count": 147,
   "metadata": {
    "execution": {
     "iopub.execute_input": "2023-05-11T16:38:35.208793Z",
     "iopub.status.busy": "2023-05-11T16:38:35.208162Z",
     "iopub.status.idle": "2023-05-11T16:38:35.216066Z",
     "shell.execute_reply": "2023-05-11T16:38:35.214793Z",
     "shell.execute_reply.started": "2023-05-11T16:38:35.208759Z"
    }
   },
   "outputs": [],
   "source": [
    "creds = '{\"username\":\"divodivenson\",\"key\":\"f0f9e3f8378e39e818097a5df978aa64\"}'\n",
    "cred_path = Path('~/.kaggle/kaggle.json').expanduser()\n",
    "if not cred_path.exists():\n",
    "    cred_path.parent.mkdir(exist_ok=True)\n",
    "    cred_path.write_text(creds)\n",
    "    cred_path.chmod(0o600)"
   ]
  },
  {
   "cell_type": "code",
   "execution_count": 148,
   "metadata": {
    "execution": {
     "iopub.execute_input": "2023-05-11T16:38:35.219382Z",
     "iopub.status.busy": "2023-05-11T16:38:35.218938Z",
     "iopub.status.idle": "2023-05-11T16:38:35.294212Z",
     "shell.execute_reply": "2023-05-11T16:38:35.293196Z",
     "shell.execute_reply.started": "2023-05-11T16:38:35.219346Z"
    }
   },
   "outputs": [
    {
     "data": {
      "text/plain": [
       "(#4) [Path('../input/house-prices-advanced-regression-techniques/test.csv'),Path('../input/house-prices-advanced-regression-techniques/data_description.txt'),Path('../input/house-prices-advanced-regression-techniques/train.csv'),Path('../input/house-prices-advanced-regression-techniques/sample_submission.csv')]"
      ]
     },
     "execution_count": 148,
     "metadata": {},
     "output_type": "execute_result"
    }
   ],
   "source": [
    "from kaggle import api\n",
    "comp = 'house-prices-advanced-regression-techniques'\n",
    "path = Path(f'../input/{comp}')\n",
    "if not path.exists():\n",
    "    path.mkdir(parents=true)\n",
    "    api.competition_download_cli(comp, path=path)\n",
    "    shutil.unpack_archive(str(path/f'{comp}.zip'), str(path))\n",
    "\n",
    "path.ls(file_type='text')"
   ]
  },
  {
   "cell_type": "markdown",
   "metadata": {},
   "source": [
    "## First look at data\n"
   ]
  },
  {
   "cell_type": "code",
   "execution_count": 149,
   "metadata": {
    "execution": {
     "iopub.execute_input": "2023-05-11T16:38:35.297651Z",
     "iopub.status.busy": "2023-05-11T16:38:35.296909Z",
     "iopub.status.idle": "2023-05-11T16:38:35.412168Z",
     "shell.execute_reply": "2023-05-11T16:38:35.410904Z",
     "shell.execute_reply.started": "2023-05-11T16:38:35.297608Z"
    }
   },
   "outputs": [
    {
     "data": {
      "text/plain": [
       "(81, 80)"
      ]
     },
     "execution_count": 149,
     "metadata": {},
     "output_type": "execute_result"
    }
   ],
   "source": [
    "trn_path = path/'train.csv'\n",
    "df = pd.read_csv(trn_path, low_memory=False)\n",
    "\n",
    "df_test = pd.read_csv(path/'test.csv', low_memory=False)\n",
    "\n",
    "len(df.columns), len(df_test.columns)"
   ]
  },
  {
   "cell_type": "code",
   "execution_count": 150,
   "metadata": {
    "execution": {
     "iopub.execute_input": "2023-05-11T16:38:35.414138Z",
     "iopub.status.busy": "2023-05-11T16:38:35.413660Z",
     "iopub.status.idle": "2023-05-11T16:38:35.439002Z",
     "shell.execute_reply": "2023-05-11T16:38:35.437968Z",
     "shell.execute_reply.started": "2023-05-11T16:38:35.414095Z"
    }
   },
   "outputs": [
    {
     "data": {
      "text/plain": [
       "Index([1460,   15,    5,  111, 1073,    2,    3,    4,    4,    2,    5,    3,\n",
       "         25,    9,    8,    5,    8,   10,    9,  112,   61,    6,    8,   15,\n",
       "         16,    4,  328,    4,    5,    6,    5,    5,    5,    7,  637,    7,\n",
       "        144,  780,  721,    6,    5,    2,    6,  753,  417,   24,  861,    4,\n",
       "          3,    4,    3,    8,    4,    4,   12,    7,    4,    6,    7,   98,\n",
       "          4,    5,  441,    6,    6,    3,  274,  202,  120,   20,   76,    8,\n",
       "          4,    5,    5,   21,   12,    5,    9,    6,  663],\n",
       "      dtype='int64')"
      ]
     },
     "execution_count": 150,
     "metadata": {},
     "output_type": "execute_result"
    }
   ],
   "source": [
    "# Lets get an idea of where the ordianls are\n",
    "df.columns.map(lambda col: df[col].unique().size )"
   ]
  },
  {
   "cell_type": "code",
   "execution_count": 151,
   "metadata": {
    "execution": {
     "iopub.execute_input": "2023-05-11T16:38:35.440763Z",
     "iopub.status.busy": "2023-05-11T16:38:35.440404Z",
     "iopub.status.idle": "2023-05-11T16:38:35.474357Z",
     "shell.execute_reply": "2023-05-11T16:38:35.473122Z",
     "shell.execute_reply.started": "2023-05-11T16:38:35.440734Z"
    }
   },
   "outputs": [
    {
     "data": {
      "text/plain": [
       "Index(['Id - Continuous\\n',\n",
       "       'MSSubClass [ 60  20  70  50 190  45  90 120  30  85  80 160  75 180  40]\\n',\n",
       "       'MSZoning ['RL' 'RM' 'C (all)' 'FV' 'RH']\\n',\n",
       "       'LotFrontage - Continuous\\n', 'LotArea - Continuous\\n',\n",
       "       'Street ['Pave' 'Grvl']\\n', 'Alley [nan 'Grvl' 'Pave']\\n',\n",
       "       'LotShape ['Reg' 'IR1' 'IR2' 'IR3']\\n',\n",
       "       'LandContour ['Lvl' 'Bnk' 'Low' 'HLS']\\n',\n",
       "       'Utilities ['AllPub' 'NoSeWa']\\n',\n",
       "       'LotConfig ['Inside' 'FR2' 'Corner' 'CulDSac' 'FR3']\\n',\n",
       "       'LandSlope ['Gtl' 'Mod' 'Sev']\\n',\n",
       "       'Neighborhood ['CollgCr' 'Veenker' 'Crawfor' 'NoRidge' 'Mitchel' 'Somerst' 'NWAmes'\\n 'OldTown' 'BrkSide' 'Sawyer' 'NridgHt' 'NAmes' 'SawyerW' 'IDOTRR'\\n 'MeadowV' 'Edwards' 'Timber' 'Gilbert' 'StoneBr' 'ClearCr' 'NPkVill'\\n 'Blmngtn' 'BrDale' 'SWISU' 'Blueste']\\n',\n",
       "       'Condition1 ['Norm' 'Feedr' 'PosN' 'Artery' 'RRAe' 'RRNn' 'RRAn' 'PosA' 'RRNe']\\n',\n",
       "       'Condition2 ['Norm' 'Artery' 'RRNn' 'Feedr' 'PosN' 'PosA' 'RRAn' 'RRAe']\\n',\n",
       "       'BldgType ['1Fam' '2fmCon' 'Duplex' 'TwnhsE' 'Twnhs']\\n',\n",
       "       'HouseStyle ['2Story' '1Story' '1.5Fin' '1.5Unf' 'SFoyer' 'SLvl' '2.5Unf' '2.5Fin']\\n',\n",
       "       'OverallQual [ 7  6  8  5  9  4 10  3  1  2]\\n',\n",
       "       'OverallCond [5 8 6 7 4 2 3 9 1]\\n', 'YearBuilt - Continuous\\n',\n",
       "       'YearRemodAdd - Continuous\\n',\n",
       "       'RoofStyle ['Gable' 'Hip' 'Gambrel' 'Mansard' 'Flat' 'Shed']\\n',\n",
       "       'RoofMatl ['CompShg' 'WdShngl' 'Metal' 'WdShake' 'Membran' 'Tar&Grv' 'Roll'\\n 'ClyTile']\\n',\n",
       "       'Exterior1st ['VinylSd' 'MetalSd' 'Wd Sdng' 'HdBoard' 'BrkFace' 'WdShing' 'CemntBd'\\n 'Plywood' 'AsbShng' 'Stucco' 'BrkComm' 'AsphShn' 'Stone' 'ImStucc'\\n 'CBlock']\\n',\n",
       "       'Exterior2nd ['VinylSd' 'MetalSd' 'Wd Shng' 'HdBoard' 'Plywood' 'Wd Sdng' 'CmentBd'\\n 'BrkFace' 'Stucco' 'AsbShng' 'Brk Cmn' 'ImStucc' 'AsphShn' 'Stone'\\n 'Other' 'CBlock']\\n',\n",
       "       'MasVnrType ['BrkFace' nan 'Stone' 'BrkCmn']\\n',\n",
       "       'MasVnrArea - Continuous\\n', 'ExterQual ['Gd' 'TA' 'Ex' 'Fa']\\n',\n",
       "       'ExterCond ['TA' 'Gd' 'Fa' 'Po' 'Ex']\\n',\n",
       "       'Foundation ['PConc' 'CBlock' 'BrkTil' 'Wood' 'Slab' 'Stone']\\n',\n",
       "       'BsmtQual ['Gd' 'TA' 'Ex' nan 'Fa']\\n',\n",
       "       'BsmtCond ['TA' 'Gd' nan 'Fa' 'Po']\\n',\n",
       "       'BsmtExposure ['No' 'Gd' 'Mn' 'Av' nan]\\n',\n",
       "       'BsmtFinType1 ['GLQ' 'ALQ' 'Unf' 'Rec' 'BLQ' nan 'LwQ']\\n',\n",
       "       'BsmtFinSF1 - Continuous\\n',\n",
       "       'BsmtFinType2 ['Unf' 'BLQ' nan 'ALQ' 'Rec' 'LwQ' 'GLQ']\\n',\n",
       "       'BsmtFinSF2 - Continuous\\n', 'BsmtUnfSF - Continuous\\n',\n",
       "       'TotalBsmtSF - Continuous\\n',\n",
       "       'Heating ['GasA' 'GasW' 'Grav' 'Wall' 'OthW' 'Floor']\\n',\n",
       "       'HeatingQC ['Ex' 'Gd' 'TA' 'Fa' 'Po']\\n', 'CentralAir ['Y' 'N']\\n',\n",
       "       'Electrical ['SBrkr' 'FuseF' 'FuseA' 'FuseP' 'Mix' nan]\\n',\n",
       "       '1stFlrSF - Continuous\\n', '2ndFlrSF - Continuous\\n',\n",
       "       'LowQualFinSF [  0 360 513 234 528 572 144 392 371 390 420 473 156 515  80  53 232 481\\n 120 514 397 479 205 384]\\n',\n",
       "       'GrLivArea - Continuous\\n', 'BsmtFullBath [1 0 2 3]\\n',\n",
       "       'BsmtHalfBath [0 1 2]\\n', 'FullBath [2 1 3 0]\\n', 'HalfBath [1 0 2]\\n',\n",
       "       'BedroomAbvGr [3 4 1 2 0 5 6 8]\\n', 'KitchenAbvGr [1 2 3 0]\\n',\n",
       "       'KitchenQual ['Gd' 'TA' 'Ex' 'Fa']\\n',\n",
       "       'TotRmsAbvGrd [ 8  6  7  9  5 11  4 10 12  3  2 14]\\n',\n",
       "       'Functional ['Typ' 'Min1' 'Maj1' 'Min2' 'Mod' 'Maj2' 'Sev']\\n',\n",
       "       'Fireplaces [0 1 2 3]\\n',\n",
       "       'FireplaceQu [nan 'TA' 'Gd' 'Fa' 'Ex' 'Po']\\n',\n",
       "       'GarageType ['Attchd' 'Detchd' 'BuiltIn' 'CarPort' nan 'Basment' '2Types']\\n',\n",
       "       'GarageYrBlt - Continuous\\n', 'GarageFinish ['RFn' 'Unf' 'Fin' nan]\\n',\n",
       "       'GarageCars [2 3 1 0 4]\\n', 'GarageArea - Continuous\\n',\n",
       "       'GarageQual ['TA' 'Fa' 'Gd' nan 'Ex' 'Po']\\n',\n",
       "       'GarageCond ['TA' 'Fa' nan 'Gd' 'Po' 'Ex']\\n',\n",
       "       'PavedDrive ['Y' 'N' 'P']\\n', 'WoodDeckSF - Continuous\\n',\n",
       "       'OpenPorchSF - Continuous\\n', 'EnclosedPorch - Continuous\\n',\n",
       "       '3SsnPorch [  0 320 407 130 180 168 140 508 238 245 196 144 182 162  23 216  96 153\\n 290 304]\\n',\n",
       "       'ScreenPorch - Continuous\\n',\n",
       "       'PoolArea [  0 512 648 576 555 480 519 738]\\n',\n",
       "       'PoolQC [nan 'Ex' 'Fa' 'Gd']\\n',\n",
       "       'Fence [nan 'MnPrv' 'GdWo' 'GdPrv' 'MnWw']\\n',\n",
       "       'MiscFeature [nan 'Shed' 'Gar2' 'Othr' 'TenC']\\n',\n",
       "       'MiscVal [    0   700   350   500   400   480   450 15500  1200   800  2000   600\\n  3500  1300    54   620   560  1400  8300  1150  2500]\\n',\n",
       "       'MoSold [ 2  5  9 12 10  8 11  4  1  7  3  6]\\n',\n",
       "       'YrSold [2008 2007 2006 2009 2010]\\n',\n",
       "       'SaleType ['WD' 'New' 'COD' 'ConLD' 'ConLI' 'CWD' 'ConLw' 'Con' 'Oth']\\n',\n",
       "       'SaleCondition ['Normal' 'Abnorml' 'Partial' 'AdjLand' 'Alloca' 'Family']\\n',\n",
       "       'SalePrice - Continuous\\n'],\n",
       "      dtype='object')"
      ]
     },
     "execution_count": 151,
     "metadata": {},
     "output_type": "execute_result"
    }
   ],
   "source": [
    "def print_levels(level):\n",
    "    if df[level].unique().size < 50:\n",
    "        return f\"{level} {df[level].unique()}\\n\"\n",
    "    else:\n",
    "        return f\"{level} - Continuous\\n\"\n",
    "    \n",
    "df.columns.map(print_levels)"
   ]
  },
  {
   "cell_type": "code",
   "execution_count": 152,
   "metadata": {
    "execution": {
     "iopub.execute_input": "2023-05-11T16:38:35.476088Z",
     "iopub.status.busy": "2023-05-11T16:38:35.475738Z",
     "iopub.status.idle": "2023-05-11T16:38:35.499208Z",
     "shell.execute_reply": "2023-05-11T16:38:35.498186Z",
     "shell.execute_reply.started": "2023-05-11T16:38:35.476058Z"
    }
   },
   "outputs": [
    {
     "data": {
      "text/plain": [
       "(81, 80)"
      ]
     },
     "execution_count": 152,
     "metadata": {},
     "output_type": "execute_result"
    }
   ],
   "source": [
    "# Make note of anything that appears to follow an order, just for reference. Not exhaustive\n",
    "# Not intending to input this anywhere\n",
    "# Also derived from data description https://www.kaggle.com/competitions/house-prices-advanced-regression-techniques/data\n",
    "ordinals = ['BldgType', 'HouseStyle', 'Utilities', 'ExterCond', 'ExterQual', 'Functional', 'PavedDrive']\n",
    "\n",
    "# There are even more, lets just go with the overall Home functionality\n",
    "functional = ['Typ' 'Min1' 'Maj1' 'Min2' 'Mod' 'Maj2' 'Sev']\n",
    "df['Functional'] = df['Functional'].astype('category')\n",
    "df['Functional'].cat.set_categories(functional, ordered=True)\n",
    "\n",
    "df_test['Functional'] = df_test['Functional'].astype('category')\n",
    "df_test['Functional'].cat.set_categories(functional, ordered=True)\n",
    "len(df.columns), len(df_test.columns)"
   ]
  },
  {
   "cell_type": "markdown",
   "metadata": {},
   "source": [
    "### Dates"
   ]
  },
  {
   "cell_type": "code",
   "execution_count": 153,
   "metadata": {
    "execution": {
     "iopub.execute_input": "2023-05-11T16:38:35.501447Z",
     "iopub.status.busy": "2023-05-11T16:38:35.500984Z",
     "iopub.status.idle": "2023-05-11T16:38:35.560182Z",
     "shell.execute_reply": "2023-05-11T16:38:35.558519Z",
     "shell.execute_reply.started": "2023-05-11T16:38:35.501406Z"
    }
   },
   "outputs": [
    {
     "name": "stderr",
     "output_type": "stream",
     "text": [
      "/Users/stevendiviney/.pyenv/versions/3.9.4/lib/python3.9/site-packages/fastai/tabular/core.py:23: UserWarning: The argument 'infer_datetime_format' is deprecated and will be removed in a future version. A strict version of it is now the default, see https://pandas.pydata.org/pdeps/0004-consistent-to-datetime-parsing.html. You can safely remove this argument.\n",
      "/Users/stevendiviney/.pyenv/versions/3.9.4/lib/python3.9/site-packages/fastai/tabular/core.py:23: UserWarning: Could not infer format, so each element will be parsed individually, falling back to `dateutil`. To ensure parsing is consistent and as-expected, please specify a format.\n"
     ]
    },
    {
     "data": {
      "text/html": [
       "<div>\n",
       "<style scoped>\n",
       "    .dataframe tbody tr th:only-of-type {\n",
       "        vertical-align: middle;\n",
       "    }\n",
       "\n",
       "    .dataframe tbody tr th {\n",
       "        vertical-align: top;\n",
       "    }\n",
       "\n",
       "    .dataframe thead th {\n",
       "        text-align: right;\n",
       "    }\n",
       "</style>\n",
       "<table border=\"1\" class=\"dataframe\">\n",
       "  <thead>\n",
       "    <tr style=\"text-align: right;\">\n",
       "      <th></th>\n",
       "      <th>Id</th>\n",
       "      <th>MSSubClass</th>\n",
       "      <th>MSZoning</th>\n",
       "      <th>LotFrontage</th>\n",
       "      <th>...</th>\n",
       "      <th>saleIs_quarter_start</th>\n",
       "      <th>saleIs_year_end</th>\n",
       "      <th>saleIs_year_start</th>\n",
       "      <th>saleElapsed</th>\n",
       "    </tr>\n",
       "  </thead>\n",
       "  <tbody>\n",
       "    <tr>\n",
       "      <th>0</th>\n",
       "      <td>1</td>\n",
       "      <td>60</td>\n",
       "      <td>RL</td>\n",
       "      <td>65.0</td>\n",
       "      <td>...</td>\n",
       "      <td>False</td>\n",
       "      <td>False</td>\n",
       "      <td>False</td>\n",
       "      <td>1.201824e+09</td>\n",
       "    </tr>\n",
       "    <tr>\n",
       "      <th>1</th>\n",
       "      <td>2</td>\n",
       "      <td>20</td>\n",
       "      <td>RL</td>\n",
       "      <td>80.0</td>\n",
       "      <td>...</td>\n",
       "      <td>False</td>\n",
       "      <td>False</td>\n",
       "      <td>False</td>\n",
       "      <td>1.177978e+09</td>\n",
       "    </tr>\n",
       "    <tr>\n",
       "      <th>2</th>\n",
       "      <td>3</td>\n",
       "      <td>60</td>\n",
       "      <td>RL</td>\n",
       "      <td>68.0</td>\n",
       "      <td>...</td>\n",
       "      <td>False</td>\n",
       "      <td>False</td>\n",
       "      <td>False</td>\n",
       "      <td>1.220227e+09</td>\n",
       "    </tr>\n",
       "    <tr>\n",
       "      <th>3</th>\n",
       "      <td>4</td>\n",
       "      <td>70</td>\n",
       "      <td>RL</td>\n",
       "      <td>60.0</td>\n",
       "      <td>...</td>\n",
       "      <td>False</td>\n",
       "      <td>False</td>\n",
       "      <td>False</td>\n",
       "      <td>1.138752e+09</td>\n",
       "    </tr>\n",
       "    <tr>\n",
       "      <th>4</th>\n",
       "      <td>5</td>\n",
       "      <td>60</td>\n",
       "      <td>RL</td>\n",
       "      <td>84.0</td>\n",
       "      <td>...</td>\n",
       "      <td>False</td>\n",
       "      <td>False</td>\n",
       "      <td>False</td>\n",
       "      <td>1.228090e+09</td>\n",
       "    </tr>\n",
       "    <tr>\n",
       "      <th>...</th>\n",
       "      <td>...</td>\n",
       "      <td>...</td>\n",
       "      <td>...</td>\n",
       "      <td>...</td>\n",
       "      <td>...</td>\n",
       "      <td>...</td>\n",
       "      <td>...</td>\n",
       "      <td>...</td>\n",
       "      <td>...</td>\n",
       "    </tr>\n",
       "    <tr>\n",
       "      <th>1455</th>\n",
       "      <td>1456</td>\n",
       "      <td>60</td>\n",
       "      <td>RL</td>\n",
       "      <td>62.0</td>\n",
       "      <td>...</td>\n",
       "      <td>False</td>\n",
       "      <td>False</td>\n",
       "      <td>False</td>\n",
       "      <td>1.185926e+09</td>\n",
       "    </tr>\n",
       "    <tr>\n",
       "      <th>1456</th>\n",
       "      <td>1457</td>\n",
       "      <td>20</td>\n",
       "      <td>RL</td>\n",
       "      <td>85.0</td>\n",
       "      <td>...</td>\n",
       "      <td>False</td>\n",
       "      <td>False</td>\n",
       "      <td>False</td>\n",
       "      <td>1.264982e+09</td>\n",
       "    </tr>\n",
       "    <tr>\n",
       "      <th>1457</th>\n",
       "      <td>1458</td>\n",
       "      <td>70</td>\n",
       "      <td>RL</td>\n",
       "      <td>66.0</td>\n",
       "      <td>...</td>\n",
       "      <td>False</td>\n",
       "      <td>False</td>\n",
       "      <td>False</td>\n",
       "      <td>1.272672e+09</td>\n",
       "    </tr>\n",
       "    <tr>\n",
       "      <th>1458</th>\n",
       "      <td>1459</td>\n",
       "      <td>20</td>\n",
       "      <td>RL</td>\n",
       "      <td>68.0</td>\n",
       "      <td>...</td>\n",
       "      <td>True</td>\n",
       "      <td>False</td>\n",
       "      <td>False</td>\n",
       "      <td>1.270080e+09</td>\n",
       "    </tr>\n",
       "    <tr>\n",
       "      <th>1459</th>\n",
       "      <td>1460</td>\n",
       "      <td>20</td>\n",
       "      <td>RL</td>\n",
       "      <td>75.0</td>\n",
       "      <td>...</td>\n",
       "      <td>False</td>\n",
       "      <td>False</td>\n",
       "      <td>False</td>\n",
       "      <td>1.212278e+09</td>\n",
       "    </tr>\n",
       "  </tbody>\n",
       "</table>\n",
       "<p>1460 rows × 94 columns</p>\n",
       "</div>"
      ],
      "text/plain": [
       "        Id  MSSubClass MSZoning  LotFrontage  ...  saleIs_quarter_start   \n",
       "0        1          60       RL         65.0  ...                 False  \\\n",
       "1        2          20       RL         80.0  ...                 False   \n",
       "2        3          60       RL         68.0  ...                 False   \n",
       "3        4          70       RL         60.0  ...                 False   \n",
       "4        5          60       RL         84.0  ...                 False   \n",
       "...    ...         ...      ...          ...  ...                   ...   \n",
       "1455  1456          60       RL         62.0  ...                 False   \n",
       "1456  1457          20       RL         85.0  ...                 False   \n",
       "1457  1458          70       RL         66.0  ...                 False   \n",
       "1458  1459          20       RL         68.0  ...                  True   \n",
       "1459  1460          20       RL         75.0  ...                 False   \n",
       "\n",
       "     saleIs_year_end saleIs_year_start   saleElapsed  \n",
       "0              False             False  1.201824e+09  \n",
       "1              False             False  1.177978e+09  \n",
       "2              False             False  1.220227e+09  \n",
       "3              False             False  1.138752e+09  \n",
       "4              False             False  1.228090e+09  \n",
       "...              ...               ...           ...  \n",
       "1455           False             False  1.185926e+09  \n",
       "1456           False             False  1.264982e+09  \n",
       "1457           False             False  1.272672e+09  \n",
       "1458           False             False  1.270080e+09  \n",
       "1459           False             False  1.212278e+09  \n",
       "\n",
       "[1460 rows x 94 columns]"
      ]
     },
     "execution_count": 153,
     "metadata": {},
     "output_type": "execute_result"
    }
   ],
   "source": [
    "df['saledate'] = df['MoSold'].astype(str) + '/' + df['YrSold'].astype(str)\n",
    "df = add_datepart(df, 'saledate')\n",
    "df"
   ]
  },
  {
   "cell_type": "code",
   "execution_count": 154,
   "metadata": {
    "execution": {
     "iopub.execute_input": "2023-05-11T16:38:35.564935Z",
     "iopub.status.busy": "2023-05-11T16:38:35.564509Z",
     "iopub.status.idle": "2023-05-11T16:38:35.618143Z",
     "shell.execute_reply": "2023-05-11T16:38:35.616901Z",
     "shell.execute_reply.started": "2023-05-11T16:38:35.564900Z"
    }
   },
   "outputs": [
    {
     "name": "stderr",
     "output_type": "stream",
     "text": [
      "/Users/stevendiviney/.pyenv/versions/3.9.4/lib/python3.9/site-packages/fastai/tabular/core.py:23: UserWarning: The argument 'infer_datetime_format' is deprecated and will be removed in a future version. A strict version of it is now the default, see https://pandas.pydata.org/pdeps/0004-consistent-to-datetime-parsing.html. You can safely remove this argument.\n",
      "/Users/stevendiviney/.pyenv/versions/3.9.4/lib/python3.9/site-packages/fastai/tabular/core.py:23: UserWarning: Could not infer format, so each element will be parsed individually, falling back to `dateutil`. To ensure parsing is consistent and as-expected, please specify a format.\n"
     ]
    },
    {
     "data": {
      "text/plain": [
       "(94, 93)"
      ]
     },
     "execution_count": 154,
     "metadata": {},
     "output_type": "execute_result"
    }
   ],
   "source": [
    "# Do the same for the test dataset\n",
    "df_test['saledate'] = df_test['MoSold'].astype(str) + '/' + df_test['YrSold'].astype(str)\n",
    "df_test = add_datepart(df_test, 'saledate')\n",
    "df_test\n",
    "len(df.columns), len(df_test.columns)"
   ]
  },
  {
   "cell_type": "markdown",
   "metadata": {},
   "source": [
    "### Depedent variable"
   ]
  },
  {
   "cell_type": "markdown",
   "metadata": {},
   "source": [
    "`SalePrice` is the dependent variable. We are told the evaluation is on the RMSE between the log of the predicted and actual sale price (Taking logs means that errors in predicting expensive houses and cheap houses will affect the result equally.)\n",
    "\n",
    "Update - I'm not sure if this should be done in the submission or not"
   ]
  },
  {
   "cell_type": "code",
   "execution_count": 155,
   "metadata": {
    "execution": {
     "iopub.execute_input": "2023-05-11T16:38:35.620127Z",
     "iopub.status.busy": "2023-05-11T16:38:35.619737Z",
     "iopub.status.idle": "2023-05-11T16:38:35.625040Z",
     "shell.execute_reply": "2023-05-11T16:38:35.624043Z",
     "shell.execute_reply.started": "2023-05-11T16:38:35.620088Z"
    }
   },
   "outputs": [],
   "source": [
    "dep_var = 'SalePrice'\n",
    "df[dep_var] = np.log(df[dep_var])"
   ]
  },
  {
   "cell_type": "markdown",
   "metadata": {},
   "source": [
    "## Decision Tree\n",
    "First lets have a go at building a plain old decision tree and submit that to Kaggle"
   ]
  },
  {
   "cell_type": "markdown",
   "metadata": {},
   "source": [
    "### Test and validation set\n",
    "In this case I don't see the test set contain future dates compared to the training set, so my first attempt at a validation set will just take a random sample of the training set."
   ]
  },
  {
   "cell_type": "code",
   "execution_count": 156,
   "metadata": {
    "execution": {
     "iopub.execute_input": "2023-05-11T16:38:35.626896Z",
     "iopub.status.busy": "2023-05-11T16:38:35.626522Z",
     "iopub.status.idle": "2023-05-11T16:38:35.644520Z",
     "shell.execute_reply": "2023-05-11T16:38:35.643184Z",
     "shell.execute_reply.started": "2023-05-11T16:38:35.626862Z"
    }
   },
   "outputs": [
    {
     "data": {
      "text/plain": [
       "(array([2008, 2007, 2006, 2009, 2010]), array([2010, 2009, 2008, 2007, 2006]))"
      ]
     },
     "execution_count": 156,
     "metadata": {},
     "output_type": "execute_result"
    }
   ],
   "source": [
    "df['YrSold'].unique(), df_test['YrSold'].unique()"
   ]
  },
  {
   "cell_type": "code",
   "execution_count": 157,
   "metadata": {},
   "outputs": [
    {
     "data": {
      "text/plain": [
       "((1168, 94), (292, 94))"
      ]
     },
     "execution_count": 157,
     "metadata": {},
     "output_type": "execute_result"
    }
   ],
   "source": [
    "from sklearn.model_selection import train_test_split\n",
    "df_train, df_valid = train_test_split(df, test_size=0.2)\n",
    "df_train.size, df_valid.size\n",
    "df_train.shape, df_valid.shape"
   ]
  },
  {
   "cell_type": "code",
   "execution_count": 158,
   "metadata": {
    "execution": {
     "iopub.execute_input": "2023-05-11T16:38:35.647210Z",
     "iopub.status.busy": "2023-05-11T16:38:35.646218Z",
     "iopub.status.idle": "2023-05-11T16:38:35.886181Z",
     "shell.execute_reply": "2023-05-11T16:38:35.885063Z",
     "shell.execute_reply.started": "2023-05-11T16:38:35.647173Z"
    }
   },
   "outputs": [],
   "source": [
    "# Need to get the index from the row in df of all the fields in df_valid\n",
    "train_idx = df_train.Id.map(lambda id: df.index[df.Id == id][0])\n",
    "valid_idx = df_valid.Id.map(lambda id: df.index[df.Id == id][0])\n",
    "splits = (list(train_idx), list(valid_idx))"
   ]
  },
  {
   "cell_type": "markdown",
   "metadata": {},
   "source": [
    "### Handle missing data and strings\n",
    "Sklearn cannot handle missing data or strings.\n",
    "\n",
    "`Categorify` is a TabularProc that replaces a column with a numeric categorical column. \n",
    "\n",
    "`FillMissing` is a TabularProc that replaces missing values with the median of the column"
   ]
  },
  {
   "cell_type": "code",
   "execution_count": 159,
   "metadata": {},
   "outputs": [
    {
     "data": {
      "text/plain": [
       "(43, 50)"
      ]
     },
     "execution_count": 159,
     "metadata": {},
     "output_type": "execute_result"
    }
   ],
   "source": [
    "cont, cat = cont_cat_split(df, 1, dep_var=dep_var)\n",
    "len(cont), len(cat)"
   ]
  },
  {
   "cell_type": "code",
   "execution_count": 160,
   "metadata": {
    "execution": {
     "iopub.execute_input": "2023-05-11T16:38:35.888353Z",
     "iopub.status.busy": "2023-05-11T16:38:35.888010Z",
     "iopub.status.idle": "2023-05-11T16:38:36.028607Z",
     "shell.execute_reply": "2023-05-11T16:38:36.027471Z",
     "shell.execute_reply.started": "2023-05-11T16:38:35.888322Z"
    }
   },
   "outputs": [
    {
     "data": {
      "text/html": [
       "<div>\n",
       "<style scoped>\n",
       "    .dataframe tbody tr th:only-of-type {\n",
       "        vertical-align: middle;\n",
       "    }\n",
       "\n",
       "    .dataframe tbody tr th {\n",
       "        vertical-align: top;\n",
       "    }\n",
       "\n",
       "    .dataframe thead th {\n",
       "        text-align: right;\n",
       "    }\n",
       "</style>\n",
       "<table border=\"1\" class=\"dataframe\">\n",
       "  <thead>\n",
       "    <tr style=\"text-align: right;\">\n",
       "      <th></th>\n",
       "      <th>MSZoning</th>\n",
       "      <th>Street</th>\n",
       "      <th>Alley</th>\n",
       "      <th>LotShape</th>\n",
       "      <th>...</th>\n",
       "      <th>saleWeek</th>\n",
       "      <th>saleDayofweek</th>\n",
       "      <th>saleDayofyear</th>\n",
       "      <th>saleElapsed</th>\n",
       "    </tr>\n",
       "  </thead>\n",
       "  <tbody>\n",
       "    <tr>\n",
       "      <th>260</th>\n",
       "      <td>4</td>\n",
       "      <td>2</td>\n",
       "      <td>0</td>\n",
       "      <td>4</td>\n",
       "      <td>...</td>\n",
       "      <td>18</td>\n",
       "      <td>4</td>\n",
       "      <td>121</td>\n",
       "      <td>1.241136e+09</td>\n",
       "    </tr>\n",
       "    <tr>\n",
       "      <th>391</th>\n",
       "      <td>4</td>\n",
       "      <td>2</td>\n",
       "      <td>0</td>\n",
       "      <td>1</td>\n",
       "      <td>...</td>\n",
       "      <td>23</td>\n",
       "      <td>0</td>\n",
       "      <td>152</td>\n",
       "      <td>1.243814e+09</td>\n",
       "    </tr>\n",
       "    <tr>\n",
       "      <th>418</th>\n",
       "      <td>4</td>\n",
       "      <td>2</td>\n",
       "      <td>0</td>\n",
       "      <td>4</td>\n",
       "      <td>...</td>\n",
       "      <td>13</td>\n",
       "      <td>6</td>\n",
       "      <td>91</td>\n",
       "      <td>1.175386e+09</td>\n",
       "    </tr>\n",
       "    <tr>\n",
       "      <th>401</th>\n",
       "      <td>4</td>\n",
       "      <td>2</td>\n",
       "      <td>0</td>\n",
       "      <td>1</td>\n",
       "      <td>...</td>\n",
       "      <td>26</td>\n",
       "      <td>5</td>\n",
       "      <td>182</td>\n",
       "      <td>1.151712e+09</td>\n",
       "    </tr>\n",
       "    <tr>\n",
       "      <th>580</th>\n",
       "      <td>4</td>\n",
       "      <td>2</td>\n",
       "      <td>0</td>\n",
       "      <td>1</td>\n",
       "      <td>...</td>\n",
       "      <td>22</td>\n",
       "      <td>4</td>\n",
       "      <td>152</td>\n",
       "      <td>1.180656e+09</td>\n",
       "    </tr>\n",
       "    <tr>\n",
       "      <th>...</th>\n",
       "      <td>...</td>\n",
       "      <td>...</td>\n",
       "      <td>...</td>\n",
       "      <td>...</td>\n",
       "      <td>...</td>\n",
       "      <td>...</td>\n",
       "      <td>...</td>\n",
       "      <td>...</td>\n",
       "      <td>...</td>\n",
       "    </tr>\n",
       "    <tr>\n",
       "      <th>1457</th>\n",
       "      <td>4</td>\n",
       "      <td>2</td>\n",
       "      <td>0</td>\n",
       "      <td>4</td>\n",
       "      <td>...</td>\n",
       "      <td>17</td>\n",
       "      <td>5</td>\n",
       "      <td>121</td>\n",
       "      <td>1.272672e+09</td>\n",
       "    </tr>\n",
       "    <tr>\n",
       "      <th>103</th>\n",
       "      <td>4</td>\n",
       "      <td>2</td>\n",
       "      <td>0</td>\n",
       "      <td>1</td>\n",
       "      <td>...</td>\n",
       "      <td>17</td>\n",
       "      <td>5</td>\n",
       "      <td>121</td>\n",
       "      <td>1.272672e+09</td>\n",
       "    </tr>\n",
       "    <tr>\n",
       "      <th>151</th>\n",
       "      <td>4</td>\n",
       "      <td>2</td>\n",
       "      <td>0</td>\n",
       "      <td>4</td>\n",
       "      <td>...</td>\n",
       "      <td>1</td>\n",
       "      <td>1</td>\n",
       "      <td>1</td>\n",
       "      <td>1.199146e+09</td>\n",
       "    </tr>\n",
       "    <tr>\n",
       "      <th>502</th>\n",
       "      <td>4</td>\n",
       "      <td>2</td>\n",
       "      <td>0</td>\n",
       "      <td>4</td>\n",
       "      <td>...</td>\n",
       "      <td>13</td>\n",
       "      <td>6</td>\n",
       "      <td>91</td>\n",
       "      <td>1.175386e+09</td>\n",
       "    </tr>\n",
       "    <tr>\n",
       "      <th>1037</th>\n",
       "      <td>4</td>\n",
       "      <td>2</td>\n",
       "      <td>0</td>\n",
       "      <td>4</td>\n",
       "      <td>...</td>\n",
       "      <td>36</td>\n",
       "      <td>0</td>\n",
       "      <td>245</td>\n",
       "      <td>1.220227e+09</td>\n",
       "    </tr>\n",
       "  </tbody>\n",
       "</table>\n",
       "<p>1460 rows × 93 columns</p>\n",
       "</div>"
      ],
      "text/plain": [
       "      MSZoning  Street  Alley  LotShape  ...  saleWeek  saleDayofweek   \n",
       "260          4       2      0         4  ...        18              4  \\\n",
       "391          4       2      0         1  ...        23              0   \n",
       "418          4       2      0         4  ...        13              6   \n",
       "401          4       2      0         1  ...        26              5   \n",
       "580          4       2      0         1  ...        22              4   \n",
       "...        ...     ...    ...       ...  ...       ...            ...   \n",
       "1457         4       2      0         4  ...        17              5   \n",
       "103          4       2      0         1  ...        17              5   \n",
       "151          4       2      0         4  ...         1              1   \n",
       "502          4       2      0         4  ...        13              6   \n",
       "1037         4       2      0         4  ...        36              0   \n",
       "\n",
       "      saleDayofyear   saleElapsed  \n",
       "260             121  1.241136e+09  \n",
       "391             152  1.243814e+09  \n",
       "418              91  1.175386e+09  \n",
       "401             182  1.151712e+09  \n",
       "580             152  1.180656e+09  \n",
       "...             ...           ...  \n",
       "1457            121  1.272672e+09  \n",
       "103             121  1.272672e+09  \n",
       "151               1  1.199146e+09  \n",
       "502              91  1.175386e+09  \n",
       "1037            245  1.220227e+09  \n",
       "\n",
       "[1460 rows x 93 columns]"
      ]
     },
     "execution_count": 160,
     "metadata": {},
     "output_type": "execute_result"
    }
   ],
   "source": [
    "procs = [Categorify, FillMissing(add_col=False)]\n",
    "\n",
    "tabular_data = TabularPandas(df, procs, cat, cont, y_names=dep_var, splits=splits)\n",
    "tabular_data.xs\n",
    "len(cont), len(cat)\n",
    "tabular_data.xs"
   ]
  },
  {
   "cell_type": "markdown",
   "metadata": {},
   "source": [
    "Need to apply the same transform to the test dataset"
   ]
  },
  {
   "cell_type": "code",
   "execution_count": 161,
   "metadata": {
    "execution": {
     "iopub.execute_input": "2023-05-11T16:38:36.048387Z",
     "iopub.status.busy": "2023-05-11T16:38:36.047971Z",
     "iopub.status.idle": "2023-05-11T16:38:36.194911Z",
     "shell.execute_reply": "2023-05-11T16:38:36.193799Z",
     "shell.execute_reply.started": "2023-05-11T16:38:36.048354Z"
    }
   },
   "outputs": [
    {
     "data": {
      "text/html": [
       "<div>\n",
       "<style scoped>\n",
       "    .dataframe tbody tr th:only-of-type {\n",
       "        vertical-align: middle;\n",
       "    }\n",
       "\n",
       "    .dataframe tbody tr th {\n",
       "        vertical-align: top;\n",
       "    }\n",
       "\n",
       "    .dataframe thead th {\n",
       "        text-align: right;\n",
       "    }\n",
       "</style>\n",
       "<table border=\"1\" class=\"dataframe\">\n",
       "  <thead>\n",
       "    <tr style=\"text-align: right;\">\n",
       "      <th></th>\n",
       "      <th>MSZoning</th>\n",
       "      <th>Street</th>\n",
       "      <th>Alley</th>\n",
       "      <th>LotShape</th>\n",
       "      <th>...</th>\n",
       "      <th>saleWeek</th>\n",
       "      <th>saleDayofweek</th>\n",
       "      <th>saleDayofyear</th>\n",
       "      <th>saleElapsed</th>\n",
       "    </tr>\n",
       "  </thead>\n",
       "  <tbody>\n",
       "    <tr>\n",
       "      <th>0</th>\n",
       "      <td>3</td>\n",
       "      <td>2</td>\n",
       "      <td>0</td>\n",
       "      <td>4</td>\n",
       "      <td>...</td>\n",
       "      <td>22</td>\n",
       "      <td>1</td>\n",
       "      <td>152</td>\n",
       "      <td>1.275350e+09</td>\n",
       "    </tr>\n",
       "    <tr>\n",
       "      <th>1</th>\n",
       "      <td>4</td>\n",
       "      <td>2</td>\n",
       "      <td>0</td>\n",
       "      <td>1</td>\n",
       "      <td>...</td>\n",
       "      <td>22</td>\n",
       "      <td>1</td>\n",
       "      <td>152</td>\n",
       "      <td>1.275350e+09</td>\n",
       "    </tr>\n",
       "    <tr>\n",
       "      <th>2</th>\n",
       "      <td>4</td>\n",
       "      <td>2</td>\n",
       "      <td>0</td>\n",
       "      <td>1</td>\n",
       "      <td>...</td>\n",
       "      <td>9</td>\n",
       "      <td>0</td>\n",
       "      <td>60</td>\n",
       "      <td>1.267402e+09</td>\n",
       "    </tr>\n",
       "    <tr>\n",
       "      <th>3</th>\n",
       "      <td>4</td>\n",
       "      <td>2</td>\n",
       "      <td>0</td>\n",
       "      <td>1</td>\n",
       "      <td>...</td>\n",
       "      <td>22</td>\n",
       "      <td>1</td>\n",
       "      <td>152</td>\n",
       "      <td>1.275350e+09</td>\n",
       "    </tr>\n",
       "    <tr>\n",
       "      <th>4</th>\n",
       "      <td>4</td>\n",
       "      <td>2</td>\n",
       "      <td>0</td>\n",
       "      <td>1</td>\n",
       "      <td>...</td>\n",
       "      <td>53</td>\n",
       "      <td>4</td>\n",
       "      <td>1</td>\n",
       "      <td>1.262304e+09</td>\n",
       "    </tr>\n",
       "    <tr>\n",
       "      <th>...</th>\n",
       "      <td>...</td>\n",
       "      <td>...</td>\n",
       "      <td>...</td>\n",
       "      <td>...</td>\n",
       "      <td>...</td>\n",
       "      <td>...</td>\n",
       "      <td>...</td>\n",
       "      <td>...</td>\n",
       "      <td>...</td>\n",
       "    </tr>\n",
       "    <tr>\n",
       "      <th>1454</th>\n",
       "      <td>5</td>\n",
       "      <td>2</td>\n",
       "      <td>0</td>\n",
       "      <td>4</td>\n",
       "      <td>...</td>\n",
       "      <td>22</td>\n",
       "      <td>3</td>\n",
       "      <td>152</td>\n",
       "      <td>1.149120e+09</td>\n",
       "    </tr>\n",
       "    <tr>\n",
       "      <th>1455</th>\n",
       "      <td>5</td>\n",
       "      <td>2</td>\n",
       "      <td>0</td>\n",
       "      <td>4</td>\n",
       "      <td>...</td>\n",
       "      <td>13</td>\n",
       "      <td>5</td>\n",
       "      <td>91</td>\n",
       "      <td>1.143850e+09</td>\n",
       "    </tr>\n",
       "    <tr>\n",
       "      <th>1456</th>\n",
       "      <td>4</td>\n",
       "      <td>2</td>\n",
       "      <td>0</td>\n",
       "      <td>4</td>\n",
       "      <td>...</td>\n",
       "      <td>35</td>\n",
       "      <td>4</td>\n",
       "      <td>244</td>\n",
       "      <td>1.157069e+09</td>\n",
       "    </tr>\n",
       "    <tr>\n",
       "      <th>1457</th>\n",
       "      <td>4</td>\n",
       "      <td>2</td>\n",
       "      <td>0</td>\n",
       "      <td>4</td>\n",
       "      <td>...</td>\n",
       "      <td>26</td>\n",
       "      <td>5</td>\n",
       "      <td>182</td>\n",
       "      <td>1.151712e+09</td>\n",
       "    </tr>\n",
       "    <tr>\n",
       "      <th>1458</th>\n",
       "      <td>4</td>\n",
       "      <td>2</td>\n",
       "      <td>0</td>\n",
       "      <td>4</td>\n",
       "      <td>...</td>\n",
       "      <td>44</td>\n",
       "      <td>2</td>\n",
       "      <td>305</td>\n",
       "      <td>1.162339e+09</td>\n",
       "    </tr>\n",
       "  </tbody>\n",
       "</table>\n",
       "<p>1459 rows × 93 columns</p>\n",
       "</div>"
      ],
      "text/plain": [
       "      MSZoning  Street  Alley  LotShape  ...  saleWeek  saleDayofweek   \n",
       "0            3       2      0         4  ...        22              1  \\\n",
       "1            4       2      0         1  ...        22              1   \n",
       "2            4       2      0         1  ...         9              0   \n",
       "3            4       2      0         1  ...        22              1   \n",
       "4            4       2      0         1  ...        53              4   \n",
       "...        ...     ...    ...       ...  ...       ...            ...   \n",
       "1454         5       2      0         4  ...        22              3   \n",
       "1455         5       2      0         4  ...        13              5   \n",
       "1456         4       2      0         4  ...        35              4   \n",
       "1457         4       2      0         4  ...        26              5   \n",
       "1458         4       2      0         4  ...        44              2   \n",
       "\n",
       "      saleDayofyear   saleElapsed  \n",
       "0               152  1.275350e+09  \n",
       "1               152  1.275350e+09  \n",
       "2                60  1.267402e+09  \n",
       "3               152  1.275350e+09  \n",
       "4                 1  1.262304e+09  \n",
       "...             ...           ...  \n",
       "1454            152  1.149120e+09  \n",
       "1455             91  1.143850e+09  \n",
       "1456            244  1.157069e+09  \n",
       "1457            182  1.151712e+09  \n",
       "1458            305  1.162339e+09  \n",
       "\n",
       "[1459 rows x 93 columns]"
      ]
     },
     "execution_count": 161,
     "metadata": {},
     "output_type": "execute_result"
    }
   ],
   "source": [
    "cont1, cat1 = cont_cat_split(df_test, 1)\n",
    "\n",
    "test_data = TabularPandas(df_test, [Categorify, FillMissing(add_col=False)], cat1, cont1)\n",
    "test_data.xs"
   ]
  },
  {
   "cell_type": "code",
   "execution_count": 162,
   "metadata": {},
   "outputs": [
    {
     "data": {
      "text/plain": [
       "array([], dtype='<U20')"
      ]
     },
     "execution_count": 162,
     "metadata": {},
     "output_type": "execute_result"
    }
   ],
   "source": [
    "len(cont1), len(cat1), len(cont), len(cat)\n",
    "drop_cols = np.setdiff1d(cat1, cat)\n",
    "drop_cols"
   ]
  },
  {
   "cell_type": "code",
   "execution_count": 163,
   "metadata": {},
   "outputs": [],
   "source": [
    "# FastAI is adding different sets of columns for the train and test sets\n",
    "# presumably because different rows have different missing values.\n",
    "# Passing `add_col=False` crashes when cleaning the test data\n",
    "# so I'm just going to drop the extra columns\n",
    "#test_data.remove(drop_cols)"
   ]
  },
  {
   "cell_type": "markdown",
   "metadata": {},
   "source": [
    "For whatever reason FillMissing decided to work so lets save the two datasets"
   ]
  },
  {
   "cell_type": "code",
   "execution_count": 164,
   "metadata": {},
   "outputs": [],
   "source": [
    "#save_pickle(path/'train.pk1', tabular_data)\n",
    "#save_pickle(path/'test.pk1', test_data)"
   ]
  },
  {
   "cell_type": "markdown",
   "metadata": {},
   "source": [
    "## Creating the decision tree"
   ]
  },
  {
   "cell_type": "code",
   "execution_count": 165,
   "metadata": {
    "execution": {
     "iopub.execute_input": "2023-05-11T16:38:36.196858Z",
     "iopub.status.busy": "2023-05-11T16:38:36.196414Z",
     "iopub.status.idle": "2023-05-11T16:38:36.204280Z",
     "shell.execute_reply": "2023-05-11T16:38:36.203093Z",
     "shell.execute_reply.started": "2023-05-11T16:38:36.196821Z"
    }
   },
   "outputs": [],
   "source": [
    "def draw_tree(t, df, size=10, ratio=0.6, precision=0, **kwargs):\n",
    "    s=export_graphviz(t, out_file=None, feature_names=df.columns, filled=True, rounded=True,\n",
    "                      special_characters=True, rotate=False, precision=precision, **kwargs)\n",
    "    return graphviz.Source(re.sub('Tree {', f'Tree {{ size={size}; ratio={ratio}', s))"
   ]
  },
  {
   "cell_type": "code",
   "execution_count": 166,
   "metadata": {
    "execution": {
     "iopub.status.busy": "2023-05-11T16:38:39.181379Z",
     "iopub.status.idle": "2023-05-11T16:38:39.181771Z",
     "shell.execute_reply": "2023-05-11T16:38:39.181591Z",
     "shell.execute_reply.started": "2023-05-11T16:38:39.181573Z"
    }
   },
   "outputs": [
    {
     "data": {
      "image/svg+xml": [
       "<?xml version=\"1.0\" encoding=\"UTF-8\" standalone=\"no\"?>\n",
       "<!DOCTYPE svg PUBLIC \"-//W3C//DTD SVG 1.1//EN\"\n",
       " \"http://www.w3.org/Graphics/SVG/1.1/DTD/svg11.dtd\">\n",
       "<!-- Generated by graphviz version 7.1.0 (20230121.1956)\n",
       " -->\n",
       "<!-- Title: Tree Pages: 1 -->\n",
       "<svg width=\"720pt\" height=\"435pt\"\n",
       " viewBox=\"0.00 0.00 720.00 435.47\" xmlns=\"http://www.w3.org/2000/svg\" xmlns:xlink=\"http://www.w3.org/1999/xlink\">\n",
       "<g id=\"graph0\" class=\"graph\" transform=\"scale(0.90566 0.90566) rotate(0) translate(4 476.83)\">\n",
       "<title>Tree</title>\n",
       "<polygon fill=\"white\" stroke=\"none\" points=\"-4,4 -4,-476.83 791,-476.83 791,4 -4,4\"/>\n",
       "<!-- 0 -->\n",
       "<g id=\"node1\" class=\"node\">\n",
       "<title>0</title>\n",
       "<path fill=\"#f2c29f\" stroke=\"black\" d=\"M533,-464C533,-464 414,-464 414,-464 408,-464 402,-458 402,-452 402,-452 402,-408 402,-408 402,-402 408,-396 414,-396 414,-396 533,-396 533,-396 539,-396 545,-402 545,-408 545,-408 545,-452 545,-452 545,-458 539,-464 533,-464\"/>\n",
       "<text text-anchor=\"start\" x=\"420\" y=\"-448.8\" font-family=\"Helvetica,sans-Serif\" font-size=\"14.00\">OverallQual ≤ 6.5</text>\n",
       "<text text-anchor=\"start\" x=\"410\" y=\"-433.8\" font-family=\"Helvetica,sans-Serif\" font-size=\"14.00\">squared_error = 0.16</text>\n",
       "<text text-anchor=\"start\" x=\"425\" y=\"-418.8\" font-family=\"Helvetica,sans-Serif\" font-size=\"14.00\">samples = 1168</text>\n",
       "<text text-anchor=\"start\" x=\"432.5\" y=\"-403.8\" font-family=\"Helvetica,sans-Serif\" font-size=\"14.00\">value = 12.02</text>\n",
       "</g>\n",
       "<!-- 1 -->\n",
       "<g id=\"node2\" class=\"node\">\n",
       "<title>1</title>\n",
       "<path fill=\"#f7dac5\" stroke=\"black\" d=\"M372,-332C372,-332 253,-332 253,-332 247,-332 241,-326 241,-320 241,-320 241,-276 241,-276 241,-270 247,-264 253,-264 253,-264 372,-264 372,-264 378,-264 384,-270 384,-276 384,-276 384,-320 384,-320 384,-326 378,-332 372,-332\"/>\n",
       "<text text-anchor=\"start\" x=\"259\" y=\"-316.8\" font-family=\"Helvetica,sans-Serif\" font-size=\"14.00\">OverallQual ≤ 4.5</text>\n",
       "<text text-anchor=\"start\" x=\"249\" y=\"-301.8\" font-family=\"Helvetica,sans-Serif\" font-size=\"14.00\">squared_error = 0.08</text>\n",
       "<text text-anchor=\"start\" x=\"267.5\" y=\"-286.8\" font-family=\"Helvetica,sans-Serif\" font-size=\"14.00\">samples = 727</text>\n",
       "<text text-anchor=\"start\" x=\"271.5\" y=\"-271.8\" font-family=\"Helvetica,sans-Serif\" font-size=\"14.00\">value = 11.81</text>\n",
       "</g>\n",
       "<!-- 0&#45;&gt;1 -->\n",
       "<g id=\"edge1\" class=\"edge\">\n",
       "<title>0&#45;&gt;1</title>\n",
       "<path fill=\"none\" stroke=\"black\" d=\"M432.04,-395.52C410.82,-378.39 384.82,-357.4 362.5,-339.37\"/>\n",
       "<polygon fill=\"black\" stroke=\"black\" points=\"364.98,-336.87 355,-333.32 360.58,-342.32 364.98,-336.87\"/>\n",
       "<text text-anchor=\"middle\" x=\"356.47\" y=\"-353.52\" font-family=\"Helvetica,sans-Serif\" font-size=\"14.00\">True</text>\n",
       "</g>\n",
       "<!-- 2 -->\n",
       "<g id=\"node7\" class=\"node\">\n",
       "<title>2</title>\n",
       "<path fill=\"#ea995f\" stroke=\"black\" d=\"M614,-332C614,-332 495,-332 495,-332 489,-332 483,-326 483,-320 483,-320 483,-276 483,-276 483,-270 489,-264 495,-264 495,-264 614,-264 614,-264 620,-264 626,-270 626,-276 626,-276 626,-320 626,-320 626,-326 620,-332 614,-332\"/>\n",
       "<text text-anchor=\"start\" x=\"501\" y=\"-316.8\" font-family=\"Helvetica,sans-Serif\" font-size=\"14.00\">OverallQual ≤ 7.5</text>\n",
       "<text text-anchor=\"start\" x=\"491\" y=\"-301.8\" font-family=\"Helvetica,sans-Serif\" font-size=\"14.00\">squared_error = 0.09</text>\n",
       "<text text-anchor=\"start\" x=\"509.5\" y=\"-286.8\" font-family=\"Helvetica,sans-Serif\" font-size=\"14.00\">samples = 441</text>\n",
       "<text text-anchor=\"start\" x=\"513.5\" y=\"-271.8\" font-family=\"Helvetica,sans-Serif\" font-size=\"14.00\">value = 12.37</text>\n",
       "</g>\n",
       "<!-- 0&#45;&gt;2 -->\n",
       "<g id=\"edge6\" class=\"edge\">\n",
       "<title>0&#45;&gt;2</title>\n",
       "<path fill=\"none\" stroke=\"black\" d=\"M494.36,-395.52C504.56,-379.15 516.96,-359.25 527.84,-341.78\"/>\n",
       "<polygon fill=\"black\" stroke=\"black\" points=\"530.59,-343.99 532.91,-333.65 524.65,-340.29 530.59,-343.99\"/>\n",
       "<text text-anchor=\"middle\" x=\"539.37\" y=\"-353.02\" font-family=\"Helvetica,sans-Serif\" font-size=\"14.00\">False</text>\n",
       "</g>\n",
       "<!-- 3 -->\n",
       "<g id=\"node3\" class=\"node\">\n",
       "<title>3</title>\n",
       "<path fill=\"#ffffff\" stroke=\"black\" d=\"M131,-60.5C131,-60.5 12,-60.5 12,-60.5 6,-60.5 0,-54.5 0,-48.5 0,-48.5 0,-19.5 0,-19.5 0,-13.5 6,-7.5 12,-7.5 12,-7.5 131,-7.5 131,-7.5 137,-7.5 143,-13.5 143,-19.5 143,-19.5 143,-48.5 143,-48.5 143,-54.5 137,-60.5 131,-60.5\"/>\n",
       "<text text-anchor=\"start\" x=\"8\" y=\"-45.3\" font-family=\"Helvetica,sans-Serif\" font-size=\"14.00\">squared_error = 0.11</text>\n",
       "<text text-anchor=\"start\" x=\"26.5\" y=\"-30.3\" font-family=\"Helvetica,sans-Serif\" font-size=\"14.00\">samples = 115</text>\n",
       "<text text-anchor=\"start\" x=\"30.5\" y=\"-15.3\" font-family=\"Helvetica,sans-Serif\" font-size=\"14.00\">value = 11.49</text>\n",
       "</g>\n",
       "<!-- 1&#45;&gt;3 -->\n",
       "<g id=\"edge2\" class=\"edge\">\n",
       "<title>1&#45;&gt;3</title>\n",
       "<path fill=\"none\" stroke=\"black\" d=\"M281.73,-263.55C235.67,-213.47 149.25,-119.52 102.85,-69.08\"/>\n",
       "<polygon fill=\"black\" stroke=\"black\" points=\"105.58,-66.88 96.24,-61.89 100.43,-71.62 105.58,-66.88\"/>\n",
       "</g>\n",
       "<!-- 4 -->\n",
       "<g id=\"node4\" class=\"node\">\n",
       "<title>4</title>\n",
       "<path fill=\"#f6d3ba\" stroke=\"black\" d=\"M372,-200C372,-200 253,-200 253,-200 247,-200 241,-194 241,-188 241,-188 241,-144 241,-144 241,-138 247,-132 253,-132 253,-132 372,-132 372,-132 378,-132 384,-138 384,-144 384,-144 384,-188 384,-188 384,-194 378,-200 372,-200\"/>\n",
       "<text text-anchor=\"start\" x=\"258\" y=\"-184.8\" font-family=\"Helvetica,sans-Serif\" font-size=\"14.00\">GarageCars ≤ 1.5</text>\n",
       "<text text-anchor=\"start\" x=\"249\" y=\"-169.8\" font-family=\"Helvetica,sans-Serif\" font-size=\"14.00\">squared_error = 0.06</text>\n",
       "<text text-anchor=\"start\" x=\"267.5\" y=\"-154.8\" font-family=\"Helvetica,sans-Serif\" font-size=\"14.00\">samples = 612</text>\n",
       "<text text-anchor=\"start\" x=\"271.5\" y=\"-139.8\" font-family=\"Helvetica,sans-Serif\" font-size=\"14.00\">value = 11.87</text>\n",
       "</g>\n",
       "<!-- 1&#45;&gt;4 -->\n",
       "<g id=\"edge3\" class=\"edge\">\n",
       "<title>1&#45;&gt;4</title>\n",
       "<path fill=\"none\" stroke=\"black\" d=\"M312.5,-263.52C312.5,-247.75 312.5,-228.72 312.5,-211.73\"/>\n",
       "<polygon fill=\"black\" stroke=\"black\" points=\"316,-211.88 312.5,-201.88 309,-211.88 316,-211.88\"/>\n",
       "</g>\n",
       "<!-- 7 -->\n",
       "<g id=\"node5\" class=\"node\">\n",
       "<title>7</title>\n",
       "<path fill=\"#f9e2d2\" stroke=\"black\" d=\"M292,-60.5C292,-60.5 173,-60.5 173,-60.5 167,-60.5 161,-54.5 161,-48.5 161,-48.5 161,-19.5 161,-19.5 161,-13.5 167,-7.5 173,-7.5 173,-7.5 292,-7.5 292,-7.5 298,-7.5 304,-13.5 304,-19.5 304,-19.5 304,-48.5 304,-48.5 304,-54.5 298,-60.5 292,-60.5\"/>\n",
       "<text text-anchor=\"start\" x=\"169\" y=\"-45.3\" font-family=\"Helvetica,sans-Serif\" font-size=\"14.00\">squared_error = 0.04</text>\n",
       "<text text-anchor=\"start\" x=\"187.5\" y=\"-30.3\" font-family=\"Helvetica,sans-Serif\" font-size=\"14.00\">samples = 264</text>\n",
       "<text text-anchor=\"start\" x=\"191.5\" y=\"-15.3\" font-family=\"Helvetica,sans-Serif\" font-size=\"14.00\">value = 11.74</text>\n",
       "</g>\n",
       "<!-- 4&#45;&gt;7 -->\n",
       "<g id=\"edge4\" class=\"edge\">\n",
       "<title>4&#45;&gt;7</title>\n",
       "<path fill=\"none\" stroke=\"black\" d=\"M291.9,-131.52C280.44,-112.9 266.18,-89.73 254.5,-70.75\"/>\n",
       "<polygon fill=\"black\" stroke=\"black\" points=\"257.5,-68.95 249.28,-62.27 251.54,-72.62 257.5,-68.95\"/>\n",
       "</g>\n",
       "<!-- 8 -->\n",
       "<g id=\"node6\" class=\"node\">\n",
       "<title>8</title>\n",
       "<path fill=\"#f4c8a8\" stroke=\"black\" d=\"M453,-60.5C453,-60.5 334,-60.5 334,-60.5 328,-60.5 322,-54.5 322,-48.5 322,-48.5 322,-19.5 322,-19.5 322,-13.5 328,-7.5 334,-7.5 334,-7.5 453,-7.5 453,-7.5 459,-7.5 465,-13.5 465,-19.5 465,-19.5 465,-48.5 465,-48.5 465,-54.5 459,-60.5 453,-60.5\"/>\n",
       "<text text-anchor=\"start\" x=\"330\" y=\"-45.3\" font-family=\"Helvetica,sans-Serif\" font-size=\"14.00\">squared_error = 0.04</text>\n",
       "<text text-anchor=\"start\" x=\"348.5\" y=\"-30.3\" font-family=\"Helvetica,sans-Serif\" font-size=\"14.00\">samples = 348</text>\n",
       "<text text-anchor=\"start\" x=\"352.5\" y=\"-15.3\" font-family=\"Helvetica,sans-Serif\" font-size=\"14.00\">value = 11.97</text>\n",
       "</g>\n",
       "<!-- 4&#45;&gt;8 -->\n",
       "<g id=\"edge5\" class=\"edge\">\n",
       "<title>4&#45;&gt;8</title>\n",
       "<path fill=\"none\" stroke=\"black\" d=\"M333.36,-131.52C345.02,-112.82 359.53,-89.51 371.39,-70.49\"/>\n",
       "<polygon fill=\"black\" stroke=\"black\" points=\"374.19,-72.6 376.51,-62.26 368.25,-68.9 374.19,-72.6\"/>\n",
       "</g>\n",
       "<!-- 5 -->\n",
       "<g id=\"node8\" class=\"node\">\n",
       "<title>5</title>\n",
       "<path fill=\"#eeab7a\" stroke=\"black\" d=\"M614,-60.5C614,-60.5 495,-60.5 495,-60.5 489,-60.5 483,-54.5 483,-48.5 483,-48.5 483,-19.5 483,-19.5 483,-13.5 489,-7.5 495,-7.5 495,-7.5 614,-7.5 614,-7.5 620,-7.5 626,-13.5 626,-19.5 626,-19.5 626,-48.5 626,-48.5 626,-54.5 620,-60.5 614,-60.5\"/>\n",
       "<text text-anchor=\"start\" x=\"491\" y=\"-45.3\" font-family=\"Helvetica,sans-Serif\" font-size=\"14.00\">squared_error = 0.04</text>\n",
       "<text text-anchor=\"start\" x=\"509.5\" y=\"-30.3\" font-family=\"Helvetica,sans-Serif\" font-size=\"14.00\">samples = 258</text>\n",
       "<text text-anchor=\"start\" x=\"513.5\" y=\"-15.3\" font-family=\"Helvetica,sans-Serif\" font-size=\"14.00\">value = 12.22</text>\n",
       "</g>\n",
       "<!-- 2&#45;&gt;5 -->\n",
       "<g id=\"edge7\" class=\"edge\">\n",
       "<title>2&#45;&gt;5</title>\n",
       "<path fill=\"none\" stroke=\"black\" d=\"M554.5,-263.55C554.5,-214.51 554.5,-123.39 554.5,-72.26\"/>\n",
       "<polygon fill=\"black\" stroke=\"black\" points=\"558,-72.29 554.5,-62.29 551,-72.29 558,-72.29\"/>\n",
       "</g>\n",
       "<!-- 6 -->\n",
       "<g id=\"node9\" class=\"node\">\n",
       "<title>6</title>\n",
       "<path fill=\"#e58139\" stroke=\"black\" d=\"M775,-60.5C775,-60.5 656,-60.5 656,-60.5 650,-60.5 644,-54.5 644,-48.5 644,-48.5 644,-19.5 644,-19.5 644,-13.5 650,-7.5 656,-7.5 656,-7.5 775,-7.5 775,-7.5 781,-7.5 787,-13.5 787,-19.5 787,-19.5 787,-48.5 787,-48.5 787,-54.5 781,-60.5 775,-60.5\"/>\n",
       "<text text-anchor=\"start\" x=\"652\" y=\"-45.3\" font-family=\"Helvetica,sans-Serif\" font-size=\"14.00\">squared_error = 0.08</text>\n",
       "<text text-anchor=\"start\" x=\"670.5\" y=\"-30.3\" font-family=\"Helvetica,sans-Serif\" font-size=\"14.00\">samples = 183</text>\n",
       "<text text-anchor=\"start\" x=\"674.5\" y=\"-15.3\" font-family=\"Helvetica,sans-Serif\" font-size=\"14.00\">value = 12.59</text>\n",
       "</g>\n",
       "<!-- 2&#45;&gt;6 -->\n",
       "<g id=\"edge8\" class=\"edge\">\n",
       "<title>2&#45;&gt;6</title>\n",
       "<path fill=\"none\" stroke=\"black\" d=\"M575.05,-263.55C605.57,-213.89 662.61,-121.07 693.78,-70.34\"/>\n",
       "<polygon fill=\"black\" stroke=\"black\" points=\"696.61,-72.42 698.87,-62.07 690.65,-68.76 696.61,-72.42\"/>\n",
       "</g>\n",
       "</g>\n",
       "</svg>\n"
      ],
      "text/plain": [
       "<graphviz.sources.Source at 0x2aa58d040>"
      ]
     },
     "execution_count": 166,
     "metadata": {},
     "output_type": "execute_result"
    }
   ],
   "source": [
    "xs, y = tabular_data.train.xs, tabular_data.train.y # The independent and dependent params\n",
    "valid_xs, valid_y = tabular_data.valid.xs, tabular_data.valid.y\n",
    "\n",
    "m = DecisionTreeRegressor(max_leaf_nodes=5)\n",
    "m.fit(xs, y)\n",
    "\n",
    "draw_tree(m, xs, size=10, leaves_parallel=True, precision=2)"
   ]
  },
  {
   "cell_type": "code",
   "execution_count": 167,
   "metadata": {
    "execution": {
     "iopub.status.busy": "2023-05-11T16:38:39.183301Z",
     "iopub.status.idle": "2023-05-11T16:38:39.183991Z",
     "shell.execute_reply": "2023-05-11T16:38:39.183593Z",
     "shell.execute_reply.started": "2023-05-11T16:38:39.183567Z"
    }
   },
   "outputs": [],
   "source": [
    "#dtreeviz.model(m,\n",
    "#               X_train=xs, y_train=y,\n",
    "#               feature_names=list(xs.columns),\n",
    "#               target_name='Sale Price').view()"
   ]
  },
  {
   "cell_type": "markdown",
   "metadata": {},
   "source": [
    "Create a decision tree with more nodes. We shouldn't have as many nodes as we can as this will overfit the data."
   ]
  },
  {
   "cell_type": "code",
   "execution_count": 168,
   "metadata": {
    "execution": {
     "iopub.status.busy": "2023-05-11T16:38:39.186005Z",
     "iopub.status.idle": "2023-05-11T16:38:39.186509Z",
     "shell.execute_reply": "2023-05-11T16:38:39.186271Z",
     "shell.execute_reply.started": "2023-05-11T16:38:39.186247Z"
    }
   },
   "outputs": [
    {
     "data": {
      "text/html": [
       "<style>#sk-container-id-2 {color: black;background-color: white;}#sk-container-id-2 pre{padding: 0;}#sk-container-id-2 div.sk-toggleable {background-color: white;}#sk-container-id-2 label.sk-toggleable__label {cursor: pointer;display: block;width: 100%;margin-bottom: 0;padding: 0.3em;box-sizing: border-box;text-align: center;}#sk-container-id-2 label.sk-toggleable__label-arrow:before {content: \"▸\";float: left;margin-right: 0.25em;color: #696969;}#sk-container-id-2 label.sk-toggleable__label-arrow:hover:before {color: black;}#sk-container-id-2 div.sk-estimator:hover label.sk-toggleable__label-arrow:before {color: black;}#sk-container-id-2 div.sk-toggleable__content {max-height: 0;max-width: 0;overflow: hidden;text-align: left;background-color: #f0f8ff;}#sk-container-id-2 div.sk-toggleable__content pre {margin: 0.2em;color: black;border-radius: 0.25em;background-color: #f0f8ff;}#sk-container-id-2 input.sk-toggleable__control:checked~div.sk-toggleable__content {max-height: 200px;max-width: 100%;overflow: auto;}#sk-container-id-2 input.sk-toggleable__control:checked~label.sk-toggleable__label-arrow:before {content: \"▾\";}#sk-container-id-2 div.sk-estimator input.sk-toggleable__control:checked~label.sk-toggleable__label {background-color: #d4ebff;}#sk-container-id-2 div.sk-label input.sk-toggleable__control:checked~label.sk-toggleable__label {background-color: #d4ebff;}#sk-container-id-2 input.sk-hidden--visually {border: 0;clip: rect(1px 1px 1px 1px);clip: rect(1px, 1px, 1px, 1px);height: 1px;margin: -1px;overflow: hidden;padding: 0;position: absolute;width: 1px;}#sk-container-id-2 div.sk-estimator {font-family: monospace;background-color: #f0f8ff;border: 1px dotted black;border-radius: 0.25em;box-sizing: border-box;margin-bottom: 0.5em;}#sk-container-id-2 div.sk-estimator:hover {background-color: #d4ebff;}#sk-container-id-2 div.sk-parallel-item::after {content: \"\";width: 100%;border-bottom: 1px solid gray;flex-grow: 1;}#sk-container-id-2 div.sk-label:hover label.sk-toggleable__label {background-color: #d4ebff;}#sk-container-id-2 div.sk-serial::before {content: \"\";position: absolute;border-left: 1px solid gray;box-sizing: border-box;top: 0;bottom: 0;left: 50%;z-index: 0;}#sk-container-id-2 div.sk-serial {display: flex;flex-direction: column;align-items: center;background-color: white;padding-right: 0.2em;padding-left: 0.2em;position: relative;}#sk-container-id-2 div.sk-item {position: relative;z-index: 1;}#sk-container-id-2 div.sk-parallel {display: flex;align-items: stretch;justify-content: center;background-color: white;position: relative;}#sk-container-id-2 div.sk-item::before, #sk-container-id-2 div.sk-parallel-item::before {content: \"\";position: absolute;border-left: 1px solid gray;box-sizing: border-box;top: 0;bottom: 0;left: 50%;z-index: -1;}#sk-container-id-2 div.sk-parallel-item {display: flex;flex-direction: column;z-index: 1;position: relative;background-color: white;}#sk-container-id-2 div.sk-parallel-item:first-child::after {align-self: flex-end;width: 50%;}#sk-container-id-2 div.sk-parallel-item:last-child::after {align-self: flex-start;width: 50%;}#sk-container-id-2 div.sk-parallel-item:only-child::after {width: 0;}#sk-container-id-2 div.sk-dashed-wrapped {border: 1px dashed gray;margin: 0 0.4em 0.5em 0.4em;box-sizing: border-box;padding-bottom: 0.4em;background-color: white;}#sk-container-id-2 div.sk-label label {font-family: monospace;font-weight: bold;display: inline-block;line-height: 1.2em;}#sk-container-id-2 div.sk-label-container {text-align: center;}#sk-container-id-2 div.sk-container {/* jupyter's `normalize.less` sets `[hidden] { display: none; }` but bootstrap.min.css set `[hidden] { display: none !important; }` so we also need the `!important` here to be able to override the default hidden behavior on the sphinx rendered scikit-learn.org. See: https://github.com/scikit-learn/scikit-learn/issues/21755 */display: inline-block !important;position: relative;}#sk-container-id-2 div.sk-text-repr-fallback {display: none;}</style><div id=\"sk-container-id-2\" class=\"sk-top-container\"><div class=\"sk-text-repr-fallback\"><pre>DecisionTreeRegressor(min_samples_leaf=25)</pre><b>In a Jupyter environment, please rerun this cell to show the HTML representation or trust the notebook. <br />On GitHub, the HTML representation is unable to render, please try loading this page with nbviewer.org.</b></div><div class=\"sk-container\" hidden><div class=\"sk-item\"><div class=\"sk-estimator sk-toggleable\"><input class=\"sk-toggleable__control sk-hidden--visually\" id=\"sk-estimator-id-2\" type=\"checkbox\" checked><label for=\"sk-estimator-id-2\" class=\"sk-toggleable__label sk-toggleable__label-arrow\">DecisionTreeRegressor</label><div class=\"sk-toggleable__content\"><pre>DecisionTreeRegressor(min_samples_leaf=25)</pre></div></div></div></div></div>"
      ],
      "text/plain": [
       "DecisionTreeRegressor(min_samples_leaf=25)"
      ]
     },
     "execution_count": 168,
     "metadata": {},
     "output_type": "execute_result"
    }
   ],
   "source": [
    "m = DecisionTreeRegressor(min_samples_leaf=25)\n",
    "m.fit(xs, y)"
   ]
  },
  {
   "cell_type": "markdown",
   "metadata": {},
   "source": [
    "I'm adding the log here in the `r_mse` function instead of in the data itself. I'm unsure if this is correct but the submission sample suggests the result should just be the predicted price, not the log of it."
   ]
  },
  {
   "cell_type": "code",
   "execution_count": 169,
   "metadata": {
    "execution": {
     "iopub.status.busy": "2023-05-11T16:38:39.189099Z",
     "iopub.status.idle": "2023-05-11T16:38:39.189621Z",
     "shell.execute_reply": "2023-05-11T16:38:39.189380Z",
     "shell.execute_reply.started": "2023-05-11T16:38:39.189356Z"
    }
   },
   "outputs": [],
   "source": [
    "def r_mse(prediction, y): return round(math.sqrt(((np.log(prediction) - np.log(y) ) ** 2).mean()), 6)\n",
    "def m_rmse(model, xs, y): return r_mse(model.predict(xs), y)    "
   ]
  },
  {
   "cell_type": "code",
   "execution_count": 170,
   "metadata": {
    "execution": {
     "iopub.status.busy": "2023-05-11T16:38:39.190945Z",
     "iopub.status.idle": "2023-05-11T16:38:39.191463Z",
     "shell.execute_reply": "2023-05-11T16:38:39.191221Z",
     "shell.execute_reply.started": "2023-05-11T16:38:39.191196Z"
    }
   },
   "outputs": [
    {
     "data": {
      "text/plain": [
       "(0.013482, 0.01667)"
      ]
     },
     "execution_count": 170,
     "metadata": {},
     "output_type": "execute_result"
    }
   ],
   "source": [
    "m_rmse(m, xs, y), m_rmse(m, valid_xs, valid_y)\n",
    "# What are these numbers, what is the kind of scale I should be thinking about\n",
    "# What is a good rmse? The part that's confusing me is the book say 0.331466 is bad but \n",
    "# 0.323396 is good.\n",
    "# In any case (0.165274, 0.197932) looks pretty good."
   ]
  },
  {
   "cell_type": "markdown",
   "metadata": {},
   "source": [
    "## Submit first attempt\n",
    "Take a look at the submission sample to see what we need. A CSV of ID and sale price"
   ]
  },
  {
   "cell_type": "code",
   "execution_count": 171,
   "metadata": {
    "execution": {
     "iopub.status.busy": "2023-05-11T16:38:39.192829Z",
     "iopub.status.idle": "2023-05-11T16:38:39.193346Z",
     "shell.execute_reply": "2023-05-11T16:38:39.193108Z",
     "shell.execute_reply.started": "2023-05-11T16:38:39.193084Z"
    }
   },
   "outputs": [
    {
     "data": {
      "text/html": [
       "<div>\n",
       "<style scoped>\n",
       "    .dataframe tbody tr th:only-of-type {\n",
       "        vertical-align: middle;\n",
       "    }\n",
       "\n",
       "    .dataframe tbody tr th {\n",
       "        vertical-align: top;\n",
       "    }\n",
       "\n",
       "    .dataframe thead th {\n",
       "        text-align: right;\n",
       "    }\n",
       "</style>\n",
       "<table border=\"1\" class=\"dataframe\">\n",
       "  <thead>\n",
       "    <tr style=\"text-align: right;\">\n",
       "      <th></th>\n",
       "      <th>Id</th>\n",
       "      <th>SalePrice</th>\n",
       "    </tr>\n",
       "  </thead>\n",
       "  <tbody>\n",
       "    <tr>\n",
       "      <th>0</th>\n",
       "      <td>1461</td>\n",
       "      <td>169277.052498</td>\n",
       "    </tr>\n",
       "    <tr>\n",
       "      <th>1</th>\n",
       "      <td>1462</td>\n",
       "      <td>187758.393989</td>\n",
       "    </tr>\n",
       "    <tr>\n",
       "      <th>2</th>\n",
       "      <td>1463</td>\n",
       "      <td>183583.683570</td>\n",
       "    </tr>\n",
       "    <tr>\n",
       "      <th>3</th>\n",
       "      <td>1464</td>\n",
       "      <td>179317.477511</td>\n",
       "    </tr>\n",
       "    <tr>\n",
       "      <th>4</th>\n",
       "      <td>1465</td>\n",
       "      <td>150730.079977</td>\n",
       "    </tr>\n",
       "    <tr>\n",
       "      <th>...</th>\n",
       "      <td>...</td>\n",
       "      <td>...</td>\n",
       "    </tr>\n",
       "    <tr>\n",
       "      <th>1454</th>\n",
       "      <td>2915</td>\n",
       "      <td>167081.220949</td>\n",
       "    </tr>\n",
       "    <tr>\n",
       "      <th>1455</th>\n",
       "      <td>2916</td>\n",
       "      <td>164788.778231</td>\n",
       "    </tr>\n",
       "    <tr>\n",
       "      <th>1456</th>\n",
       "      <td>2917</td>\n",
       "      <td>219222.423400</td>\n",
       "    </tr>\n",
       "    <tr>\n",
       "      <th>1457</th>\n",
       "      <td>2918</td>\n",
       "      <td>184924.279659</td>\n",
       "    </tr>\n",
       "    <tr>\n",
       "      <th>1458</th>\n",
       "      <td>2919</td>\n",
       "      <td>187741.866657</td>\n",
       "    </tr>\n",
       "  </tbody>\n",
       "</table>\n",
       "<p>1459 rows × 2 columns</p>\n",
       "</div>"
      ],
      "text/plain": [
       "        Id      SalePrice\n",
       "0     1461  169277.052498\n",
       "1     1462  187758.393989\n",
       "2     1463  183583.683570\n",
       "3     1464  179317.477511\n",
       "4     1465  150730.079977\n",
       "...    ...            ...\n",
       "1454  2915  167081.220949\n",
       "1455  2916  164788.778231\n",
       "1456  2917  219222.423400\n",
       "1457  2918  184924.279659\n",
       "1458  2919  187741.866657\n",
       "\n",
       "[1459 rows x 2 columns]"
      ]
     },
     "execution_count": 171,
     "metadata": {},
     "output_type": "execute_result"
    }
   ],
   "source": [
    "sub_sample = pd.read_csv(path/'sample_submission.csv')\n",
    "sub_sample"
   ]
  },
  {
   "cell_type": "code",
   "execution_count": 172,
   "metadata": {},
   "outputs": [
    {
     "data": {
      "text/plain": [
       "        Id  MSSubClass  MSZoning  LotFrontage  ...  saleIs_quarter_start   \n",
       "0     1461          20         3         80.0  ...                     1  \\\n",
       "1     1462          20         4         81.0  ...                     1   \n",
       "2     1463          60         4         74.0  ...                     1   \n",
       "3     1464          60         4         78.0  ...                     1   \n",
       "4     1465         120         4         43.0  ...                     2   \n",
       "...    ...         ...       ...          ...  ...                   ...   \n",
       "1454  2915         160         5         21.0  ...                     1   \n",
       "1455  2916         160         5         21.0  ...                     2   \n",
       "1456  2917          20         4        160.0  ...                     1   \n",
       "1457  2918          85         4         62.0  ...                     2   \n",
       "1458  2919          60         4         74.0  ...                     1   \n",
       "\n",
       "      saleIs_year_end  saleIs_year_start   saleElapsed  \n",
       "0                   1                  1  1.275350e+09  \n",
       "1                   1                  1  1.275350e+09  \n",
       "2                   1                  1  1.267402e+09  \n",
       "3                   1                  1  1.275350e+09  \n",
       "4                   1                  2  1.262304e+09  \n",
       "...               ...                ...           ...  \n",
       "1454                1                  1  1.149120e+09  \n",
       "1455                1                  1  1.143850e+09  \n",
       "1456                1                  1  1.157069e+09  \n",
       "1457                1                  1  1.151712e+09  \n",
       "1458                1                  1  1.162339e+09  \n",
       "\n",
       "[1459 rows x 93 columns]"
      ]
     },
     "execution_count": 172,
     "metadata": {},
     "output_type": "execute_result"
    }
   ],
   "source": [
    "test_data.train"
   ]
  },
  {
   "cell_type": "code",
   "execution_count": 173,
   "metadata": {},
   "outputs": [
    {
     "data": {
      "text/plain": [
       "1459"
      ]
     },
     "execution_count": 173,
     "metadata": {},
     "output_type": "execute_result"
    }
   ],
   "source": [
    "preds = m.predict(test_data.xs)\n",
    "len(preds)"
   ]
  },
  {
   "cell_type": "code",
   "execution_count": 174,
   "metadata": {},
   "outputs": [],
   "source": [
    "def preds_to_csv(preds, name):\n",
    "    submission = [list(t) for t in list(zip(test_data['Id'], preds))]\n",
    "    sub_df = pd.DataFrame(submission, columns=['Id', 'SalePrice'])\n",
    "    sub_df.to_csv(name, index=False)"
   ]
  },
  {
   "cell_type": "code",
   "execution_count": 175,
   "metadata": {
    "execution": {
     "iopub.status.busy": "2023-05-11T16:38:39.195012Z",
     "iopub.status.idle": "2023-05-11T16:38:39.195522Z",
     "shell.execute_reply": "2023-05-11T16:38:39.195284Z",
     "shell.execute_reply.started": "2023-05-11T16:38:39.195259Z"
    }
   },
   "outputs": [
    {
     "name": "stdout",
     "output_type": "stream",
     "text": [
      "Id,SalePrice\r\n",
      "1461,11.55269515991211\r\n",
      "1462,11.932595211526621\r\n",
      "1463,12.157088097105635\r\n",
      "1464,12.157088097105635\r\n",
      "1465,12.234535884857177\r\n",
      "1466,12.064248731059413\r\n",
      "1467,12.050147021258319\r\n",
      "1468,12.064248731059413\r\n",
      "1469,12.04948317620062\r\n"
     ]
    }
   ],
   "source": [
    "# Zip up the ids and predictions, then transform to 2D array from Array of tuples\n",
    "submission = [list(t) for t in list(zip(test_data['Id'], preds))]\n",
    "\n",
    "# Convert to Pandas dataframe to output CSV for submission.\n",
    "sub_df = pd.DataFrame(submission, columns=['Id', 'SalePrice'])\n",
    "sub_df.to_csv('subm.csv', index=False)\n",
    "!head subm.csv"
   ]
  },
  {
   "cell_type": "code",
   "execution_count": 176,
   "metadata": {
    "execution": {
     "iopub.status.busy": "2023-05-11T16:38:39.197237Z",
     "iopub.status.idle": "2023-05-11T16:38:39.197608Z",
     "shell.execute_reply": "2023-05-11T16:38:39.197444Z",
     "shell.execute_reply.started": "2023-05-11T16:38:39.197427Z"
    }
   },
   "outputs": [],
   "source": [
    "from kaggle import api\n",
    "# api.competition_submit_cli('subm.csv', 'Initial decision tree', comp)\n"
   ]
  },
  {
   "cell_type": "markdown",
   "metadata": {},
   "source": [
    "Score: 0.19112, pretty far down the leaderboard"
   ]
  },
  {
   "cell_type": "markdown",
   "metadata": {},
   "source": [
    "## Random Forests\n",
    "Define a function to return N decision trees"
   ]
  },
  {
   "cell_type": "code",
   "execution_count": 177,
   "metadata": {},
   "outputs": [],
   "source": [
    "??RandomForestRegressor"
   ]
  },
  {
   "cell_type": "code",
   "execution_count": 178,
   "metadata": {},
   "outputs": [
    {
     "data": {
      "text/plain": [
       "(0.007671, 0.013003)"
      ]
     },
     "execution_count": 178,
     "metadata": {},
     "output_type": "execute_result"
    }
   ],
   "source": [
    "def random_forest(xs, y, n_estimators=30, max_samples=200_000,\n",
    "                  max_features=0.9, min_samples_leaf=5, **kwargs):\n",
    "    return RandomForestRegressor(n_jobs=-1, n_estimators=n_estimators,\n",
    "        max_samples=max_samples, max_features=max_features,\n",
    "        min_samples_leaf=min_samples_leaf, oob_score=True).fit(xs, y)\n",
    "\n",
    "rf = random_forest(xs, y, max_samples=len(xs))\n",
    "m_rmse(rf, xs, y), m_rmse(rf, valid_xs, valid_y)"
   ]
  },
  {
   "cell_type": "markdown",
   "metadata": {},
   "source": [
    "Lets try and fine a good value for n_estimators"
   ]
  },
  {
   "cell_type": "code",
   "execution_count": 179,
   "metadata": {},
   "outputs": [
    {
     "name": "stderr",
     "output_type": "stream",
     "text": [
      "/Users/stevendiviney/.pyenv/versions/3.9.4/lib/python3.9/site-packages/sklearn/base.py:432: UserWarning: X has feature names, but DecisionTreeRegressor was fitted without feature names\n",
      "/Users/stevendiviney/.pyenv/versions/3.9.4/lib/python3.9/site-packages/sklearn/base.py:432: UserWarning: X has feature names, but DecisionTreeRegressor was fitted without feature names\n",
      "/Users/stevendiviney/.pyenv/versions/3.9.4/lib/python3.9/site-packages/sklearn/base.py:432: UserWarning: X has feature names, but DecisionTreeRegressor was fitted without feature names\n",
      "/Users/stevendiviney/.pyenv/versions/3.9.4/lib/python3.9/site-packages/sklearn/base.py:432: UserWarning: X has feature names, but DecisionTreeRegressor was fitted without feature names\n",
      "/Users/stevendiviney/.pyenv/versions/3.9.4/lib/python3.9/site-packages/sklearn/base.py:432: UserWarning: X has feature names, but DecisionTreeRegressor was fitted without feature names\n",
      "/Users/stevendiviney/.pyenv/versions/3.9.4/lib/python3.9/site-packages/sklearn/base.py:432: UserWarning: X has feature names, but DecisionTreeRegressor was fitted without feature names\n",
      "/Users/stevendiviney/.pyenv/versions/3.9.4/lib/python3.9/site-packages/sklearn/base.py:432: UserWarning: X has feature names, but DecisionTreeRegressor was fitted without feature names\n",
      "/Users/stevendiviney/.pyenv/versions/3.9.4/lib/python3.9/site-packages/sklearn/base.py:432: UserWarning: X has feature names, but DecisionTreeRegressor was fitted without feature names\n",
      "/Users/stevendiviney/.pyenv/versions/3.9.4/lib/python3.9/site-packages/sklearn/base.py:432: UserWarning: X has feature names, but DecisionTreeRegressor was fitted without feature names\n",
      "/Users/stevendiviney/.pyenv/versions/3.9.4/lib/python3.9/site-packages/sklearn/base.py:432: UserWarning: X has feature names, but DecisionTreeRegressor was fitted without feature names\n",
      "/Users/stevendiviney/.pyenv/versions/3.9.4/lib/python3.9/site-packages/sklearn/base.py:432: UserWarning: X has feature names, but DecisionTreeRegressor was fitted without feature names\n",
      "/Users/stevendiviney/.pyenv/versions/3.9.4/lib/python3.9/site-packages/sklearn/base.py:432: UserWarning: X has feature names, but DecisionTreeRegressor was fitted without feature names\n",
      "/Users/stevendiviney/.pyenv/versions/3.9.4/lib/python3.9/site-packages/sklearn/base.py:432: UserWarning: X has feature names, but DecisionTreeRegressor was fitted without feature names\n",
      "/Users/stevendiviney/.pyenv/versions/3.9.4/lib/python3.9/site-packages/sklearn/base.py:432: UserWarning: X has feature names, but DecisionTreeRegressor was fitted without feature names\n",
      "/Users/stevendiviney/.pyenv/versions/3.9.4/lib/python3.9/site-packages/sklearn/base.py:432: UserWarning: X has feature names, but DecisionTreeRegressor was fitted without feature names\n",
      "/Users/stevendiviney/.pyenv/versions/3.9.4/lib/python3.9/site-packages/sklearn/base.py:432: UserWarning: X has feature names, but DecisionTreeRegressor was fitted without feature names\n",
      "/Users/stevendiviney/.pyenv/versions/3.9.4/lib/python3.9/site-packages/sklearn/base.py:432: UserWarning: X has feature names, but DecisionTreeRegressor was fitted without feature names\n",
      "/Users/stevendiviney/.pyenv/versions/3.9.4/lib/python3.9/site-packages/sklearn/base.py:432: UserWarning: X has feature names, but DecisionTreeRegressor was fitted without feature names\n",
      "/Users/stevendiviney/.pyenv/versions/3.9.4/lib/python3.9/site-packages/sklearn/base.py:432: UserWarning: X has feature names, but DecisionTreeRegressor was fitted without feature names\n",
      "/Users/stevendiviney/.pyenv/versions/3.9.4/lib/python3.9/site-packages/sklearn/base.py:432: UserWarning: X has feature names, but DecisionTreeRegressor was fitted without feature names\n",
      "/Users/stevendiviney/.pyenv/versions/3.9.4/lib/python3.9/site-packages/sklearn/base.py:432: UserWarning: X has feature names, but DecisionTreeRegressor was fitted without feature names\n",
      "/Users/stevendiviney/.pyenv/versions/3.9.4/lib/python3.9/site-packages/sklearn/base.py:432: UserWarning: X has feature names, but DecisionTreeRegressor was fitted without feature names\n",
      "/Users/stevendiviney/.pyenv/versions/3.9.4/lib/python3.9/site-packages/sklearn/base.py:432: UserWarning: X has feature names, but DecisionTreeRegressor was fitted without feature names\n",
      "/Users/stevendiviney/.pyenv/versions/3.9.4/lib/python3.9/site-packages/sklearn/base.py:432: UserWarning: X has feature names, but DecisionTreeRegressor was fitted without feature names\n",
      "/Users/stevendiviney/.pyenv/versions/3.9.4/lib/python3.9/site-packages/sklearn/base.py:432: UserWarning: X has feature names, but DecisionTreeRegressor was fitted without feature names\n",
      "/Users/stevendiviney/.pyenv/versions/3.9.4/lib/python3.9/site-packages/sklearn/base.py:432: UserWarning: X has feature names, but DecisionTreeRegressor was fitted without feature names\n",
      "/Users/stevendiviney/.pyenv/versions/3.9.4/lib/python3.9/site-packages/sklearn/base.py:432: UserWarning: X has feature names, but DecisionTreeRegressor was fitted without feature names\n",
      "/Users/stevendiviney/.pyenv/versions/3.9.4/lib/python3.9/site-packages/sklearn/base.py:432: UserWarning: X has feature names, but DecisionTreeRegressor was fitted without feature names\n",
      "/Users/stevendiviney/.pyenv/versions/3.9.4/lib/python3.9/site-packages/sklearn/base.py:432: UserWarning: X has feature names, but DecisionTreeRegressor was fitted without feature names\n",
      "/Users/stevendiviney/.pyenv/versions/3.9.4/lib/python3.9/site-packages/sklearn/base.py:432: UserWarning: X has feature names, but DecisionTreeRegressor was fitted without feature names\n"
     ]
    },
    {
     "data": {
      "text/plain": [
       "[<matplotlib.lines.Line2D at 0x2aa53c670>]"
      ]
     },
     "execution_count": 179,
     "metadata": {},
     "output_type": "execute_result"
    },
    {
     "data": {
      "image/png": "[encoded data removed]",
      "text/plain": [
       "<Figure size 640x480 with 1 Axes>"
      ]
     },
     "metadata": {},
     "output_type": "display_data"
    }
   ],
   "source": [
    "preds_rf = np.stack([tree.predict(valid_xs) for tree in rf.estimators_])\n",
    "r_mse(preds_rf.mean(0), valid_y)\n",
    "plt.plot([r_mse(preds_rf[:i+1].mean(0), valid_y) for i in range(40)])"
   ]
  },
  {
   "cell_type": "markdown",
   "metadata": {},
   "source": [
    "Lets submit this set of predictions"
   ]
  },
  {
   "cell_type": "code",
   "execution_count": 180,
   "metadata": {},
   "outputs": [
    {
     "data": {
      "text/plain": [
       "1459"
      ]
     },
     "execution_count": 180,
     "metadata": {},
     "output_type": "execute_result"
    }
   ],
   "source": [
    "rf_preds = rf.predict(test_data.xs)\n",
    "len(rf_preds)"
   ]
  },
  {
   "cell_type": "code",
   "execution_count": 181,
   "metadata": {},
   "outputs": [],
   "source": [
    "#preds_to_csv(rf_preds, 'rf_subm.csv')\n",
    "#!head rf_subm.csv"
   ]
  },
  {
   "cell_type": "code",
   "execution_count": 182,
   "metadata": {},
   "outputs": [],
   "source": [
    "#api.competition_submit_cli('rf_subm.csv', 'Random forest decision tree', comp)"
   ]
  },
  {
   "cell_type": "markdown",
   "metadata": {},
   "source": [
    "### Improving further\n",
    "Our validation set is performing worse than our training set. Why? First lets look at the out-of-bag error to see if we are overfitting by using the training data to evaluate the training (Use the training data not used by each random tree as a validation set)"
   ]
  },
  {
   "cell_type": "code",
   "execution_count": 183,
   "metadata": {},
   "outputs": [
    {
     "data": {
      "text/plain": [
       "0.012563"
      ]
     },
     "execution_count": 183,
     "metadata": {},
     "output_type": "execute_result"
    }
   ],
   "source": [
    "r_mse(rf.oob_prediction_, y)"
   ]
  },
  {
   "cell_type": "markdown",
   "metadata": {},
   "source": [
    "Not sure how to interpret these results. It's about the same as our validation set and worse (a lot??) than our training set. Do this mean it's overfitting?"
   ]
  },
  {
   "cell_type": "markdown",
   "metadata": {},
   "source": [
    "#### Std deviation for confidence\n",
    "We can get the std-deviation of all the trees to get an idea of how confident our predictions are."
   ]
  },
  {
   "cell_type": "code",
   "execution_count": 184,
   "metadata": {},
   "outputs": [
    {
     "name": "stderr",
     "output_type": "stream",
     "text": [
      "/Users/stevendiviney/.pyenv/versions/3.9.4/lib/python3.9/site-packages/sklearn/base.py:432: UserWarning: X has feature names, but DecisionTreeRegressor was fitted without feature names\n",
      "/Users/stevendiviney/.pyenv/versions/3.9.4/lib/python3.9/site-packages/sklearn/base.py:432: UserWarning: X has feature names, but DecisionTreeRegressor was fitted without feature names\n",
      "/Users/stevendiviney/.pyenv/versions/3.9.4/lib/python3.9/site-packages/sklearn/base.py:432: UserWarning: X has feature names, but DecisionTreeRegressor was fitted without feature names\n",
      "/Users/stevendiviney/.pyenv/versions/3.9.4/lib/python3.9/site-packages/sklearn/base.py:432: UserWarning: X has feature names, but DecisionTreeRegressor was fitted without feature names\n",
      "/Users/stevendiviney/.pyenv/versions/3.9.4/lib/python3.9/site-packages/sklearn/base.py:432: UserWarning: X has feature names, but DecisionTreeRegressor was fitted without feature names\n",
      "/Users/stevendiviney/.pyenv/versions/3.9.4/lib/python3.9/site-packages/sklearn/base.py:432: UserWarning: X has feature names, but DecisionTreeRegressor was fitted without feature names\n",
      "/Users/stevendiviney/.pyenv/versions/3.9.4/lib/python3.9/site-packages/sklearn/base.py:432: UserWarning: X has feature names, but DecisionTreeRegressor was fitted without feature names\n",
      "/Users/stevendiviney/.pyenv/versions/3.9.4/lib/python3.9/site-packages/sklearn/base.py:432: UserWarning: X has feature names, but DecisionTreeRegressor was fitted without feature names\n",
      "/Users/stevendiviney/.pyenv/versions/3.9.4/lib/python3.9/site-packages/sklearn/base.py:432: UserWarning: X has feature names, but DecisionTreeRegressor was fitted without feature names\n",
      "/Users/stevendiviney/.pyenv/versions/3.9.4/lib/python3.9/site-packages/sklearn/base.py:432: UserWarning: X has feature names, but DecisionTreeRegressor was fitted without feature names\n",
      "/Users/stevendiviney/.pyenv/versions/3.9.4/lib/python3.9/site-packages/sklearn/base.py:432: UserWarning: X has feature names, but DecisionTreeRegressor was fitted without feature names\n",
      "/Users/stevendiviney/.pyenv/versions/3.9.4/lib/python3.9/site-packages/sklearn/base.py:432: UserWarning: X has feature names, but DecisionTreeRegressor was fitted without feature names\n",
      "/Users/stevendiviney/.pyenv/versions/3.9.4/lib/python3.9/site-packages/sklearn/base.py:432: UserWarning: X has feature names, but DecisionTreeRegressor was fitted without feature names\n",
      "/Users/stevendiviney/.pyenv/versions/3.9.4/lib/python3.9/site-packages/sklearn/base.py:432: UserWarning: X has feature names, but DecisionTreeRegressor was fitted without feature names\n",
      "/Users/stevendiviney/.pyenv/versions/3.9.4/lib/python3.9/site-packages/sklearn/base.py:432: UserWarning: X has feature names, but DecisionTreeRegressor was fitted without feature names\n",
      "/Users/stevendiviney/.pyenv/versions/3.9.4/lib/python3.9/site-packages/sklearn/base.py:432: UserWarning: X has feature names, but DecisionTreeRegressor was fitted without feature names\n",
      "/Users/stevendiviney/.pyenv/versions/3.9.4/lib/python3.9/site-packages/sklearn/base.py:432: UserWarning: X has feature names, but DecisionTreeRegressor was fitted without feature names\n",
      "/Users/stevendiviney/.pyenv/versions/3.9.4/lib/python3.9/site-packages/sklearn/base.py:432: UserWarning: X has feature names, but DecisionTreeRegressor was fitted without feature names\n",
      "/Users/stevendiviney/.pyenv/versions/3.9.4/lib/python3.9/site-packages/sklearn/base.py:432: UserWarning: X has feature names, but DecisionTreeRegressor was fitted without feature names\n",
      "/Users/stevendiviney/.pyenv/versions/3.9.4/lib/python3.9/site-packages/sklearn/base.py:432: UserWarning: X has feature names, but DecisionTreeRegressor was fitted without feature names\n",
      "/Users/stevendiviney/.pyenv/versions/3.9.4/lib/python3.9/site-packages/sklearn/base.py:432: UserWarning: X has feature names, but DecisionTreeRegressor was fitted without feature names\n",
      "/Users/stevendiviney/.pyenv/versions/3.9.4/lib/python3.9/site-packages/sklearn/base.py:432: UserWarning: X has feature names, but DecisionTreeRegressor was fitted without feature names\n",
      "/Users/stevendiviney/.pyenv/versions/3.9.4/lib/python3.9/site-packages/sklearn/base.py:432: UserWarning: X has feature names, but DecisionTreeRegressor was fitted without feature names\n",
      "/Users/stevendiviney/.pyenv/versions/3.9.4/lib/python3.9/site-packages/sklearn/base.py:432: UserWarning: X has feature names, but DecisionTreeRegressor was fitted without feature names\n",
      "/Users/stevendiviney/.pyenv/versions/3.9.4/lib/python3.9/site-packages/sklearn/base.py:432: UserWarning: X has feature names, but DecisionTreeRegressor was fitted without feature names\n",
      "/Users/stevendiviney/.pyenv/versions/3.9.4/lib/python3.9/site-packages/sklearn/base.py:432: UserWarning: X has feature names, but DecisionTreeRegressor was fitted without feature names\n",
      "/Users/stevendiviney/.pyenv/versions/3.9.4/lib/python3.9/site-packages/sklearn/base.py:432: UserWarning: X has feature names, but DecisionTreeRegressor was fitted without feature names\n",
      "/Users/stevendiviney/.pyenv/versions/3.9.4/lib/python3.9/site-packages/sklearn/base.py:432: UserWarning: X has feature names, but DecisionTreeRegressor was fitted without feature names\n",
      "/Users/stevendiviney/.pyenv/versions/3.9.4/lib/python3.9/site-packages/sklearn/base.py:432: UserWarning: X has feature names, but DecisionTreeRegressor was fitted without feature names\n",
      "/Users/stevendiviney/.pyenv/versions/3.9.4/lib/python3.9/site-packages/sklearn/base.py:432: UserWarning: X has feature names, but DecisionTreeRegressor was fitted without feature names\n"
     ]
    },
    {
     "data": {
      "text/plain": [
       "(30, 292)"
      ]
     },
     "execution_count": 184,
     "metadata": {},
     "output_type": "execute_result"
    }
   ],
   "source": [
    "rf_preds = np.stack([tree.predict(valid_xs) for tree in rf.estimators_])\n",
    "rf_preds.shape"
   ]
  },
  {
   "cell_type": "code",
   "execution_count": 187,
   "metadata": {},
   "outputs": [
    {
     "data": {
      "text/plain": [
       "array([0.09464514, 0.14877955, 0.11849783, 0.19610944, 0.11060154,\n",
       "       0.13725127, 0.19811332, 0.13748898, 0.27701433, 0.16599843])"
      ]
     },
     "execution_count": 187,
     "metadata": {},
     "output_type": "execute_result"
    }
   ],
   "source": [
    "rf_preds.std(0)[:10]"
   ]
  },
  {
   "cell_type": "code",
   "execution_count": null,
   "metadata": {},
   "outputs": [],
   "source": []
  }
 ],
 "metadata": {
  "kernelspec": {
   "display_name": "Python 3 (ipykernel)",
   "language": "python",
   "name": "python3"
  },
  "language_info": {
   "codemirror_mode": {
    "name": "ipython",
    "version": 3
   },
   "file_extension": ".py",
   "mimetype": "text/x-python",
   "name": "python",
   "nbconvert_exporter": "python",
   "pygments_lexer": "ipython3",
   "version": "3.9.4"
  }
 },
 "nbformat": 4,
 "nbformat_minor": 4
}
