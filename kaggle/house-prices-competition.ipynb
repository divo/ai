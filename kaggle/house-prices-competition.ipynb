{
 "cells": [
  {
   "cell_type": "markdown",
   "metadata": {},
   "source": [
    "# House price analysis"
   ]
  },
  {
   "cell_type": "markdown",
   "metadata": {},
   "source": [
    "## Setup"
   ]
  },
  {
   "cell_type": "code",
   "execution_count": 3,
   "metadata": {
    "execution": {
     "iopub.execute_input": "2023-05-11T16:38:00.035019Z",
     "iopub.status.busy": "2023-05-11T16:38:00.034594Z",
     "iopub.status.idle": "2023-05-11T16:38:28.991030Z",
     "shell.execute_reply": "2023-05-11T16:38:28.989583Z",
     "shell.execute_reply.started": "2023-05-11T16:38:00.034985Z"
    }
   },
   "outputs": [
    {
     "name": "stdout",
     "output_type": "stream",
     "text": [
      "\r\n",
      "\u001b[1m[\u001b[0m\u001b[34;49mnotice\u001b[0m\u001b[1;39;49m]\u001b[0m\u001b[39;49m A new release of pip is available: \u001b[0m\u001b[31;49m23.0.1\u001b[0m\u001b[39;49m -> \u001b[0m\u001b[32;49m23.1.2\u001b[0m\r\n",
      "\u001b[1m[\u001b[0m\u001b[34;49mnotice\u001b[0m\u001b[1;39;49m]\u001b[0m\u001b[39;49m To update, run: \u001b[0m\u001b[32;49mpip install --upgrade pip\u001b[0m\r\n"
     ]
    }
   ],
   "source": [
    "# This takes a long time / hangs, so don't do it unless we need to.\n",
    "!pip install -Uq pandas kaggle fastai scikit-learn waterfallcharts treeinterpreter dtreeviz"
   ]
  },
  {
   "cell_type": "code",
   "execution_count": 4,
   "metadata": {
    "execution": {
     "iopub.execute_input": "2023-05-11T16:38:28.994409Z",
     "iopub.status.busy": "2023-05-11T16:38:28.993918Z",
     "iopub.status.idle": "2023-05-11T16:38:35.206746Z",
     "shell.execute_reply": "2023-05-11T16:38:35.205730Z",
     "shell.execute_reply.started": "2023-05-11T16:38:28.994359Z"
    }
   },
   "outputs": [],
   "source": [
    "import pandas as pd\n",
    "import numpy as np\n",
    "import os, zipfile\n",
    "from fastai import * \n",
    "from fastai.tabular.all import *\n",
    "from pathlib import Path\n",
    "from sklearn.ensemble import RandomForestRegressor\n",
    "from sklearn.tree import *\n",
    "from dtreeviz.trees import *\n",
    "import graphviz\n",
    "from IPython.display import Image, display_svg, SVG\n",
    "\n",
    "pd.options.display.max_rows = 20\n",
    "pd.options.display.max_columns = 8"
   ]
  },
  {
   "cell_type": "code",
   "execution_count": 5,
   "metadata": {
    "execution": {
     "iopub.execute_input": "2023-05-11T16:38:35.208793Z",
     "iopub.status.busy": "2023-05-11T16:38:35.208162Z",
     "iopub.status.idle": "2023-05-11T16:38:35.216066Z",
     "shell.execute_reply": "2023-05-11T16:38:35.214793Z",
     "shell.execute_reply.started": "2023-05-11T16:38:35.208759Z"
    }
   },
   "outputs": [],
   "source": [
    "creds = '{\"username\":\"divodivenson\",\"key\":\"f0f9e3f8378e39e818097a5df978aa64\"}'\n",
    "cred_path = Path('~/.kaggle/kaggle.json').expanduser()\n",
    "if not cred_path.exists():\n",
    "    cred_path.parent.mkdir(exist_ok=True)\n",
    "    cred_path.write_text(creds)\n",
    "    cred_path.chmod(0o600)"
   ]
  },
  {
   "cell_type": "code",
   "execution_count": 6,
   "metadata": {
    "execution": {
     "iopub.execute_input": "2023-05-11T16:38:35.219382Z",
     "iopub.status.busy": "2023-05-11T16:38:35.218938Z",
     "iopub.status.idle": "2023-05-11T16:38:35.294212Z",
     "shell.execute_reply": "2023-05-11T16:38:35.293196Z",
     "shell.execute_reply.started": "2023-05-11T16:38:35.219346Z"
    }
   },
   "outputs": [
    {
     "data": {
      "text/plain": [
       "(#4) [Path('../input/house-prices-advanced-regression-techniques/test.csv'),Path('../input/house-prices-advanced-regression-techniques/data_description.txt'),Path('../input/house-prices-advanced-regression-techniques/train.csv'),Path('../input/house-prices-advanced-regression-techniques/sample_submission.csv')]"
      ]
     },
     "execution_count": 6,
     "metadata": {},
     "output_type": "execute_result"
    }
   ],
   "source": [
    "from kaggle import api\n",
    "comp = 'house-prices-advanced-regression-techniques'\n",
    "path = Path(f'../input/{comp}')\n",
    "if not path.exists():\n",
    "    path.mkdir(parents=true)\n",
    "    api.competition_download_cli(comp, path=path)\n",
    "    shutil.unpack_archive(str(path/f'{comp}.zip'), str(path))\n",
    "\n",
    "path.ls(file_type='text')"
   ]
  },
  {
   "cell_type": "markdown",
   "metadata": {},
   "source": [
    "## First look at data\n"
   ]
  },
  {
   "cell_type": "code",
   "execution_count": 7,
   "metadata": {
    "execution": {
     "iopub.execute_input": "2023-05-11T16:38:35.297651Z",
     "iopub.status.busy": "2023-05-11T16:38:35.296909Z",
     "iopub.status.idle": "2023-05-11T16:38:35.412168Z",
     "shell.execute_reply": "2023-05-11T16:38:35.410904Z",
     "shell.execute_reply.started": "2023-05-11T16:38:35.297608Z"
    }
   },
   "outputs": [
    {
     "data": {
      "text/plain": [
       "(81, 80)"
      ]
     },
     "execution_count": 7,
     "metadata": {},
     "output_type": "execute_result"
    }
   ],
   "source": [
    "trn_path = path/'train.csv'\n",
    "df = pd.read_csv(trn_path, low_memory=False)\n",
    "\n",
    "df_test = pd.read_csv(path/'test.csv', low_memory=False)\n",
    "\n",
    "len(df.columns), len(df_test.columns)"
   ]
  },
  {
   "cell_type": "code",
   "execution_count": 8,
   "metadata": {
    "execution": {
     "iopub.execute_input": "2023-05-11T16:38:35.414138Z",
     "iopub.status.busy": "2023-05-11T16:38:35.413660Z",
     "iopub.status.idle": "2023-05-11T16:38:35.439002Z",
     "shell.execute_reply": "2023-05-11T16:38:35.437968Z",
     "shell.execute_reply.started": "2023-05-11T16:38:35.414095Z"
    }
   },
   "outputs": [
    {
     "data": {
      "text/plain": [
       "Index([1460,   15,    5,  111, 1073,    2,    3,    4,    4,    2,    5,    3,\n",
       "         25,    9,    8,    5,    8,   10,    9,  112,   61,    6,    8,   15,\n",
       "         16,    4,  328,    4,    5,    6,    5,    5,    5,    7,  637,    7,\n",
       "        144,  780,  721,    6,    5,    2,    6,  753,  417,   24,  861,    4,\n",
       "          3,    4,    3,    8,    4,    4,   12,    7,    4,    6,    7,   98,\n",
       "          4,    5,  441,    6,    6,    3,  274,  202,  120,   20,   76,    8,\n",
       "          4,    5,    5,   21,   12,    5,    9,    6,  663],\n",
       "      dtype='int64')"
      ]
     },
     "execution_count": 8,
     "metadata": {},
     "output_type": "execute_result"
    }
   ],
   "source": [
    "# Lets get an idea of where the ordianls are\n",
    "df.columns.map(lambda col: df[col].unique().size )"
   ]
  },
  {
   "cell_type": "code",
   "execution_count": 9,
   "metadata": {
    "execution": {
     "iopub.execute_input": "2023-05-11T16:38:35.440763Z",
     "iopub.status.busy": "2023-05-11T16:38:35.440404Z",
     "iopub.status.idle": "2023-05-11T16:38:35.474357Z",
     "shell.execute_reply": "2023-05-11T16:38:35.473122Z",
     "shell.execute_reply.started": "2023-05-11T16:38:35.440734Z"
    }
   },
   "outputs": [
    {
     "data": {
      "text/plain": [
       "Index(['Id - Continuous\\n',\n",
       "       'MSSubClass [ 60  20  70  50 190  45  90 120  30  85  80 160  75 180  40]\\n',\n",
       "       'MSZoning ['RL' 'RM' 'C (all)' 'FV' 'RH']\\n',\n",
       "       'LotFrontage - Continuous\\n', 'LotArea - Continuous\\n',\n",
       "       'Street ['Pave' 'Grvl']\\n', 'Alley [nan 'Grvl' 'Pave']\\n',\n",
       "       'LotShape ['Reg' 'IR1' 'IR2' 'IR3']\\n',\n",
       "       'LandContour ['Lvl' 'Bnk' 'Low' 'HLS']\\n',\n",
       "       'Utilities ['AllPub' 'NoSeWa']\\n',\n",
       "       'LotConfig ['Inside' 'FR2' 'Corner' 'CulDSac' 'FR3']\\n',\n",
       "       'LandSlope ['Gtl' 'Mod' 'Sev']\\n',\n",
       "       'Neighborhood ['CollgCr' 'Veenker' 'Crawfor' 'NoRidge' 'Mitchel' 'Somerst' 'NWAmes'\\n 'OldTown' 'BrkSide' 'Sawyer' 'NridgHt' 'NAmes' 'SawyerW' 'IDOTRR'\\n 'MeadowV' 'Edwards' 'Timber' 'Gilbert' 'StoneBr' 'ClearCr' 'NPkVill'\\n 'Blmngtn' 'BrDale' 'SWISU' 'Blueste']\\n',\n",
       "       'Condition1 ['Norm' 'Feedr' 'PosN' 'Artery' 'RRAe' 'RRNn' 'RRAn' 'PosA' 'RRNe']\\n',\n",
       "       'Condition2 ['Norm' 'Artery' 'RRNn' 'Feedr' 'PosN' 'PosA' 'RRAn' 'RRAe']\\n',\n",
       "       'BldgType ['1Fam' '2fmCon' 'Duplex' 'TwnhsE' 'Twnhs']\\n',\n",
       "       'HouseStyle ['2Story' '1Story' '1.5Fin' '1.5Unf' 'SFoyer' 'SLvl' '2.5Unf' '2.5Fin']\\n',\n",
       "       'OverallQual [ 7  6  8  5  9  4 10  3  1  2]\\n',\n",
       "       'OverallCond [5 8 6 7 4 2 3 9 1]\\n', 'YearBuilt - Continuous\\n',\n",
       "       'YearRemodAdd - Continuous\\n',\n",
       "       'RoofStyle ['Gable' 'Hip' 'Gambrel' 'Mansard' 'Flat' 'Shed']\\n',\n",
       "       'RoofMatl ['CompShg' 'WdShngl' 'Metal' 'WdShake' 'Membran' 'Tar&Grv' 'Roll'\\n 'ClyTile']\\n',\n",
       "       'Exterior1st ['VinylSd' 'MetalSd' 'Wd Sdng' 'HdBoard' 'BrkFace' 'WdShing' 'CemntBd'\\n 'Plywood' 'AsbShng' 'Stucco' 'BrkComm' 'AsphShn' 'Stone' 'ImStucc'\\n 'CBlock']\\n',\n",
       "       'Exterior2nd ['VinylSd' 'MetalSd' 'Wd Shng' 'HdBoard' 'Plywood' 'Wd Sdng' 'CmentBd'\\n 'BrkFace' 'Stucco' 'AsbShng' 'Brk Cmn' 'ImStucc' 'AsphShn' 'Stone'\\n 'Other' 'CBlock']\\n',\n",
       "       'MasVnrType ['BrkFace' nan 'Stone' 'BrkCmn']\\n',\n",
       "       'MasVnrArea - Continuous\\n', 'ExterQual ['Gd' 'TA' 'Ex' 'Fa']\\n',\n",
       "       'ExterCond ['TA' 'Gd' 'Fa' 'Po' 'Ex']\\n',\n",
       "       'Foundation ['PConc' 'CBlock' 'BrkTil' 'Wood' 'Slab' 'Stone']\\n',\n",
       "       'BsmtQual ['Gd' 'TA' 'Ex' nan 'Fa']\\n',\n",
       "       'BsmtCond ['TA' 'Gd' nan 'Fa' 'Po']\\n',\n",
       "       'BsmtExposure ['No' 'Gd' 'Mn' 'Av' nan]\\n',\n",
       "       'BsmtFinType1 ['GLQ' 'ALQ' 'Unf' 'Rec' 'BLQ' nan 'LwQ']\\n',\n",
       "       'BsmtFinSF1 - Continuous\\n',\n",
       "       'BsmtFinType2 ['Unf' 'BLQ' nan 'ALQ' 'Rec' 'LwQ' 'GLQ']\\n',\n",
       "       'BsmtFinSF2 - Continuous\\n', 'BsmtUnfSF - Continuous\\n',\n",
       "       'TotalBsmtSF - Continuous\\n',\n",
       "       'Heating ['GasA' 'GasW' 'Grav' 'Wall' 'OthW' 'Floor']\\n',\n",
       "       'HeatingQC ['Ex' 'Gd' 'TA' 'Fa' 'Po']\\n', 'CentralAir ['Y' 'N']\\n',\n",
       "       'Electrical ['SBrkr' 'FuseF' 'FuseA' 'FuseP' 'Mix' nan]\\n',\n",
       "       '1stFlrSF - Continuous\\n', '2ndFlrSF - Continuous\\n',\n",
       "       'LowQualFinSF [  0 360 513 234 528 572 144 392 371 390 420 473 156 515  80  53 232 481\\n 120 514 397 479 205 384]\\n',\n",
       "       'GrLivArea - Continuous\\n', 'BsmtFullBath [1 0 2 3]\\n',\n",
       "       'BsmtHalfBath [0 1 2]\\n', 'FullBath [2 1 3 0]\\n', 'HalfBath [1 0 2]\\n',\n",
       "       'BedroomAbvGr [3 4 1 2 0 5 6 8]\\n', 'KitchenAbvGr [1 2 3 0]\\n',\n",
       "       'KitchenQual ['Gd' 'TA' 'Ex' 'Fa']\\n',\n",
       "       'TotRmsAbvGrd [ 8  6  7  9  5 11  4 10 12  3  2 14]\\n',\n",
       "       'Functional ['Typ' 'Min1' 'Maj1' 'Min2' 'Mod' 'Maj2' 'Sev']\\n',\n",
       "       'Fireplaces [0 1 2 3]\\n',\n",
       "       'FireplaceQu [nan 'TA' 'Gd' 'Fa' 'Ex' 'Po']\\n',\n",
       "       'GarageType ['Attchd' 'Detchd' 'BuiltIn' 'CarPort' nan 'Basment' '2Types']\\n',\n",
       "       'GarageYrBlt - Continuous\\n', 'GarageFinish ['RFn' 'Unf' 'Fin' nan]\\n',\n",
       "       'GarageCars [2 3 1 0 4]\\n', 'GarageArea - Continuous\\n',\n",
       "       'GarageQual ['TA' 'Fa' 'Gd' nan 'Ex' 'Po']\\n',\n",
       "       'GarageCond ['TA' 'Fa' nan 'Gd' 'Po' 'Ex']\\n',\n",
       "       'PavedDrive ['Y' 'N' 'P']\\n', 'WoodDeckSF - Continuous\\n',\n",
       "       'OpenPorchSF - Continuous\\n', 'EnclosedPorch - Continuous\\n',\n",
       "       '3SsnPorch [  0 320 407 130 180 168 140 508 238 245 196 144 182 162  23 216  96 153\\n 290 304]\\n',\n",
       "       'ScreenPorch - Continuous\\n',\n",
       "       'PoolArea [  0 512 648 576 555 480 519 738]\\n',\n",
       "       'PoolQC [nan 'Ex' 'Fa' 'Gd']\\n',\n",
       "       'Fence [nan 'MnPrv' 'GdWo' 'GdPrv' 'MnWw']\\n',\n",
       "       'MiscFeature [nan 'Shed' 'Gar2' 'Othr' 'TenC']\\n',\n",
       "       'MiscVal [    0   700   350   500   400   480   450 15500  1200   800  2000   600\\n  3500  1300    54   620   560  1400  8300  1150  2500]\\n',\n",
       "       'MoSold [ 2  5  9 12 10  8 11  4  1  7  3  6]\\n',\n",
       "       'YrSold [2008 2007 2006 2009 2010]\\n',\n",
       "       'SaleType ['WD' 'New' 'COD' 'ConLD' 'ConLI' 'CWD' 'ConLw' 'Con' 'Oth']\\n',\n",
       "       'SaleCondition ['Normal' 'Abnorml' 'Partial' 'AdjLand' 'Alloca' 'Family']\\n',\n",
       "       'SalePrice - Continuous\\n'],\n",
       "      dtype='object')"
      ]
     },
     "execution_count": 9,
     "metadata": {},
     "output_type": "execute_result"
    }
   ],
   "source": [
    "def print_levels(level):\n",
    "    if df[level].unique().size < 50:\n",
    "        return f\"{level} {df[level].unique()}\\n\"\n",
    "    else:\n",
    "        return f\"{level} - Continuous\\n\"\n",
    "    \n",
    "df.columns.map(print_levels)"
   ]
  },
  {
   "cell_type": "code",
   "execution_count": 10,
   "metadata": {
    "execution": {
     "iopub.execute_input": "2023-05-11T16:38:35.476088Z",
     "iopub.status.busy": "2023-05-11T16:38:35.475738Z",
     "iopub.status.idle": "2023-05-11T16:38:35.499208Z",
     "shell.execute_reply": "2023-05-11T16:38:35.498186Z",
     "shell.execute_reply.started": "2023-05-11T16:38:35.476058Z"
    }
   },
   "outputs": [
    {
     "data": {
      "text/plain": [
       "(81, 80)"
      ]
     },
     "execution_count": 10,
     "metadata": {},
     "output_type": "execute_result"
    }
   ],
   "source": [
    "# Make note of anything that appears to follow an order, just for reference. Not exhaustive\n",
    "# Not intending to input this anywhere\n",
    "# Also derived from data description https://www.kaggle.com/competitions/house-prices-advanced-regression-techniques/data\n",
    "ordinals = ['BldgType', 'HouseStyle', 'Utilities', 'ExterCond', 'ExterQual', 'Functional', 'PavedDrive']\n",
    "\n",
    "# There are even more, lets just go with the overall Home functionality\n",
    "functional = ['Typ' 'Min1' 'Maj1' 'Min2' 'Mod' 'Maj2' 'Sev']\n",
    "df['Functional'] = df['Functional'].astype('category')\n",
    "df['Functional'].cat.set_categories(functional, ordered=True)\n",
    "\n",
    "df_test['Functional'] = df_test['Functional'].astype('category')\n",
    "df_test['Functional'].cat.set_categories(functional, ordered=True)\n",
    "len(df.columns), len(df_test.columns)"
   ]
  },
  {
   "cell_type": "markdown",
   "metadata": {},
   "source": [
    "### Dates"
   ]
  },
  {
   "cell_type": "code",
   "execution_count": 11,
   "metadata": {
    "execution": {
     "iopub.execute_input": "2023-05-11T16:38:35.501447Z",
     "iopub.status.busy": "2023-05-11T16:38:35.500984Z",
     "iopub.status.idle": "2023-05-11T16:38:35.560182Z",
     "shell.execute_reply": "2023-05-11T16:38:35.558519Z",
     "shell.execute_reply.started": "2023-05-11T16:38:35.501406Z"
    }
   },
   "outputs": [
    {
     "name": "stderr",
     "output_type": "stream",
     "text": [
      "/Users/stevendiviney/.pyenv/versions/3.9.4/lib/python3.9/site-packages/fastai/tabular/core.py:23: UserWarning: The argument 'infer_datetime_format' is deprecated and will be removed in a future version. A strict version of it is now the default, see https://pandas.pydata.org/pdeps/0004-consistent-to-datetime-parsing.html. You can safely remove this argument.\n",
      "/Users/stevendiviney/.pyenv/versions/3.9.4/lib/python3.9/site-packages/fastai/tabular/core.py:23: UserWarning: Could not infer format, so each element will be parsed individually, falling back to `dateutil`. To ensure parsing is consistent and as-expected, please specify a format.\n"
     ]
    },
    {
     "data": {
      "text/html": [
       "<div>\n",
       "<style scoped>\n",
       "    .dataframe tbody tr th:only-of-type {\n",
       "        vertical-align: middle;\n",
       "    }\n",
       "\n",
       "    .dataframe tbody tr th {\n",
       "        vertical-align: top;\n",
       "    }\n",
       "\n",
       "    .dataframe thead th {\n",
       "        text-align: right;\n",
       "    }\n",
       "</style>\n",
       "<table border=\"1\" class=\"dataframe\">\n",
       "  <thead>\n",
       "    <tr style=\"text-align: right;\">\n",
       "      <th></th>\n",
       "      <th>Id</th>\n",
       "      <th>MSSubClass</th>\n",
       "      <th>MSZoning</th>\n",
       "      <th>LotFrontage</th>\n",
       "      <th>...</th>\n",
       "      <th>saleIs_quarter_start</th>\n",
       "      <th>saleIs_year_end</th>\n",
       "      <th>saleIs_year_start</th>\n",
       "      <th>saleElapsed</th>\n",
       "    </tr>\n",
       "  </thead>\n",
       "  <tbody>\n",
       "    <tr>\n",
       "      <th>0</th>\n",
       "      <td>1</td>\n",
       "      <td>60</td>\n",
       "      <td>RL</td>\n",
       "      <td>65.0</td>\n",
       "      <td>...</td>\n",
       "      <td>False</td>\n",
       "      <td>False</td>\n",
       "      <td>False</td>\n",
       "      <td>1.201824e+09</td>\n",
       "    </tr>\n",
       "    <tr>\n",
       "      <th>1</th>\n",
       "      <td>2</td>\n",
       "      <td>20</td>\n",
       "      <td>RL</td>\n",
       "      <td>80.0</td>\n",
       "      <td>...</td>\n",
       "      <td>False</td>\n",
       "      <td>False</td>\n",
       "      <td>False</td>\n",
       "      <td>1.177978e+09</td>\n",
       "    </tr>\n",
       "    <tr>\n",
       "      <th>2</th>\n",
       "      <td>3</td>\n",
       "      <td>60</td>\n",
       "      <td>RL</td>\n",
       "      <td>68.0</td>\n",
       "      <td>...</td>\n",
       "      <td>False</td>\n",
       "      <td>False</td>\n",
       "      <td>False</td>\n",
       "      <td>1.220227e+09</td>\n",
       "    </tr>\n",
       "    <tr>\n",
       "      <th>3</th>\n",
       "      <td>4</td>\n",
       "      <td>70</td>\n",
       "      <td>RL</td>\n",
       "      <td>60.0</td>\n",
       "      <td>...</td>\n",
       "      <td>False</td>\n",
       "      <td>False</td>\n",
       "      <td>False</td>\n",
       "      <td>1.138752e+09</td>\n",
       "    </tr>\n",
       "    <tr>\n",
       "      <th>4</th>\n",
       "      <td>5</td>\n",
       "      <td>60</td>\n",
       "      <td>RL</td>\n",
       "      <td>84.0</td>\n",
       "      <td>...</td>\n",
       "      <td>False</td>\n",
       "      <td>False</td>\n",
       "      <td>False</td>\n",
       "      <td>1.228090e+09</td>\n",
       "    </tr>\n",
       "    <tr>\n",
       "      <th>...</th>\n",
       "      <td>...</td>\n",
       "      <td>...</td>\n",
       "      <td>...</td>\n",
       "      <td>...</td>\n",
       "      <td>...</td>\n",
       "      <td>...</td>\n",
       "      <td>...</td>\n",
       "      <td>...</td>\n",
       "      <td>...</td>\n",
       "    </tr>\n",
       "    <tr>\n",
       "      <th>1455</th>\n",
       "      <td>1456</td>\n",
       "      <td>60</td>\n",
       "      <td>RL</td>\n",
       "      <td>62.0</td>\n",
       "      <td>...</td>\n",
       "      <td>False</td>\n",
       "      <td>False</td>\n",
       "      <td>False</td>\n",
       "      <td>1.185926e+09</td>\n",
       "    </tr>\n",
       "    <tr>\n",
       "      <th>1456</th>\n",
       "      <td>1457</td>\n",
       "      <td>20</td>\n",
       "      <td>RL</td>\n",
       "      <td>85.0</td>\n",
       "      <td>...</td>\n",
       "      <td>False</td>\n",
       "      <td>False</td>\n",
       "      <td>False</td>\n",
       "      <td>1.264982e+09</td>\n",
       "    </tr>\n",
       "    <tr>\n",
       "      <th>1457</th>\n",
       "      <td>1458</td>\n",
       "      <td>70</td>\n",
       "      <td>RL</td>\n",
       "      <td>66.0</td>\n",
       "      <td>...</td>\n",
       "      <td>False</td>\n",
       "      <td>False</td>\n",
       "      <td>False</td>\n",
       "      <td>1.272672e+09</td>\n",
       "    </tr>\n",
       "    <tr>\n",
       "      <th>1458</th>\n",
       "      <td>1459</td>\n",
       "      <td>20</td>\n",
       "      <td>RL</td>\n",
       "      <td>68.0</td>\n",
       "      <td>...</td>\n",
       "      <td>True</td>\n",
       "      <td>False</td>\n",
       "      <td>False</td>\n",
       "      <td>1.270080e+09</td>\n",
       "    </tr>\n",
       "    <tr>\n",
       "      <th>1459</th>\n",
       "      <td>1460</td>\n",
       "      <td>20</td>\n",
       "      <td>RL</td>\n",
       "      <td>75.0</td>\n",
       "      <td>...</td>\n",
       "      <td>False</td>\n",
       "      <td>False</td>\n",
       "      <td>False</td>\n",
       "      <td>1.212278e+09</td>\n",
       "    </tr>\n",
       "  </tbody>\n",
       "</table>\n",
       "<p>1460 rows × 94 columns</p>\n",
       "</div>"
      ],
      "text/plain": [
       "        Id  MSSubClass MSZoning  LotFrontage  ...  saleIs_quarter_start   \n",
       "0        1          60       RL         65.0  ...                 False  \\\n",
       "1        2          20       RL         80.0  ...                 False   \n",
       "2        3          60       RL         68.0  ...                 False   \n",
       "3        4          70       RL         60.0  ...                 False   \n",
       "4        5          60       RL         84.0  ...                 False   \n",
       "...    ...         ...      ...          ...  ...                   ...   \n",
       "1455  1456          60       RL         62.0  ...                 False   \n",
       "1456  1457          20       RL         85.0  ...                 False   \n",
       "1457  1458          70       RL         66.0  ...                 False   \n",
       "1458  1459          20       RL         68.0  ...                  True   \n",
       "1459  1460          20       RL         75.0  ...                 False   \n",
       "\n",
       "     saleIs_year_end saleIs_year_start   saleElapsed  \n",
       "0              False             False  1.201824e+09  \n",
       "1              False             False  1.177978e+09  \n",
       "2              False             False  1.220227e+09  \n",
       "3              False             False  1.138752e+09  \n",
       "4              False             False  1.228090e+09  \n",
       "...              ...               ...           ...  \n",
       "1455           False             False  1.185926e+09  \n",
       "1456           False             False  1.264982e+09  \n",
       "1457           False             False  1.272672e+09  \n",
       "1458           False             False  1.270080e+09  \n",
       "1459           False             False  1.212278e+09  \n",
       "\n",
       "[1460 rows x 94 columns]"
      ]
     },
     "execution_count": 11,
     "metadata": {},
     "output_type": "execute_result"
    }
   ],
   "source": [
    "df['saledate'] = df['MoSold'].astype(str) + '/' + df['YrSold'].astype(str)\n",
    "df = add_datepart(df, 'saledate')\n",
    "df"
   ]
  },
  {
   "cell_type": "code",
   "execution_count": 12,
   "metadata": {
    "execution": {
     "iopub.execute_input": "2023-05-11T16:38:35.564935Z",
     "iopub.status.busy": "2023-05-11T16:38:35.564509Z",
     "iopub.status.idle": "2023-05-11T16:38:35.618143Z",
     "shell.execute_reply": "2023-05-11T16:38:35.616901Z",
     "shell.execute_reply.started": "2023-05-11T16:38:35.564900Z"
    }
   },
   "outputs": [
    {
     "name": "stderr",
     "output_type": "stream",
     "text": [
      "/Users/stevendiviney/.pyenv/versions/3.9.4/lib/python3.9/site-packages/fastai/tabular/core.py:23: UserWarning: The argument 'infer_datetime_format' is deprecated and will be removed in a future version. A strict version of it is now the default, see https://pandas.pydata.org/pdeps/0004-consistent-to-datetime-parsing.html. You can safely remove this argument.\n",
      "/Users/stevendiviney/.pyenv/versions/3.9.4/lib/python3.9/site-packages/fastai/tabular/core.py:23: UserWarning: Could not infer format, so each element will be parsed individually, falling back to `dateutil`. To ensure parsing is consistent and as-expected, please specify a format.\n"
     ]
    },
    {
     "data": {
      "text/plain": [
       "(94, 93)"
      ]
     },
     "execution_count": 12,
     "metadata": {},
     "output_type": "execute_result"
    }
   ],
   "source": [
    "# Do the same for the test dataset\n",
    "df_test['saledate'] = df_test['MoSold'].astype(str) + '/' + df_test['YrSold'].astype(str)\n",
    "df_test = add_datepart(df_test, 'saledate')\n",
    "df_test\n",
    "len(df.columns), len(df_test.columns)"
   ]
  },
  {
   "cell_type": "markdown",
   "metadata": {},
   "source": [
    "### Depedent variable"
   ]
  },
  {
   "cell_type": "markdown",
   "metadata": {},
   "source": [
    "`SalePrice` is the dependent variable. We are told the evaluation is on the RMSE between the log of the predicted and actual sale price (Taking logs means that errors in predicting expensive houses and cheap houses will affect the result equally.)\n",
    "\n",
    "Update - I'm not sure if this should be done in the submission or not"
   ]
  },
  {
   "cell_type": "code",
   "execution_count": 13,
   "metadata": {
    "execution": {
     "iopub.execute_input": "2023-05-11T16:38:35.620127Z",
     "iopub.status.busy": "2023-05-11T16:38:35.619737Z",
     "iopub.status.idle": "2023-05-11T16:38:35.625040Z",
     "shell.execute_reply": "2023-05-11T16:38:35.624043Z",
     "shell.execute_reply.started": "2023-05-11T16:38:35.620088Z"
    }
   },
   "outputs": [],
   "source": [
    "dep_var = 'SalePrice'\n",
    "#df[dep_var] = np.log(df[dep_var])"
   ]
  },
  {
   "cell_type": "markdown",
   "metadata": {},
   "source": [
    "## Decision Tree\n",
    "First lets have a go at building a plain old decision tree and submit that to Kaggle"
   ]
  },
  {
   "cell_type": "markdown",
   "metadata": {},
   "source": [
    "### Test and validation set\n",
    "In this case I don't see the test set contain future dates compared to the training set, so my first attempt at a validation set will just take a random sample of the training set."
   ]
  },
  {
   "cell_type": "code",
   "execution_count": 14,
   "metadata": {
    "execution": {
     "iopub.execute_input": "2023-05-11T16:38:35.626896Z",
     "iopub.status.busy": "2023-05-11T16:38:35.626522Z",
     "iopub.status.idle": "2023-05-11T16:38:35.644520Z",
     "shell.execute_reply": "2023-05-11T16:38:35.643184Z",
     "shell.execute_reply.started": "2023-05-11T16:38:35.626862Z"
    }
   },
   "outputs": [
    {
     "data": {
      "text/plain": [
       "(array([2008, 2007, 2006, 2009, 2010]), array([2010, 2009, 2008, 2007, 2006]))"
      ]
     },
     "execution_count": 14,
     "metadata": {},
     "output_type": "execute_result"
    }
   ],
   "source": [
    "df['YrSold'].unique(), df_test['YrSold'].unique()"
   ]
  },
  {
   "cell_type": "code",
   "execution_count": 15,
   "metadata": {},
   "outputs": [
    {
     "data": {
      "text/plain": [
       "((1168, 94), (292, 94))"
      ]
     },
     "execution_count": 15,
     "metadata": {},
     "output_type": "execute_result"
    }
   ],
   "source": [
    "from sklearn.model_selection import train_test_split\n",
    "df_train, df_valid = train_test_split(df, test_size=0.2)\n",
    "df_train.size, df_valid.size\n",
    "df_train.shape, df_valid.shape"
   ]
  },
  {
   "cell_type": "code",
   "execution_count": 16,
   "metadata": {
    "execution": {
     "iopub.execute_input": "2023-05-11T16:38:35.647210Z",
     "iopub.status.busy": "2023-05-11T16:38:35.646218Z",
     "iopub.status.idle": "2023-05-11T16:38:35.886181Z",
     "shell.execute_reply": "2023-05-11T16:38:35.885063Z",
     "shell.execute_reply.started": "2023-05-11T16:38:35.647173Z"
    }
   },
   "outputs": [],
   "source": [
    "# Need to get the index from the row in df of all the fields in df_valid\n",
    "train_idx = df_train.Id.map(lambda id: df.index[df.Id == id][0])\n",
    "valid_idx = df_valid.Id.map(lambda id: df.index[df.Id == id][0])\n",
    "splits = (list(train_idx), list(valid_idx))"
   ]
  },
  {
   "cell_type": "markdown",
   "metadata": {},
   "source": [
    "### Handle missing data and strings\n",
    "Sklearn cannot handle missing data or strings.\n",
    "\n",
    "`Categorify` is a TabularProc that replaces a column with a numeric categorical column. \n",
    "\n",
    "`FillMissing` is a TabularProc that replaces missing values with the median of the column"
   ]
  },
  {
   "cell_type": "code",
   "execution_count": 17,
   "metadata": {},
   "outputs": [
    {
     "data": {
      "text/plain": [
       "(43, 50)"
      ]
     },
     "execution_count": 17,
     "metadata": {},
     "output_type": "execute_result"
    }
   ],
   "source": [
    "cont, cat = cont_cat_split(df, 1, dep_var=dep_var)\n",
    "len(cont), len(cat)"
   ]
  },
  {
   "cell_type": "code",
   "execution_count": 18,
   "metadata": {
    "execution": {
     "iopub.execute_input": "2023-05-11T16:38:35.888353Z",
     "iopub.status.busy": "2023-05-11T16:38:35.888010Z",
     "iopub.status.idle": "2023-05-11T16:38:36.028607Z",
     "shell.execute_reply": "2023-05-11T16:38:36.027471Z",
     "shell.execute_reply.started": "2023-05-11T16:38:35.888322Z"
    }
   },
   "outputs": [
    {
     "data": {
      "text/html": [
       "<div>\n",
       "<style scoped>\n",
       "    .dataframe tbody tr th:only-of-type {\n",
       "        vertical-align: middle;\n",
       "    }\n",
       "\n",
       "    .dataframe tbody tr th {\n",
       "        vertical-align: top;\n",
       "    }\n",
       "\n",
       "    .dataframe thead th {\n",
       "        text-align: right;\n",
       "    }\n",
       "</style>\n",
       "<table border=\"1\" class=\"dataframe\">\n",
       "  <thead>\n",
       "    <tr style=\"text-align: right;\">\n",
       "      <th></th>\n",
       "      <th>MSZoning</th>\n",
       "      <th>Street</th>\n",
       "      <th>Alley</th>\n",
       "      <th>LotShape</th>\n",
       "      <th>...</th>\n",
       "      <th>saleWeek</th>\n",
       "      <th>saleDayofweek</th>\n",
       "      <th>saleDayofyear</th>\n",
       "      <th>saleElapsed</th>\n",
       "    </tr>\n",
       "  </thead>\n",
       "  <tbody>\n",
       "    <tr>\n",
       "      <th>516</th>\n",
       "      <td>4</td>\n",
       "      <td>2</td>\n",
       "      <td>0</td>\n",
       "      <td>1</td>\n",
       "      <td>...</td>\n",
       "      <td>31</td>\n",
       "      <td>5</td>\n",
       "      <td>213</td>\n",
       "      <td>1.249085e+09</td>\n",
       "    </tr>\n",
       "    <tr>\n",
       "      <th>1202</th>\n",
       "      <td>5</td>\n",
       "      <td>2</td>\n",
       "      <td>0</td>\n",
       "      <td>4</td>\n",
       "      <td>...</td>\n",
       "      <td>18</td>\n",
       "      <td>4</td>\n",
       "      <td>121</td>\n",
       "      <td>1.241136e+09</td>\n",
       "    </tr>\n",
       "    <tr>\n",
       "      <th>317</th>\n",
       "      <td>2</td>\n",
       "      <td>2</td>\n",
       "      <td>0</td>\n",
       "      <td>4</td>\n",
       "      <td>...</td>\n",
       "      <td>48</td>\n",
       "      <td>5</td>\n",
       "      <td>335</td>\n",
       "      <td>1.196467e+09</td>\n",
       "    </tr>\n",
       "    <tr>\n",
       "      <th>28</th>\n",
       "      <td>4</td>\n",
       "      <td>2</td>\n",
       "      <td>0</td>\n",
       "      <td>1</td>\n",
       "      <td>...</td>\n",
       "      <td>48</td>\n",
       "      <td>4</td>\n",
       "      <td>335</td>\n",
       "      <td>1.164931e+09</td>\n",
       "    </tr>\n",
       "    <tr>\n",
       "      <th>1344</th>\n",
       "      <td>4</td>\n",
       "      <td>2</td>\n",
       "      <td>0</td>\n",
       "      <td>1</td>\n",
       "      <td>...</td>\n",
       "      <td>26</td>\n",
       "      <td>6</td>\n",
       "      <td>182</td>\n",
       "      <td>1.183248e+09</td>\n",
       "    </tr>\n",
       "    <tr>\n",
       "      <th>...</th>\n",
       "      <td>...</td>\n",
       "      <td>...</td>\n",
       "      <td>...</td>\n",
       "      <td>...</td>\n",
       "      <td>...</td>\n",
       "      <td>...</td>\n",
       "      <td>...</td>\n",
       "      <td>...</td>\n",
       "      <td>...</td>\n",
       "    </tr>\n",
       "    <tr>\n",
       "      <th>709</th>\n",
       "      <td>4</td>\n",
       "      <td>2</td>\n",
       "      <td>0</td>\n",
       "      <td>1</td>\n",
       "      <td>...</td>\n",
       "      <td>49</td>\n",
       "      <td>0</td>\n",
       "      <td>336</td>\n",
       "      <td>1.228090e+09</td>\n",
       "    </tr>\n",
       "    <tr>\n",
       "      <th>1216</th>\n",
       "      <td>5</td>\n",
       "      <td>2</td>\n",
       "      <td>0</td>\n",
       "      <td>4</td>\n",
       "      <td>...</td>\n",
       "      <td>13</td>\n",
       "      <td>3</td>\n",
       "      <td>91</td>\n",
       "      <td>1.270080e+09</td>\n",
       "    </tr>\n",
       "    <tr>\n",
       "      <th>1390</th>\n",
       "      <td>4</td>\n",
       "      <td>2</td>\n",
       "      <td>0</td>\n",
       "      <td>4</td>\n",
       "      <td>...</td>\n",
       "      <td>35</td>\n",
       "      <td>4</td>\n",
       "      <td>244</td>\n",
       "      <td>1.157069e+09</td>\n",
       "    </tr>\n",
       "    <tr>\n",
       "      <th>1230</th>\n",
       "      <td>4</td>\n",
       "      <td>2</td>\n",
       "      <td>0</td>\n",
       "      <td>1</td>\n",
       "      <td>...</td>\n",
       "      <td>31</td>\n",
       "      <td>2</td>\n",
       "      <td>213</td>\n",
       "      <td>1.185926e+09</td>\n",
       "    </tr>\n",
       "    <tr>\n",
       "      <th>1370</th>\n",
       "      <td>4</td>\n",
       "      <td>2</td>\n",
       "      <td>0</td>\n",
       "      <td>4</td>\n",
       "      <td>...</td>\n",
       "      <td>40</td>\n",
       "      <td>3</td>\n",
       "      <td>274</td>\n",
       "      <td>1.254355e+09</td>\n",
       "    </tr>\n",
       "  </tbody>\n",
       "</table>\n",
       "<p>1460 rows × 93 columns</p>\n",
       "</div>"
      ],
      "text/plain": [
       "      MSZoning  Street  Alley  LotShape  ...  saleWeek  saleDayofweek   \n",
       "516          4       2      0         1  ...        31              5  \\\n",
       "1202         5       2      0         4  ...        18              4   \n",
       "317          2       2      0         4  ...        48              5   \n",
       "28           4       2      0         1  ...        48              4   \n",
       "1344         4       2      0         1  ...        26              6   \n",
       "...        ...     ...    ...       ...  ...       ...            ...   \n",
       "709          4       2      0         1  ...        49              0   \n",
       "1216         5       2      0         4  ...        13              3   \n",
       "1390         4       2      0         4  ...        35              4   \n",
       "1230         4       2      0         1  ...        31              2   \n",
       "1370         4       2      0         4  ...        40              3   \n",
       "\n",
       "      saleDayofyear   saleElapsed  \n",
       "516             213  1.249085e+09  \n",
       "1202            121  1.241136e+09  \n",
       "317             335  1.196467e+09  \n",
       "28              335  1.164931e+09  \n",
       "1344            182  1.183248e+09  \n",
       "...             ...           ...  \n",
       "709             336  1.228090e+09  \n",
       "1216             91  1.270080e+09  \n",
       "1390            244  1.157069e+09  \n",
       "1230            213  1.185926e+09  \n",
       "1370            274  1.254355e+09  \n",
       "\n",
       "[1460 rows x 93 columns]"
      ]
     },
     "execution_count": 18,
     "metadata": {},
     "output_type": "execute_result"
    }
   ],
   "source": [
    "procs = [Categorify, FillMissing(add_col=False)]\n",
    "\n",
    "tabular_data = TabularPandas(df, procs, cat, cont, y_names=dep_var, splits=splits)\n",
    "tabular_data.xs\n",
    "len(cont), len(cat)\n",
    "tabular_data.xs"
   ]
  },
  {
   "cell_type": "markdown",
   "metadata": {},
   "source": [
    "Need to apply the same transform to the test dataset"
   ]
  },
  {
   "cell_type": "code",
   "execution_count": 19,
   "metadata": {
    "execution": {
     "iopub.execute_input": "2023-05-11T16:38:36.048387Z",
     "iopub.status.busy": "2023-05-11T16:38:36.047971Z",
     "iopub.status.idle": "2023-05-11T16:38:36.194911Z",
     "shell.execute_reply": "2023-05-11T16:38:36.193799Z",
     "shell.execute_reply.started": "2023-05-11T16:38:36.048354Z"
    }
   },
   "outputs": [
    {
     "data": {
      "text/html": [
       "<div>\n",
       "<style scoped>\n",
       "    .dataframe tbody tr th:only-of-type {\n",
       "        vertical-align: middle;\n",
       "    }\n",
       "\n",
       "    .dataframe tbody tr th {\n",
       "        vertical-align: top;\n",
       "    }\n",
       "\n",
       "    .dataframe thead th {\n",
       "        text-align: right;\n",
       "    }\n",
       "</style>\n",
       "<table border=\"1\" class=\"dataframe\">\n",
       "  <thead>\n",
       "    <tr style=\"text-align: right;\">\n",
       "      <th></th>\n",
       "      <th>MSZoning</th>\n",
       "      <th>Street</th>\n",
       "      <th>Alley</th>\n",
       "      <th>LotShape</th>\n",
       "      <th>...</th>\n",
       "      <th>saleWeek</th>\n",
       "      <th>saleDayofweek</th>\n",
       "      <th>saleDayofyear</th>\n",
       "      <th>saleElapsed</th>\n",
       "    </tr>\n",
       "  </thead>\n",
       "  <tbody>\n",
       "    <tr>\n",
       "      <th>0</th>\n",
       "      <td>3</td>\n",
       "      <td>2</td>\n",
       "      <td>0</td>\n",
       "      <td>4</td>\n",
       "      <td>...</td>\n",
       "      <td>22</td>\n",
       "      <td>1</td>\n",
       "      <td>152</td>\n",
       "      <td>1.275350e+09</td>\n",
       "    </tr>\n",
       "    <tr>\n",
       "      <th>1</th>\n",
       "      <td>4</td>\n",
       "      <td>2</td>\n",
       "      <td>0</td>\n",
       "      <td>1</td>\n",
       "      <td>...</td>\n",
       "      <td>22</td>\n",
       "      <td>1</td>\n",
       "      <td>152</td>\n",
       "      <td>1.275350e+09</td>\n",
       "    </tr>\n",
       "    <tr>\n",
       "      <th>2</th>\n",
       "      <td>4</td>\n",
       "      <td>2</td>\n",
       "      <td>0</td>\n",
       "      <td>1</td>\n",
       "      <td>...</td>\n",
       "      <td>9</td>\n",
       "      <td>0</td>\n",
       "      <td>60</td>\n",
       "      <td>1.267402e+09</td>\n",
       "    </tr>\n",
       "    <tr>\n",
       "      <th>3</th>\n",
       "      <td>4</td>\n",
       "      <td>2</td>\n",
       "      <td>0</td>\n",
       "      <td>1</td>\n",
       "      <td>...</td>\n",
       "      <td>22</td>\n",
       "      <td>1</td>\n",
       "      <td>152</td>\n",
       "      <td>1.275350e+09</td>\n",
       "    </tr>\n",
       "    <tr>\n",
       "      <th>4</th>\n",
       "      <td>4</td>\n",
       "      <td>2</td>\n",
       "      <td>0</td>\n",
       "      <td>1</td>\n",
       "      <td>...</td>\n",
       "      <td>53</td>\n",
       "      <td>4</td>\n",
       "      <td>1</td>\n",
       "      <td>1.262304e+09</td>\n",
       "    </tr>\n",
       "    <tr>\n",
       "      <th>...</th>\n",
       "      <td>...</td>\n",
       "      <td>...</td>\n",
       "      <td>...</td>\n",
       "      <td>...</td>\n",
       "      <td>...</td>\n",
       "      <td>...</td>\n",
       "      <td>...</td>\n",
       "      <td>...</td>\n",
       "      <td>...</td>\n",
       "    </tr>\n",
       "    <tr>\n",
       "      <th>1454</th>\n",
       "      <td>5</td>\n",
       "      <td>2</td>\n",
       "      <td>0</td>\n",
       "      <td>4</td>\n",
       "      <td>...</td>\n",
       "      <td>22</td>\n",
       "      <td>3</td>\n",
       "      <td>152</td>\n",
       "      <td>1.149120e+09</td>\n",
       "    </tr>\n",
       "    <tr>\n",
       "      <th>1455</th>\n",
       "      <td>5</td>\n",
       "      <td>2</td>\n",
       "      <td>0</td>\n",
       "      <td>4</td>\n",
       "      <td>...</td>\n",
       "      <td>13</td>\n",
       "      <td>5</td>\n",
       "      <td>91</td>\n",
       "      <td>1.143850e+09</td>\n",
       "    </tr>\n",
       "    <tr>\n",
       "      <th>1456</th>\n",
       "      <td>4</td>\n",
       "      <td>2</td>\n",
       "      <td>0</td>\n",
       "      <td>4</td>\n",
       "      <td>...</td>\n",
       "      <td>35</td>\n",
       "      <td>4</td>\n",
       "      <td>244</td>\n",
       "      <td>1.157069e+09</td>\n",
       "    </tr>\n",
       "    <tr>\n",
       "      <th>1457</th>\n",
       "      <td>4</td>\n",
       "      <td>2</td>\n",
       "      <td>0</td>\n",
       "      <td>4</td>\n",
       "      <td>...</td>\n",
       "      <td>26</td>\n",
       "      <td>5</td>\n",
       "      <td>182</td>\n",
       "      <td>1.151712e+09</td>\n",
       "    </tr>\n",
       "    <tr>\n",
       "      <th>1458</th>\n",
       "      <td>4</td>\n",
       "      <td>2</td>\n",
       "      <td>0</td>\n",
       "      <td>4</td>\n",
       "      <td>...</td>\n",
       "      <td>44</td>\n",
       "      <td>2</td>\n",
       "      <td>305</td>\n",
       "      <td>1.162339e+09</td>\n",
       "    </tr>\n",
       "  </tbody>\n",
       "</table>\n",
       "<p>1459 rows × 93 columns</p>\n",
       "</div>"
      ],
      "text/plain": [
       "      MSZoning  Street  Alley  LotShape  ...  saleWeek  saleDayofweek   \n",
       "0            3       2      0         4  ...        22              1  \\\n",
       "1            4       2      0         1  ...        22              1   \n",
       "2            4       2      0         1  ...         9              0   \n",
       "3            4       2      0         1  ...        22              1   \n",
       "4            4       2      0         1  ...        53              4   \n",
       "...        ...     ...    ...       ...  ...       ...            ...   \n",
       "1454         5       2      0         4  ...        22              3   \n",
       "1455         5       2      0         4  ...        13              5   \n",
       "1456         4       2      0         4  ...        35              4   \n",
       "1457         4       2      0         4  ...        26              5   \n",
       "1458         4       2      0         4  ...        44              2   \n",
       "\n",
       "      saleDayofyear   saleElapsed  \n",
       "0               152  1.275350e+09  \n",
       "1               152  1.275350e+09  \n",
       "2                60  1.267402e+09  \n",
       "3               152  1.275350e+09  \n",
       "4                 1  1.262304e+09  \n",
       "...             ...           ...  \n",
       "1454            152  1.149120e+09  \n",
       "1455             91  1.143850e+09  \n",
       "1456            244  1.157069e+09  \n",
       "1457            182  1.151712e+09  \n",
       "1458            305  1.162339e+09  \n",
       "\n",
       "[1459 rows x 93 columns]"
      ]
     },
     "execution_count": 19,
     "metadata": {},
     "output_type": "execute_result"
    }
   ],
   "source": [
    "cont1, cat1 = cont_cat_split(df_test, 1)\n",
    "\n",
    "test_data = TabularPandas(df_test, [Categorify, FillMissing(add_col=False)], cat1, cont1)\n",
    "test_data.xs"
   ]
  },
  {
   "cell_type": "code",
   "execution_count": 20,
   "metadata": {},
   "outputs": [
    {
     "data": {
      "text/plain": [
       "array([], dtype='<U20')"
      ]
     },
     "execution_count": 20,
     "metadata": {},
     "output_type": "execute_result"
    }
   ],
   "source": [
    "len(cont1), len(cat1), len(cont), len(cat)\n",
    "drop_cols = np.setdiff1d(cat1, cat)\n",
    "drop_cols"
   ]
  },
  {
   "cell_type": "code",
   "execution_count": 21,
   "metadata": {},
   "outputs": [],
   "source": [
    "# FastAI is adding different sets of columns for the train and test sets\n",
    "# presumably because different rows have different missing values.\n",
    "# Passing `add_col=False` crashes when cleaning the test data\n",
    "# so I'm just going to drop the extra columns\n",
    "#test_data.remove(drop_cols)"
   ]
  },
  {
   "cell_type": "markdown",
   "metadata": {},
   "source": [
    "For whatever reason FillMissing decided to work so lets save the two datasets"
   ]
  },
  {
   "cell_type": "code",
   "execution_count": 22,
   "metadata": {},
   "outputs": [],
   "source": [
    "#save_pickle(path/'train.pk1', tabular_data)\n",
    "#save_pickle(path/'test.pk1', test_data)"
   ]
  },
  {
   "cell_type": "markdown",
   "metadata": {},
   "source": [
    "## Creating the decision tree"
   ]
  },
  {
   "cell_type": "code",
   "execution_count": 23,
   "metadata": {
    "execution": {
     "iopub.execute_input": "2023-05-11T16:38:36.196858Z",
     "iopub.status.busy": "2023-05-11T16:38:36.196414Z",
     "iopub.status.idle": "2023-05-11T16:38:36.204280Z",
     "shell.execute_reply": "2023-05-11T16:38:36.203093Z",
     "shell.execute_reply.started": "2023-05-11T16:38:36.196821Z"
    }
   },
   "outputs": [],
   "source": [
    "def draw_tree(t, df, size=10, ratio=0.6, precision=0, **kwargs):\n",
    "    s=export_graphviz(t, out_file=None, feature_names=df.columns, filled=True, rounded=True,\n",
    "                      special_characters=True, rotate=False, precision=precision, **kwargs)\n",
    "    return graphviz.Source(re.sub('Tree {', f'Tree {{ size={size}; ratio={ratio}', s))"
   ]
  },
  {
   "cell_type": "code",
   "execution_count": 24,
   "metadata": {
    "execution": {
     "iopub.status.busy": "2023-05-11T16:38:39.181379Z",
     "iopub.status.idle": "2023-05-11T16:38:39.181771Z",
     "shell.execute_reply": "2023-05-11T16:38:39.181591Z",
     "shell.execute_reply.started": "2023-05-11T16:38:39.181573Z"
    }
   },
   "outputs": [
    {
     "data": {
      "image/svg+xml": [
       "<?xml version=\"1.0\" encoding=\"UTF-8\" standalone=\"no\"?>\n",
       "<!DOCTYPE svg PUBLIC \"-//W3C//DTD SVG 1.1//EN\"\n",
       " \"http://www.w3.org/Graphics/SVG/1.1/DTD/svg11.dtd\">\n",
       "<!-- Generated by graphviz version 7.1.0 (20230121.1956)\n",
       " -->\n",
       "<!-- Title: Tree Pages: 1 -->\n",
       "<svg width=\"720pt\" height=\"434pt\"\n",
       " viewBox=\"0.00 0.00 720.00 434.42\" xmlns=\"http://www.w3.org/2000/svg\" xmlns:xlink=\"http://www.w3.org/1999/xlink\">\n",
       "<g id=\"graph0\" class=\"graph\" transform=\"scale(0.634641 0.634641) rotate(0) translate(4 680.51)\">\n",
       "<title>Tree</title>\n",
       "<polygon fill=\"white\" stroke=\"none\" points=\"-4,4 -4,-680.51 1130.5,-680.51 1130.5,4 -4,4\"/>\n",
       "<!-- 0 -->\n",
       "<g id=\"node1\" class=\"node\">\n",
       "<title>0</title>\n",
       "<path fill=\"#fcf2eb\" stroke=\"black\" d=\"M763,-649C763,-649 576,-649 576,-649 570,-649 564,-643 564,-637 564,-637 564,-593 564,-593 564,-587 570,-581 576,-581 576,-581 763,-581 763,-581 769,-581 775,-587 775,-593 775,-593 775,-637 775,-637 775,-643 769,-649 763,-649\"/>\n",
       "<text text-anchor=\"start\" x=\"616\" y=\"-633.8\" font-family=\"Helvetica,sans-Serif\" font-size=\"14.00\">OverallQual ≤ 7.5</text>\n",
       "<text text-anchor=\"start\" x=\"572\" y=\"-618.8\" font-family=\"Helvetica,sans-Serif\" font-size=\"14.00\">squared_error = 6183146205.81</text>\n",
       "<text text-anchor=\"start\" x=\"621\" y=\"-603.8\" font-family=\"Helvetica,sans-Serif\" font-size=\"14.00\">samples = 1168</text>\n",
       "<text text-anchor=\"start\" x=\"613.5\" y=\"-588.8\" font-family=\"Helvetica,sans-Serif\" font-size=\"14.00\">value = 180459.64</text>\n",
       "</g>\n",
       "<!-- 1 -->\n",
       "<g id=\"node2\" class=\"node\">\n",
       "<title>1</title>\n",
       "<path fill=\"#fdf7f3\" stroke=\"black\" d=\"M649,-460C649,-460 462,-460 462,-460 456,-460 450,-454 450,-448 450,-448 450,-404 450,-404 450,-398 456,-392 462,-392 462,-392 649,-392 649,-392 655,-392 661,-398 661,-404 661,-404 661,-448 661,-448 661,-454 655,-460 649,-460\"/>\n",
       "<text text-anchor=\"start\" x=\"502\" y=\"-444.8\" font-family=\"Helvetica,sans-Serif\" font-size=\"14.00\">OverallQual ≤ 6.5</text>\n",
       "<text text-anchor=\"start\" x=\"458\" y=\"-429.8\" font-family=\"Helvetica,sans-Serif\" font-size=\"14.00\">squared_error = 2384964576.41</text>\n",
       "<text text-anchor=\"start\" x=\"510.5\" y=\"-414.8\" font-family=\"Helvetica,sans-Serif\" font-size=\"14.00\">samples = 989</text>\n",
       "<text text-anchor=\"start\" x=\"499.5\" y=\"-399.8\" font-family=\"Helvetica,sans-Serif\" font-size=\"14.00\">value = 157530.08</text>\n",
       "</g>\n",
       "<!-- 0&#45;&gt;1 -->\n",
       "<g id=\"edge1\" class=\"edge\">\n",
       "<title>0&#45;&gt;1</title>\n",
       "<path fill=\"none\" stroke=\"black\" d=\"M649.12,-580.57C630.29,-549.68 602.22,-503.64 581.73,-470.02\"/>\n",
       "<polygon fill=\"black\" stroke=\"black\" points=\"584.88,-468.47 576.68,-461.75 578.9,-472.11 584.88,-468.47\"/>\n",
       "<text text-anchor=\"middle\" x=\"570\" y=\"-481.05\" font-family=\"Helvetica,sans-Serif\" font-size=\"14.00\">True</text>\n",
       "</g>\n",
       "<!-- 2 -->\n",
       "<g id=\"node7\" class=\"node\">\n",
       "<title>2</title>\n",
       "<path fill=\"#f6d6be\" stroke=\"black\" d=\"M874,-460C874,-460 695,-460 695,-460 689,-460 683,-454 683,-448 683,-448 683,-404 683,-404 683,-398 689,-392 695,-392 695,-392 874,-392 874,-392 880,-392 886,-398 886,-404 886,-404 886,-448 886,-448 886,-454 880,-460 874,-460\"/>\n",
       "<text text-anchor=\"start\" x=\"728.5\" y=\"-444.8\" font-family=\"Helvetica,sans-Serif\" font-size=\"14.00\">2ndFlrSF ≤ 1564.5</text>\n",
       "<text text-anchor=\"start\" x=\"691\" y=\"-429.8\" font-family=\"Helvetica,sans-Serif\" font-size=\"14.00\">squared_error = 8213603031.0</text>\n",
       "<text text-anchor=\"start\" x=\"739.5\" y=\"-414.8\" font-family=\"Helvetica,sans-Serif\" font-size=\"14.00\">samples = 179</text>\n",
       "<text text-anchor=\"start\" x=\"728.5\" y=\"-399.8\" font-family=\"Helvetica,sans-Serif\" font-size=\"14.00\">value = 307148.64</text>\n",
       "</g>\n",
       "<!-- 0&#45;&gt;2 -->\n",
       "<g id=\"edge6\" class=\"edge\">\n",
       "<title>0&#45;&gt;2</title>\n",
       "<path fill=\"none\" stroke=\"black\" d=\"M690.06,-580.57C709.05,-549.68 737.37,-503.64 758.04,-470.02\"/>\n",
       "<polygon fill=\"black\" stroke=\"black\" points=\"760.87,-472.1 763.13,-461.75 754.91,-468.43 760.87,-472.1\"/>\n",
       "<text text-anchor=\"middle\" x=\"769.72\" y=\"-481.08\" font-family=\"Helvetica,sans-Serif\" font-size=\"14.00\">False</text>\n",
       "</g>\n",
       "<!-- 3 -->\n",
       "<g id=\"node3\" class=\"node\">\n",
       "<title>3</title>\n",
       "<path fill=\"#fefbf9\" stroke=\"black\" d=\"M420,-271C420,-271 233,-271 233,-271 227,-271 221,-265 221,-259 221,-259 221,-215 221,-215 221,-209 227,-203 233,-203 233,-203 420,-203 420,-203 426,-203 432,-209 432,-215 432,-215 432,-259 432,-259 432,-265 426,-271 420,-271\"/>\n",
       "<text text-anchor=\"start\" x=\"267.5\" y=\"-255.8\" font-family=\"Helvetica,sans-Serif\" font-size=\"14.00\">GrLivArea ≤ 1378.5</text>\n",
       "<text text-anchor=\"start\" x=\"229\" y=\"-240.8\" font-family=\"Helvetica,sans-Serif\" font-size=\"14.00\">squared_error = 1387827587.52</text>\n",
       "<text text-anchor=\"start\" x=\"281.5\" y=\"-225.8\" font-family=\"Helvetica,sans-Serif\" font-size=\"14.00\">samples = 731</text>\n",
       "<text text-anchor=\"start\" x=\"270.5\" y=\"-210.8\" font-family=\"Helvetica,sans-Serif\" font-size=\"14.00\">value = 140362.32</text>\n",
       "</g>\n",
       "<!-- 1&#45;&gt;3 -->\n",
       "<g id=\"edge2\" class=\"edge\">\n",
       "<title>1&#45;&gt;3</title>\n",
       "<path fill=\"none\" stroke=\"black\" d=\"M514.56,-391.57C475.85,-359.96 417.68,-312.45 376.3,-278.66\"/>\n",
       "<polygon fill=\"black\" stroke=\"black\" points=\"378.6,-276.03 368.64,-272.41 374.18,-281.45 378.6,-276.03\"/>\n",
       "</g>\n",
       "<!-- 4 -->\n",
       "<g id=\"node6\" class=\"node\">\n",
       "<title>4</title>\n",
       "<path fill=\"#fbece2\" stroke=\"black\" d=\"M649,-74.5C649,-74.5 462,-74.5 462,-74.5 456,-74.5 450,-68.5 450,-62.5 450,-62.5 450,-33.5 450,-33.5 450,-27.5 456,-21.5 462,-21.5 462,-21.5 649,-21.5 649,-21.5 655,-21.5 661,-27.5 661,-33.5 661,-33.5 661,-62.5 661,-62.5 661,-68.5 655,-74.5 649,-74.5\"/>\n",
       "<text text-anchor=\"start\" x=\"458\" y=\"-59.3\" font-family=\"Helvetica,sans-Serif\" font-size=\"14.00\">squared_error = 2009068667.87</text>\n",
       "<text text-anchor=\"start\" x=\"510.5\" y=\"-44.3\" font-family=\"Helvetica,sans-Serif\" font-size=\"14.00\">samples = 258</text>\n",
       "<text text-anchor=\"start\" x=\"499.5\" y=\"-29.3\" font-family=\"Helvetica,sans-Serif\" font-size=\"14.00\">value = 206172.07</text>\n",
       "</g>\n",
       "<!-- 1&#45;&gt;4 -->\n",
       "<g id=\"edge5\" class=\"edge\">\n",
       "<title>1&#45;&gt;4</title>\n",
       "<path fill=\"none\" stroke=\"black\" d=\"M555.5,-391.63C555.5,-321.49 555.5,-159.2 555.5,-86\"/>\n",
       "<polygon fill=\"black\" stroke=\"black\" points=\"559,-86.14 555.5,-76.14 552,-86.14 559,-86.14\"/>\n",
       "</g>\n",
       "<!-- 7 -->\n",
       "<g id=\"node4\" class=\"node\">\n",
       "<title>7</title>\n",
       "<path fill=\"#ffffff\" stroke=\"black\" d=\"M191,-74.5C191,-74.5 12,-74.5 12,-74.5 6,-74.5 0,-68.5 0,-62.5 0,-62.5 0,-33.5 0,-33.5 0,-27.5 6,-21.5 12,-21.5 12,-21.5 191,-21.5 191,-21.5 197,-21.5 203,-27.5 203,-33.5 203,-33.5 203,-62.5 203,-62.5 203,-68.5 197,-74.5 191,-74.5\"/>\n",
       "<text text-anchor=\"start\" x=\"8\" y=\"-59.3\" font-family=\"Helvetica,sans-Serif\" font-size=\"14.00\">squared_error = 784607527.32</text>\n",
       "<text text-anchor=\"start\" x=\"56.5\" y=\"-44.3\" font-family=\"Helvetica,sans-Serif\" font-size=\"14.00\">samples = 450</text>\n",
       "<text text-anchor=\"start\" x=\"49\" y=\"-29.3\" font-family=\"Helvetica,sans-Serif\" font-size=\"14.00\">value = 124392.3</text>\n",
       "</g>\n",
       "<!-- 3&#45;&gt;7 -->\n",
       "<g id=\"edge3\" class=\"edge\">\n",
       "<title>3&#45;&gt;7</title>\n",
       "<path fill=\"none\" stroke=\"black\" d=\"M286.27,-202.57C245.29,-168.51 182.12,-116.01 141.3,-82.08\"/>\n",
       "<polygon fill=\"black\" stroke=\"black\" points=\"143.78,-79.59 133.85,-75.89 139.31,-84.97 143.78,-79.59\"/>\n",
       "</g>\n",
       "<!-- 8 -->\n",
       "<g id=\"node5\" class=\"node\">\n",
       "<title>8</title>\n",
       "<path fill=\"#fdf6f0\" stroke=\"black\" d=\"M420,-74.5C420,-74.5 233,-74.5 233,-74.5 227,-74.5 221,-68.5 221,-62.5 221,-62.5 221,-33.5 221,-33.5 221,-27.5 227,-21.5 233,-21.5 233,-21.5 420,-21.5 420,-21.5 426,-21.5 432,-27.5 432,-33.5 432,-33.5 432,-62.5 432,-62.5 432,-68.5 426,-74.5 420,-74.5\"/>\n",
       "<text text-anchor=\"start\" x=\"229\" y=\"-59.3\" font-family=\"Helvetica,sans-Serif\" font-size=\"14.00\">squared_error = 1291340292.17</text>\n",
       "<text text-anchor=\"start\" x=\"281.5\" y=\"-44.3\" font-family=\"Helvetica,sans-Serif\" font-size=\"14.00\">samples = 281</text>\n",
       "<text text-anchor=\"start\" x=\"270.5\" y=\"-29.3\" font-family=\"Helvetica,sans-Serif\" font-size=\"14.00\">value = 165937.08</text>\n",
       "</g>\n",
       "<!-- 3&#45;&gt;8 -->\n",
       "<g id=\"edge4\" class=\"edge\">\n",
       "<title>3&#45;&gt;8</title>\n",
       "<path fill=\"none\" stroke=\"black\" d=\"M326.5,-202.57C326.5,-169.87 326.5,-120.16 326.5,-86.22\"/>\n",
       "<polygon fill=\"black\" stroke=\"black\" points=\"330,-86.44 326.5,-76.44 323,-86.44 330,-86.44\"/>\n",
       "</g>\n",
       "<!-- 5 -->\n",
       "<g id=\"node8\" class=\"node\">\n",
       "<title>5</title>\n",
       "<path fill=\"#f7d7c0\" stroke=\"black\" d=\"M878,-74.5C878,-74.5 691,-74.5 691,-74.5 685,-74.5 679,-68.5 679,-62.5 679,-62.5 679,-33.5 679,-33.5 679,-27.5 685,-21.5 691,-21.5 691,-21.5 878,-21.5 878,-21.5 884,-21.5 890,-27.5 890,-33.5 890,-33.5 890,-62.5 890,-62.5 890,-68.5 884,-74.5 878,-74.5\"/>\n",
       "<text text-anchor=\"start\" x=\"687\" y=\"-59.3\" font-family=\"Helvetica,sans-Serif\" font-size=\"14.00\">squared_error = 5781673071.47</text>\n",
       "<text text-anchor=\"start\" x=\"739.5\" y=\"-44.3\" font-family=\"Helvetica,sans-Serif\" font-size=\"14.00\">samples = 176</text>\n",
       "<text text-anchor=\"start\" x=\"728.5\" y=\"-29.3\" font-family=\"Helvetica,sans-Serif\" font-size=\"14.00\">value = 300804.59</text>\n",
       "</g>\n",
       "<!-- 2&#45;&gt;5 -->\n",
       "<g id=\"edge7\" class=\"edge\">\n",
       "<title>2&#45;&gt;5</title>\n",
       "<path fill=\"none\" stroke=\"black\" d=\"M784.5,-391.63C784.5,-321.49 784.5,-159.2 784.5,-86\"/>\n",
       "<polygon fill=\"black\" stroke=\"black\" points=\"788,-86.14 784.5,-76.14 781,-86.14 788,-86.14\"/>\n",
       "</g>\n",
       "<!-- 6 -->\n",
       "<g id=\"node9\" class=\"node\">\n",
       "<title>6</title>\n",
       "<path fill=\"#e58139\" stroke=\"black\" d=\"M1114.5,-74.5C1114.5,-74.5 920.5,-74.5 920.5,-74.5 914.5,-74.5 908.5,-68.5 908.5,-62.5 908.5,-62.5 908.5,-33.5 908.5,-33.5 908.5,-27.5 914.5,-21.5 920.5,-21.5 920.5,-21.5 1114.5,-21.5 1114.5,-21.5 1120.5,-21.5 1126.5,-27.5 1126.5,-33.5 1126.5,-33.5 1126.5,-62.5 1126.5,-62.5 1126.5,-68.5 1120.5,-74.5 1114.5,-74.5\"/>\n",
       "<text text-anchor=\"start\" x=\"916.5\" y=\"-59.3\" font-family=\"Helvetica,sans-Serif\" font-size=\"14.00\">squared_error = 10004222222.22</text>\n",
       "<text text-anchor=\"start\" x=\"980\" y=\"-44.3\" font-family=\"Helvetica,sans-Serif\" font-size=\"14.00\">samples = 3</text>\n",
       "<text text-anchor=\"start\" x=\"961.5\" y=\"-29.3\" font-family=\"Helvetica,sans-Serif\" font-size=\"14.00\">value = 679333.33</text>\n",
       "</g>\n",
       "<!-- 2&#45;&gt;6 -->\n",
       "<g id=\"edge8\" class=\"edge\">\n",
       "<title>2&#45;&gt;6</title>\n",
       "<path fill=\"none\" stroke=\"black\" d=\"M805.18,-391.63C849,-320.91 950.87,-156.52 995.68,-84.2\"/>\n",
       "<polygon fill=\"black\" stroke=\"black\" points=\"998.53,-86.26 1000.82,-75.92 992.58,-82.57 998.53,-86.26\"/>\n",
       "</g>\n",
       "</g>\n",
       "</svg>\n"
      ],
      "text/plain": [
       "<graphviz.sources.Source at 0x2a7df0e20>"
      ]
     },
     "execution_count": 24,
     "metadata": {},
     "output_type": "execute_result"
    }
   ],
   "source": [
    "xs, y = tabular_data.train.xs, tabular_data.train.y # The independent and dependent params\n",
    "valid_xs, valid_y = tabular_data.valid.xs, tabular_data.valid.y\n",
    "\n",
    "m = DecisionTreeRegressor(max_leaf_nodes=5)\n",
    "m.fit(xs, y)\n",
    "\n",
    "draw_tree(m, xs, size=10, leaves_parallel=True, precision=2)"
   ]
  },
  {
   "cell_type": "code",
   "execution_count": 25,
   "metadata": {
    "execution": {
     "iopub.status.busy": "2023-05-11T16:38:39.183301Z",
     "iopub.status.idle": "2023-05-11T16:38:39.183991Z",
     "shell.execute_reply": "2023-05-11T16:38:39.183593Z",
     "shell.execute_reply.started": "2023-05-11T16:38:39.183567Z"
    }
   },
   "outputs": [
    {
     "ename": "NameError",
     "evalue": "name 'dtreeviz' is not defined",
     "output_type": "error",
     "traceback": [
      "\u001b[0;31m---------------------------------------------------------------------------\u001b[0m",
      "\u001b[0;31mNameError\u001b[0m                                 Traceback (most recent call last)",
      "Cell \u001b[0;32mIn[25], line 1\u001b[0m\n\u001b[0;32m----> 1\u001b[0m \u001b[43mdtreeviz\u001b[49m\u001b[38;5;241m.\u001b[39mmodel(m,\n\u001b[1;32m      2\u001b[0m                X_train\u001b[38;5;241m=\u001b[39mxs, y_train\u001b[38;5;241m=\u001b[39my,\n\u001b[1;32m      3\u001b[0m                feature_names\u001b[38;5;241m=\u001b[39m\u001b[38;5;28mlist\u001b[39m(xs\u001b[38;5;241m.\u001b[39mcolumns),\n\u001b[1;32m      4\u001b[0m                target_name\u001b[38;5;241m=\u001b[39m\u001b[38;5;124m'\u001b[39m\u001b[38;5;124mSale Price\u001b[39m\u001b[38;5;124m'\u001b[39m)\u001b[38;5;241m.\u001b[39mview()\n",
      "\u001b[0;31mNameError\u001b[0m: name 'dtreeviz' is not defined"
     ]
    }
   ],
   "source": [
    "dtreeviz.model(m,\n",
    "               X_train=xs, y_train=y,\n",
    "               feature_names=list(xs.columns),\n",
    "               target_name='Sale Price').view()"
   ]
  },
  {
   "cell_type": "markdown",
   "metadata": {},
   "source": [
    "Create a decision tree with more nodes. We shouldn't have as many nodes as we can as this will overfit the data."
   ]
  },
  {
   "cell_type": "code",
   "execution_count": 26,
   "metadata": {
    "execution": {
     "iopub.status.busy": "2023-05-11T16:38:39.186005Z",
     "iopub.status.idle": "2023-05-11T16:38:39.186509Z",
     "shell.execute_reply": "2023-05-11T16:38:39.186271Z",
     "shell.execute_reply.started": "2023-05-11T16:38:39.186247Z"
    }
   },
   "outputs": [
    {
     "data": {
      "text/html": [
       "<style>#sk-container-id-1 {color: black;background-color: white;}#sk-container-id-1 pre{padding: 0;}#sk-container-id-1 div.sk-toggleable {background-color: white;}#sk-container-id-1 label.sk-toggleable__label {cursor: pointer;display: block;width: 100%;margin-bottom: 0;padding: 0.3em;box-sizing: border-box;text-align: center;}#sk-container-id-1 label.sk-toggleable__label-arrow:before {content: \"▸\";float: left;margin-right: 0.25em;color: #696969;}#sk-container-id-1 label.sk-toggleable__label-arrow:hover:before {color: black;}#sk-container-id-1 div.sk-estimator:hover label.sk-toggleable__label-arrow:before {color: black;}#sk-container-id-1 div.sk-toggleable__content {max-height: 0;max-width: 0;overflow: hidden;text-align: left;background-color: #f0f8ff;}#sk-container-id-1 div.sk-toggleable__content pre {margin: 0.2em;color: black;border-radius: 0.25em;background-color: #f0f8ff;}#sk-container-id-1 input.sk-toggleable__control:checked~div.sk-toggleable__content {max-height: 200px;max-width: 100%;overflow: auto;}#sk-container-id-1 input.sk-toggleable__control:checked~label.sk-toggleable__label-arrow:before {content: \"▾\";}#sk-container-id-1 div.sk-estimator input.sk-toggleable__control:checked~label.sk-toggleable__label {background-color: #d4ebff;}#sk-container-id-1 div.sk-label input.sk-toggleable__control:checked~label.sk-toggleable__label {background-color: #d4ebff;}#sk-container-id-1 input.sk-hidden--visually {border: 0;clip: rect(1px 1px 1px 1px);clip: rect(1px, 1px, 1px, 1px);height: 1px;margin: -1px;overflow: hidden;padding: 0;position: absolute;width: 1px;}#sk-container-id-1 div.sk-estimator {font-family: monospace;background-color: #f0f8ff;border: 1px dotted black;border-radius: 0.25em;box-sizing: border-box;margin-bottom: 0.5em;}#sk-container-id-1 div.sk-estimator:hover {background-color: #d4ebff;}#sk-container-id-1 div.sk-parallel-item::after {content: \"\";width: 100%;border-bottom: 1px solid gray;flex-grow: 1;}#sk-container-id-1 div.sk-label:hover label.sk-toggleable__label {background-color: #d4ebff;}#sk-container-id-1 div.sk-serial::before {content: \"\";position: absolute;border-left: 1px solid gray;box-sizing: border-box;top: 0;bottom: 0;left: 50%;z-index: 0;}#sk-container-id-1 div.sk-serial {display: flex;flex-direction: column;align-items: center;background-color: white;padding-right: 0.2em;padding-left: 0.2em;position: relative;}#sk-container-id-1 div.sk-item {position: relative;z-index: 1;}#sk-container-id-1 div.sk-parallel {display: flex;align-items: stretch;justify-content: center;background-color: white;position: relative;}#sk-container-id-1 div.sk-item::before, #sk-container-id-1 div.sk-parallel-item::before {content: \"\";position: absolute;border-left: 1px solid gray;box-sizing: border-box;top: 0;bottom: 0;left: 50%;z-index: -1;}#sk-container-id-1 div.sk-parallel-item {display: flex;flex-direction: column;z-index: 1;position: relative;background-color: white;}#sk-container-id-1 div.sk-parallel-item:first-child::after {align-self: flex-end;width: 50%;}#sk-container-id-1 div.sk-parallel-item:last-child::after {align-self: flex-start;width: 50%;}#sk-container-id-1 div.sk-parallel-item:only-child::after {width: 0;}#sk-container-id-1 div.sk-dashed-wrapped {border: 1px dashed gray;margin: 0 0.4em 0.5em 0.4em;box-sizing: border-box;padding-bottom: 0.4em;background-color: white;}#sk-container-id-1 div.sk-label label {font-family: monospace;font-weight: bold;display: inline-block;line-height: 1.2em;}#sk-container-id-1 div.sk-label-container {text-align: center;}#sk-container-id-1 div.sk-container {/* jupyter's `normalize.less` sets `[hidden] { display: none; }` but bootstrap.min.css set `[hidden] { display: none !important; }` so we also need the `!important` here to be able to override the default hidden behavior on the sphinx rendered scikit-learn.org. See: https://github.com/scikit-learn/scikit-learn/issues/21755 */display: inline-block !important;position: relative;}#sk-container-id-1 div.sk-text-repr-fallback {display: none;}</style><div id=\"sk-container-id-1\" class=\"sk-top-container\"><div class=\"sk-text-repr-fallback\"><pre>DecisionTreeRegressor(min_samples_leaf=25)</pre><b>In a Jupyter environment, please rerun this cell to show the HTML representation or trust the notebook. <br />On GitHub, the HTML representation is unable to render, please try loading this page with nbviewer.org.</b></div><div class=\"sk-container\" hidden><div class=\"sk-item\"><div class=\"sk-estimator sk-toggleable\"><input class=\"sk-toggleable__control sk-hidden--visually\" id=\"sk-estimator-id-1\" type=\"checkbox\" checked><label for=\"sk-estimator-id-1\" class=\"sk-toggleable__label sk-toggleable__label-arrow\">DecisionTreeRegressor</label><div class=\"sk-toggleable__content\"><pre>DecisionTreeRegressor(min_samples_leaf=25)</pre></div></div></div></div></div>"
      ],
      "text/plain": [
       "DecisionTreeRegressor(min_samples_leaf=25)"
      ]
     },
     "execution_count": 26,
     "metadata": {},
     "output_type": "execute_result"
    }
   ],
   "source": [
    "m = DecisionTreeRegressor(min_samples_leaf=25)\n",
    "m.fit(xs, y)"
   ]
  },
  {
   "cell_type": "markdown",
   "metadata": {},
   "source": [
    "I'm adding the log here in the `r_mse` function instead of in the data itself. I'm unsure if this is correct but the submission sample suggests the result should just be the predicted price, not the log of it."
   ]
  },
  {
   "cell_type": "code",
   "execution_count": 27,
   "metadata": {
    "execution": {
     "iopub.status.busy": "2023-05-11T16:38:39.189099Z",
     "iopub.status.idle": "2023-05-11T16:38:39.189621Z",
     "shell.execute_reply": "2023-05-11T16:38:39.189380Z",
     "shell.execute_reply.started": "2023-05-11T16:38:39.189356Z"
    }
   },
   "outputs": [],
   "source": [
    "def r_mse(prediction, y): return round(math.sqrt(((np.log(prediction) - np.log(y) ) ** 2).mean()), 6)\n",
    "def m_rmse(model, xs, y): return r_mse(model.predict(xs), y)    "
   ]
  },
  {
   "cell_type": "code",
   "execution_count": 28,
   "metadata": {
    "execution": {
     "iopub.status.busy": "2023-05-11T16:38:39.190945Z",
     "iopub.status.idle": "2023-05-11T16:38:39.191463Z",
     "shell.execute_reply": "2023-05-11T16:38:39.191221Z",
     "shell.execute_reply.started": "2023-05-11T16:38:39.191196Z"
    }
   },
   "outputs": [
    {
     "data": {
      "text/plain": [
       "(0.15964, 0.201589)"
      ]
     },
     "execution_count": 28,
     "metadata": {},
     "output_type": "execute_result"
    }
   ],
   "source": [
    "m_rmse(m, xs, y), m_rmse(m, valid_xs, valid_y)\n",
    "# What are these numbers, what is the kind of scale I should be thinking about\n",
    "# What is a good rmse? The part that's confusing me is the book say 0.331466 is bad but \n",
    "# 0.323396 is good.\n",
    "# In any case (0.165274, 0.197932) looks pretty good."
   ]
  },
  {
   "cell_type": "markdown",
   "metadata": {},
   "source": [
    "## Submit first attempt\n",
    "Take a look at the submission sample to see what we need. A CSV of ID and sale price"
   ]
  },
  {
   "cell_type": "code",
   "execution_count": null,
   "metadata": {
    "execution": {
     "iopub.status.busy": "2023-05-11T16:38:39.192829Z",
     "iopub.status.idle": "2023-05-11T16:38:39.193346Z",
     "shell.execute_reply": "2023-05-11T16:38:39.193108Z",
     "shell.execute_reply.started": "2023-05-11T16:38:39.193084Z"
    }
   },
   "outputs": [],
   "source": [
    "sub_sample = pd.read_csv(path/'sample_submission.csv')\n",
    "sub_sample"
   ]
  },
  {
   "cell_type": "code",
   "execution_count": 29,
   "metadata": {},
   "outputs": [
    {
     "data": {
      "text/plain": [
       "        Id  MSSubClass  MSZoning  LotFrontage  ...  saleIs_quarter_start   \n",
       "0     1461          20         3         80.0  ...                     1  \\\n",
       "1     1462          20         4         81.0  ...                     1   \n",
       "2     1463          60         4         74.0  ...                     1   \n",
       "3     1464          60         4         78.0  ...                     1   \n",
       "4     1465         120         4         43.0  ...                     2   \n",
       "...    ...         ...       ...          ...  ...                   ...   \n",
       "1454  2915         160         5         21.0  ...                     1   \n",
       "1455  2916         160         5         21.0  ...                     2   \n",
       "1456  2917          20         4        160.0  ...                     1   \n",
       "1457  2918          85         4         62.0  ...                     2   \n",
       "1458  2919          60         4         74.0  ...                     1   \n",
       "\n",
       "      saleIs_year_end  saleIs_year_start   saleElapsed  \n",
       "0                   1                  1  1.275350e+09  \n",
       "1                   1                  1  1.275350e+09  \n",
       "2                   1                  1  1.267402e+09  \n",
       "3                   1                  1  1.275350e+09  \n",
       "4                   1                  2  1.262304e+09  \n",
       "...               ...                ...           ...  \n",
       "1454                1                  1  1.149120e+09  \n",
       "1455                1                  1  1.143850e+09  \n",
       "1456                1                  1  1.157069e+09  \n",
       "1457                1                  1  1.151712e+09  \n",
       "1458                1                  1  1.162339e+09  \n",
       "\n",
       "[1459 rows x 93 columns]"
      ]
     },
     "execution_count": 29,
     "metadata": {},
     "output_type": "execute_result"
    }
   ],
   "source": [
    "test_data.train"
   ]
  },
  {
   "cell_type": "code",
   "execution_count": 30,
   "metadata": {},
   "outputs": [
    {
     "data": {
      "text/plain": [
       "1459"
      ]
     },
     "execution_count": 30,
     "metadata": {},
     "output_type": "execute_result"
    }
   ],
   "source": [
    "preds = m.predict(test_data.xs)\n",
    "len(preds)"
   ]
  },
  {
   "cell_type": "code",
   "execution_count": 74,
   "metadata": {},
   "outputs": [],
   "source": [
    "def preds_to_csv(preds, name):\n",
    "    submission = [list(t) for t in list(zip(test_data['Id'], preds))]\n",
    "    sub_df = pd.DataFrame(submission, columns=['Id', 'SalePrice'])\n",
    "    sub_df.to_csv(name, index=False)\n",
    "    !head name"
   ]
  },
  {
   "cell_type": "code",
   "execution_count": 31,
   "metadata": {
    "execution": {
     "iopub.status.busy": "2023-05-11T16:38:39.195012Z",
     "iopub.status.idle": "2023-05-11T16:38:39.195522Z",
     "shell.execute_reply": "2023-05-11T16:38:39.195284Z",
     "shell.execute_reply.started": "2023-05-11T16:38:39.195259Z"
    }
   },
   "outputs": [
    {
     "name": "stdout",
     "output_type": "stream",
     "text": [
      "Id,SalePrice\r\n",
      "1461,134984.16666666666\r\n",
      "1462,152060.3448275862\r\n",
      "1463,169367.4358974359\r\n",
      "1464,183592.0\r\n",
      "1465,230027.89795918367\r\n",
      "1466,196538.0\r\n",
      "1467,165000.72972972973\r\n",
      "1468,172152.28\r\n",
      "1469,167592.85714285713\r\n"
     ]
    }
   ],
   "source": [
    "# Zip up the ids and predictions, then transform to 2D array from Array of tuples\n",
    "submission = [list(t) for t in list(zip(test_data['Id'], preds))]\n",
    "\n",
    "# Convert to Pandas dataframe to output CSV for submission.\n",
    "sub_df = pd.DataFrame(submission, columns=['Id', 'SalePrice'])\n",
    "sub_df.to_csv('subm.csv', index=False)\n",
    "!head subm.csv"
   ]
  },
  {
   "cell_type": "code",
   "execution_count": null,
   "metadata": {
    "execution": {
     "iopub.status.busy": "2023-05-11T16:38:39.197237Z",
     "iopub.status.idle": "2023-05-11T16:38:39.197608Z",
     "shell.execute_reply": "2023-05-11T16:38:39.197444Z",
     "shell.execute_reply.started": "2023-05-11T16:38:39.197427Z"
    }
   },
   "outputs": [],
   "source": [
    "from kaggle import api\n",
    "# api.competition_submit_cli('subm.csv', 'Initial decision tree', comp)\n"
   ]
  },
  {
   "cell_type": "markdown",
   "metadata": {},
   "source": [
    "Score: 0.19112, pretty far down the leaderboard"
   ]
  },
  {
   "cell_type": "markdown",
   "metadata": {},
   "source": [
    "## Random Forests\n",
    "Define a function to return N decision trees"
   ]
  },
  {
   "cell_type": "code",
   "execution_count": 65,
   "metadata": {},
   "outputs": [
    {
     "data": {
      "text/plain": [
       "(0.10054, 0.150968)"
      ]
     },
     "execution_count": 65,
     "metadata": {},
     "output_type": "execute_result"
    }
   ],
   "source": [
    "def random_forest(xs, y, n_estimators=40, max_samples=200_000,\n",
    "                  max_features=0.9, min_samples_leaf=5, **kwargs):\n",
    "    return RandomForestRegressor(n_jobs=-1, n_estimators=n_estimators,\n",
    "        max_samples=max_samples, max_features=max_features,\n",
    "        min_samples_leaf=min_samples_leaf, oob_score=True).fit(xs, y)\n",
    "\n",
    "rf = random_forest(xs, y, max_samples=len(xs))\n",
    "m_rmse(rf, xs, y), m_rmse(rf, valid_xs, valid_y)"
   ]
  },
  {
   "cell_type": "markdown",
   "metadata": {},
   "source": [
    "Lets try and fine a good value for n_estimators"
   ]
  },
  {
   "cell_type": "code",
   "execution_count": 70,
   "metadata": {},
   "outputs": [
    {
     "name": "stderr",
     "output_type": "stream",
     "text": [
      "/Users/stevendiviney/.pyenv/versions/3.9.4/lib/python3.9/site-packages/sklearn/base.py:432: UserWarning: X has feature names, but DecisionTreeRegressor was fitted without feature names\n",
      "/Users/stevendiviney/.pyenv/versions/3.9.4/lib/python3.9/site-packages/sklearn/base.py:432: UserWarning: X has feature names, but DecisionTreeRegressor was fitted without feature names\n",
      "/Users/stevendiviney/.pyenv/versions/3.9.4/lib/python3.9/site-packages/sklearn/base.py:432: UserWarning: X has feature names, but DecisionTreeRegressor was fitted without feature names\n",
      "/Users/stevendiviney/.pyenv/versions/3.9.4/lib/python3.9/site-packages/sklearn/base.py:432: UserWarning: X has feature names, but DecisionTreeRegressor was fitted without feature names\n",
      "/Users/stevendiviney/.pyenv/versions/3.9.4/lib/python3.9/site-packages/sklearn/base.py:432: UserWarning: X has feature names, but DecisionTreeRegressor was fitted without feature names\n",
      "/Users/stevendiviney/.pyenv/versions/3.9.4/lib/python3.9/site-packages/sklearn/base.py:432: UserWarning: X has feature names, but DecisionTreeRegressor was fitted without feature names\n",
      "/Users/stevendiviney/.pyenv/versions/3.9.4/lib/python3.9/site-packages/sklearn/base.py:432: UserWarning: X has feature names, but DecisionTreeRegressor was fitted without feature names\n",
      "/Users/stevendiviney/.pyenv/versions/3.9.4/lib/python3.9/site-packages/sklearn/base.py:432: UserWarning: X has feature names, but DecisionTreeRegressor was fitted without feature names\n",
      "/Users/stevendiviney/.pyenv/versions/3.9.4/lib/python3.9/site-packages/sklearn/base.py:432: UserWarning: X has feature names, but DecisionTreeRegressor was fitted without feature names\n",
      "/Users/stevendiviney/.pyenv/versions/3.9.4/lib/python3.9/site-packages/sklearn/base.py:432: UserWarning: X has feature names, but DecisionTreeRegressor was fitted without feature names\n",
      "/Users/stevendiviney/.pyenv/versions/3.9.4/lib/python3.9/site-packages/sklearn/base.py:432: UserWarning: X has feature names, but DecisionTreeRegressor was fitted without feature names\n",
      "/Users/stevendiviney/.pyenv/versions/3.9.4/lib/python3.9/site-packages/sklearn/base.py:432: UserWarning: X has feature names, but DecisionTreeRegressor was fitted without feature names\n",
      "/Users/stevendiviney/.pyenv/versions/3.9.4/lib/python3.9/site-packages/sklearn/base.py:432: UserWarning: X has feature names, but DecisionTreeRegressor was fitted without feature names\n",
      "/Users/stevendiviney/.pyenv/versions/3.9.4/lib/python3.9/site-packages/sklearn/base.py:432: UserWarning: X has feature names, but DecisionTreeRegressor was fitted without feature names\n",
      "/Users/stevendiviney/.pyenv/versions/3.9.4/lib/python3.9/site-packages/sklearn/base.py:432: UserWarning: X has feature names, but DecisionTreeRegressor was fitted without feature names\n",
      "/Users/stevendiviney/.pyenv/versions/3.9.4/lib/python3.9/site-packages/sklearn/base.py:432: UserWarning: X has feature names, but DecisionTreeRegressor was fitted without feature names\n",
      "/Users/stevendiviney/.pyenv/versions/3.9.4/lib/python3.9/site-packages/sklearn/base.py:432: UserWarning: X has feature names, but DecisionTreeRegressor was fitted without feature names\n",
      "/Users/stevendiviney/.pyenv/versions/3.9.4/lib/python3.9/site-packages/sklearn/base.py:432: UserWarning: X has feature names, but DecisionTreeRegressor was fitted without feature names\n",
      "/Users/stevendiviney/.pyenv/versions/3.9.4/lib/python3.9/site-packages/sklearn/base.py:432: UserWarning: X has feature names, but DecisionTreeRegressor was fitted without feature names\n",
      "/Users/stevendiviney/.pyenv/versions/3.9.4/lib/python3.9/site-packages/sklearn/base.py:432: UserWarning: X has feature names, but DecisionTreeRegressor was fitted without feature names\n",
      "/Users/stevendiviney/.pyenv/versions/3.9.4/lib/python3.9/site-packages/sklearn/base.py:432: UserWarning: X has feature names, but DecisionTreeRegressor was fitted without feature names\n",
      "/Users/stevendiviney/.pyenv/versions/3.9.4/lib/python3.9/site-packages/sklearn/base.py:432: UserWarning: X has feature names, but DecisionTreeRegressor was fitted without feature names\n",
      "/Users/stevendiviney/.pyenv/versions/3.9.4/lib/python3.9/site-packages/sklearn/base.py:432: UserWarning: X has feature names, but DecisionTreeRegressor was fitted without feature names\n",
      "/Users/stevendiviney/.pyenv/versions/3.9.4/lib/python3.9/site-packages/sklearn/base.py:432: UserWarning: X has feature names, but DecisionTreeRegressor was fitted without feature names\n",
      "/Users/stevendiviney/.pyenv/versions/3.9.4/lib/python3.9/site-packages/sklearn/base.py:432: UserWarning: X has feature names, but DecisionTreeRegressor was fitted without feature names\n",
      "/Users/stevendiviney/.pyenv/versions/3.9.4/lib/python3.9/site-packages/sklearn/base.py:432: UserWarning: X has feature names, but DecisionTreeRegressor was fitted without feature names\n",
      "/Users/stevendiviney/.pyenv/versions/3.9.4/lib/python3.9/site-packages/sklearn/base.py:432: UserWarning: X has feature names, but DecisionTreeRegressor was fitted without feature names\n",
      "/Users/stevendiviney/.pyenv/versions/3.9.4/lib/python3.9/site-packages/sklearn/base.py:432: UserWarning: X has feature names, but DecisionTreeRegressor was fitted without feature names\n",
      "/Users/stevendiviney/.pyenv/versions/3.9.4/lib/python3.9/site-packages/sklearn/base.py:432: UserWarning: X has feature names, but DecisionTreeRegressor was fitted without feature names\n",
      "/Users/stevendiviney/.pyenv/versions/3.9.4/lib/python3.9/site-packages/sklearn/base.py:432: UserWarning: X has feature names, but DecisionTreeRegressor was fitted without feature names\n",
      "/Users/stevendiviney/.pyenv/versions/3.9.4/lib/python3.9/site-packages/sklearn/base.py:432: UserWarning: X has feature names, but DecisionTreeRegressor was fitted without feature names\n",
      "/Users/stevendiviney/.pyenv/versions/3.9.4/lib/python3.9/site-packages/sklearn/base.py:432: UserWarning: X has feature names, but DecisionTreeRegressor was fitted without feature names\n",
      "/Users/stevendiviney/.pyenv/versions/3.9.4/lib/python3.9/site-packages/sklearn/base.py:432: UserWarning: X has feature names, but DecisionTreeRegressor was fitted without feature names\n",
      "/Users/stevendiviney/.pyenv/versions/3.9.4/lib/python3.9/site-packages/sklearn/base.py:432: UserWarning: X has feature names, but DecisionTreeRegressor was fitted without feature names\n",
      "/Users/stevendiviney/.pyenv/versions/3.9.4/lib/python3.9/site-packages/sklearn/base.py:432: UserWarning: X has feature names, but DecisionTreeRegressor was fitted without feature names\n",
      "/Users/stevendiviney/.pyenv/versions/3.9.4/lib/python3.9/site-packages/sklearn/base.py:432: UserWarning: X has feature names, but DecisionTreeRegressor was fitted without feature names\n",
      "/Users/stevendiviney/.pyenv/versions/3.9.4/lib/python3.9/site-packages/sklearn/base.py:432: UserWarning: X has feature names, but DecisionTreeRegressor was fitted without feature names\n",
      "/Users/stevendiviney/.pyenv/versions/3.9.4/lib/python3.9/site-packages/sklearn/base.py:432: UserWarning: X has feature names, but DecisionTreeRegressor was fitted without feature names\n",
      "/Users/stevendiviney/.pyenv/versions/3.9.4/lib/python3.9/site-packages/sklearn/base.py:432: UserWarning: X has feature names, but DecisionTreeRegressor was fitted without feature names\n",
      "/Users/stevendiviney/.pyenv/versions/3.9.4/lib/python3.9/site-packages/sklearn/base.py:432: UserWarning: X has feature names, but DecisionTreeRegressor was fitted without feature names\n"
     ]
    },
    {
     "data": {
      "text/plain": [
       "[<matplotlib.lines.Line2D at 0x2a8dcefa0>]"
      ]
     },
     "execution_count": 70,
     "metadata": {},
     "output_type": "execute_result"
    },
    {
     "data": {
      "image/png": "[encoded data removed]",
      "text/plain": [
       "<Figure size 640x480 with 1 Axes>"
      ]
     },
     "metadata": {},
     "output_type": "display_data"
    }
   ],
   "source": [
    "preds_rf = np.stack([tree.predict(valid_xs) for tree in rf.estimators_])\n",
    "r_mse(preds_rf.mean(0), valid_y)\n",
    "plt.plot([r_mse(preds_rf[:i+1].mean(0), valid_y) for i in range(40)])"
   ]
  },
  {
   "cell_type": "markdown",
   "metadata": {},
   "source": [
    "Lets submit this set of predictions"
   ]
  },
  {
   "cell_type": "code",
   "execution_count": 72,
   "metadata": {},
   "outputs": [
    {
     "data": {
      "text/plain": [
       "1459"
      ]
     },
     "execution_count": 72,
     "metadata": {},
     "output_type": "execute_result"
    }
   ],
   "source": [
    "rf_preds = rf.predict(test_data.xs)\n",
    "len(rf_preds)"
   ]
  },
  {
   "cell_type": "code",
   "execution_count": 75,
   "metadata": {},
   "outputs": [
    {
     "name": "stdout",
     "output_type": "stream",
     "text": [
      "head: name: No such file or directory\r\n"
     ]
    }
   ],
   "source": [
    "preds_to_csv(rf_preds, 'rf_subm.csv')"
   ]
  }
 ],
 "metadata": {
  "kernelspec": {
   "display_name": "Python 3 (ipykernel)",
   "language": "python",
   "name": "python3"
  },
  "language_info": {
   "codemirror_mode": {
    "name": "ipython",
    "version": 3
   },
   "file_extension": ".py",
   "mimetype": "text/x-python",
   "name": "python",
   "nbconvert_exporter": "python",
   "pygments_lexer": "ipython3",
   "version": "3.9.4"
  }
 },
 "nbformat": 4,
 "nbformat_minor": 4
}
